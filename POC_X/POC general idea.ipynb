{
 "cells": [
  {
   "cell_type": "code",
   "execution_count": 1,
   "metadata": {},
   "outputs": [
    {
     "name": "stdout",
     "output_type": "stream",
     "text": [
      "<class 'pandas.core.frame.DataFrame'>\n",
      "RangeIndex: 3302 entries, 0 to 3301\n",
      "Data columns (total 26 columns):\n",
      " #   Column                 Non-Null Count  Dtype         \n",
      "---  ------                 --------------  -----         \n",
      " 0   Task ID                3302 non-null   int64         \n",
      " 1   Task Name              3302 non-null   object        \n",
      " 2   Owner                  3302 non-null   object        \n",
      " 3   Priority               421 non-null    object        \n",
      " 4   Start Date             2963 non-null   datetime64[ns]\n",
      " 5   Due Date               2963 non-null   datetime64[ns]\n",
      " 6   Created Time           3302 non-null   datetime64[ns]\n",
      " 7   Status                 3302 non-null   object        \n",
      " 8   Is Overdue             3302 non-null   object        \n",
      " 9   Completion Percentage  3302 non-null   float64       \n",
      " 10  Project Name           3302 non-null   object        \n",
      " 11  Milestone Name         2935 non-null   object        \n",
      " 12  Project ID             3302 non-null   int64         \n",
      " 13  Milestone ID           3302 non-null   int64         \n",
      " 14  Parent Task ID         217 non-null    float64       \n",
      " 15  Created By ID          3302 non-null   int64         \n",
      " 16  Owner IDs              3302 non-null   object        \n",
      " 17  Task Delay Time        2963 non-null   float64       \n",
      " 18  Task Completion Mode   3302 non-null   object        \n",
      " 19  Actual Time Taken      2963 non-null   float64       \n",
      " 20  Time Spent So Far      3302 non-null   int64         \n",
      " 21  Duration_1             3302 non-null   float64       \n",
      " 22  Duration Unit          3302 non-null   object        \n",
      " 23  Rate Per Hour          0 non-null      float64       \n",
      " 24  Clarity Level          1227 non-null   object        \n",
      " 25  QC Owner               573 non-null    object        \n",
      "dtypes: datetime64[ns](3), float64(6), int64(5), object(12)\n",
      "memory usage: 670.8+ KB\n"
     ]
    }
   ],
   "source": [
    "import pandas as pd\n",
    "example=pd.read_excel(r\"C:\\Users\\HP\\Documents\\POC_X\\Tasks 1.xlsx\")\n",
    "example.info()"
   ]
  },
  {
   "cell_type": "code",
   "execution_count": null,
   "metadata": {},
   "outputs": [],
   "source": []
  },
  {
   "cell_type": "code",
   "execution_count": 3,
   "metadata": {},
   "outputs": [],
   "source": [
    "# example[\"Status\"] == \"In Progress\""
   ]
  },
  {
   "cell_type": "code",
   "execution_count": 4,
   "metadata": {},
   "outputs": [
    {
     "data": {
      "text/html": [
       "<div>\n",
       "<style scoped>\n",
       "    .dataframe tbody tr th:only-of-type {\n",
       "        vertical-align: middle;\n",
       "    }\n",
       "\n",
       "    .dataframe tbody tr th {\n",
       "        vertical-align: top;\n",
       "    }\n",
       "\n",
       "    .dataframe thead th {\n",
       "        text-align: right;\n",
       "    }\n",
       "</style>\n",
       "<table border=\"1\" class=\"dataframe\">\n",
       "  <thead>\n",
       "    <tr style=\"text-align: right;\">\n",
       "      <th></th>\n",
       "      <th>Task ID</th>\n",
       "      <th>Task Name</th>\n",
       "      <th>Owner</th>\n",
       "      <th>Priority</th>\n",
       "      <th>Start Date</th>\n",
       "      <th>Due Date</th>\n",
       "      <th>Created Time</th>\n",
       "      <th>Status</th>\n",
       "      <th>Is Overdue</th>\n",
       "      <th>Completion Percentage</th>\n",
       "      <th>...</th>\n",
       "      <th>Owner IDs</th>\n",
       "      <th>Task Delay Time</th>\n",
       "      <th>Task Completion Mode</th>\n",
       "      <th>Actual Time Taken</th>\n",
       "      <th>Time Spent So Far</th>\n",
       "      <th>Duration_1</th>\n",
       "      <th>Duration Unit</th>\n",
       "      <th>Rate Per Hour</th>\n",
       "      <th>Clarity Level</th>\n",
       "      <th>QC Owner</th>\n",
       "    </tr>\n",
       "  </thead>\n",
       "  <tbody>\n",
       "    <tr>\n",
       "      <th>0</th>\n",
       "      <td>749813000020764032</td>\n",
       "      <td>Create Partial Invoice</td>\n",
       "      <td>Shavi Thakur</td>\n",
       "      <td>not_exists</td>\n",
       "      <td>2024-03-15 09:30:00</td>\n",
       "      <td>2024-03-15 19:00:00</td>\n",
       "      <td>2024-03-15 18:26:00</td>\n",
       "      <td>To Do</td>\n",
       "      <td>Yes</td>\n",
       "      <td>0.0</td>\n",
       "      <td>...</td>\n",
       "      <td>773081417</td>\n",
       "      <td>3.0</td>\n",
       "      <td>Late</td>\n",
       "      <td>4.0</td>\n",
       "      <td>4</td>\n",
       "      <td>1.00</td>\n",
       "      <td>days</td>\n",
       "      <td>not_exists</td>\n",
       "      <td>Clear</td>\n",
       "      <td>Mohammed Yusha</td>\n",
       "    </tr>\n",
       "    <tr>\n",
       "      <th>1</th>\n",
       "      <td>749813000020764032</td>\n",
       "      <td>CEEW -Daily Team Catchup</td>\n",
       "      <td>Stuti S. Kulshrestha</td>\n",
       "      <td>not_exists</td>\n",
       "      <td>2024-03-15 09:30:00</td>\n",
       "      <td>2024-03-15 19:00:00</td>\n",
       "      <td>2024-03-15 09:41:00</td>\n",
       "      <td>In Progress</td>\n",
       "      <td>Yes</td>\n",
       "      <td>0.1</td>\n",
       "      <td>...</td>\n",
       "      <td>808004288</td>\n",
       "      <td>3.0</td>\n",
       "      <td>Late</td>\n",
       "      <td>4.0</td>\n",
       "      <td>4</td>\n",
       "      <td>1.00</td>\n",
       "      <td>days</td>\n",
       "      <td>not_exists</td>\n",
       "      <td>Clear</td>\n",
       "      <td>Stuti S. Kulshrestha</td>\n",
       "    </tr>\n",
       "    <tr>\n",
       "      <th>2</th>\n",
       "      <td>749813000020761984</td>\n",
       "      <td>Auto populate Business Description and References</td>\n",
       "      <td>Pavan S</td>\n",
       "      <td>not_exists</td>\n",
       "      <td>2024-03-16 14:15:00</td>\n",
       "      <td>2024-03-16 18:30:00</td>\n",
       "      <td>2024-03-16 14:11:00</td>\n",
       "      <td>To Do</td>\n",
       "      <td>Yes</td>\n",
       "      <td>0.0</td>\n",
       "      <td>...</td>\n",
       "      <td>845599619</td>\n",
       "      <td>2.0</td>\n",
       "      <td>Late</td>\n",
       "      <td>3.0</td>\n",
       "      <td>3</td>\n",
       "      <td>4.25</td>\n",
       "      <td>hrs</td>\n",
       "      <td>not_exists</td>\n",
       "      <td>Not Clear</td>\n",
       "      <td>not_exists</td>\n",
       "    </tr>\n",
       "    <tr>\n",
       "      <th>3</th>\n",
       "      <td>749813000020761984</td>\n",
       "      <td>OEM and Prod Category Reports</td>\n",
       "      <td>Achyuth T M</td>\n",
       "      <td>High</td>\n",
       "      <td>2024-03-15 09:30:00</td>\n",
       "      <td>2024-03-22 19:00:00</td>\n",
       "      <td>2024-03-15 10:27:00</td>\n",
       "      <td>In Progress</td>\n",
       "      <td>No</td>\n",
       "      <td>0.0</td>\n",
       "      <td>...</td>\n",
       "      <td>708853094</td>\n",
       "      <td>-4.0</td>\n",
       "      <td>On Time</td>\n",
       "      <td>4.0</td>\n",
       "      <td>4</td>\n",
       "      <td>6.00</td>\n",
       "      <td>days</td>\n",
       "      <td>not_exists</td>\n",
       "      <td>not_exists</td>\n",
       "      <td>not_exists</td>\n",
       "    </tr>\n",
       "    <tr>\n",
       "      <th>4</th>\n",
       "      <td>749813000020760960</td>\n",
       "      <td>Map App status with Zoho</td>\n",
       "      <td>Vikram Pai V</td>\n",
       "      <td>not_exists</td>\n",
       "      <td>2024-03-15 09:30:00</td>\n",
       "      <td>2024-03-15 19:00:00</td>\n",
       "      <td>2024-03-15 13:24:00</td>\n",
       "      <td>To Do</td>\n",
       "      <td>Yes</td>\n",
       "      <td>0.0</td>\n",
       "      <td>...</td>\n",
       "      <td>845596686</td>\n",
       "      <td>3.0</td>\n",
       "      <td>Late</td>\n",
       "      <td>4.0</td>\n",
       "      <td>4</td>\n",
       "      <td>1.00</td>\n",
       "      <td>days</td>\n",
       "      <td>not_exists</td>\n",
       "      <td>not_exists</td>\n",
       "      <td>not_exists</td>\n",
       "    </tr>\n",
       "    <tr>\n",
       "      <th>...</th>\n",
       "      <td>...</td>\n",
       "      <td>...</td>\n",
       "      <td>...</td>\n",
       "      <td>...</td>\n",
       "      <td>...</td>\n",
       "      <td>...</td>\n",
       "      <td>...</td>\n",
       "      <td>...</td>\n",
       "      <td>...</td>\n",
       "      <td>...</td>\n",
       "      <td>...</td>\n",
       "      <td>...</td>\n",
       "      <td>...</td>\n",
       "      <td>...</td>\n",
       "      <td>...</td>\n",
       "      <td>...</td>\n",
       "      <td>...</td>\n",
       "      <td>...</td>\n",
       "      <td>...</td>\n",
       "      <td>...</td>\n",
       "      <td>...</td>\n",
       "    </tr>\n",
       "    <tr>\n",
       "      <th>3297</th>\n",
       "      <td>749813000019883008</td>\n",
       "      <td>Fulfillment changes - HTML</td>\n",
       "      <td>Mallesh M S</td>\n",
       "      <td>not_exists</td>\n",
       "      <td>2024-01-02 09:30:00</td>\n",
       "      <td>2024-01-03 19:00:00</td>\n",
       "      <td>2024-01-02 10:26:00</td>\n",
       "      <td>Done</td>\n",
       "      <td>No</td>\n",
       "      <td>1.0</td>\n",
       "      <td>...</td>\n",
       "      <td>778475418</td>\n",
       "      <td>0.0</td>\n",
       "      <td>Late</td>\n",
       "      <td>2.0</td>\n",
       "      <td>2</td>\n",
       "      <td>2.00</td>\n",
       "      <td>days</td>\n",
       "      <td>not_exists</td>\n",
       "      <td>Clear</td>\n",
       "      <td>Dharanidharan C</td>\n",
       "    </tr>\n",
       "    <tr>\n",
       "      <th>3298</th>\n",
       "      <td>749813000019873024</td>\n",
       "      <td>Leads - Annual Revenue cannot be less than 0 -...</td>\n",
       "      <td>M S Satya</td>\n",
       "      <td>not_exists</td>\n",
       "      <td>2023-12-25 09:30:00</td>\n",
       "      <td>2023-12-29 19:00:00</td>\n",
       "      <td>2024-01-01 23:19:00</td>\n",
       "      <td>QA level 1 Completed</td>\n",
       "      <td>Yes</td>\n",
       "      <td>0.1</td>\n",
       "      <td>...</td>\n",
       "      <td>789497933</td>\n",
       "      <td>80.0</td>\n",
       "      <td>Late</td>\n",
       "      <td>85.0</td>\n",
       "      <td>85</td>\n",
       "      <td>5.00</td>\n",
       "      <td>days</td>\n",
       "      <td>not_exists</td>\n",
       "      <td>Clear</td>\n",
       "      <td>not_exists</td>\n",
       "    </tr>\n",
       "    <tr>\n",
       "      <th>3299</th>\n",
       "      <td>749813000019870976</td>\n",
       "      <td>Quote Module Automation</td>\n",
       "      <td>Mohammed Yusha,Anusuyadevi V,Tanu Gupta</td>\n",
       "      <td>not_exists</td>\n",
       "      <td>2024-01-02 09:30:00</td>\n",
       "      <td>2024-01-04 19:00:00</td>\n",
       "      <td>2024-01-02 10:35:00</td>\n",
       "      <td>Done</td>\n",
       "      <td>No</td>\n",
       "      <td>1.0</td>\n",
       "      <td>...</td>\n",
       "      <td>701373265,786479121,790157522</td>\n",
       "      <td>6.0</td>\n",
       "      <td>Late</td>\n",
       "      <td>9.0</td>\n",
       "      <td>9</td>\n",
       "      <td>3.00</td>\n",
       "      <td>days</td>\n",
       "      <td>not_exists</td>\n",
       "      <td>not_exists</td>\n",
       "      <td>not_exists</td>\n",
       "    </tr>\n",
       "    <tr>\n",
       "      <th>3300</th>\n",
       "      <td>749813000019870976</td>\n",
       "      <td>PDF Fields data fetch from the CRM Submittal a...</td>\n",
       "      <td>Ayush Singh,Mary Nisha</td>\n",
       "      <td>not_exists</td>\n",
       "      <td>2024-01-02 09:30:00</td>\n",
       "      <td>2024-01-02 19:00:00</td>\n",
       "      <td>2024-01-02 10:30:00</td>\n",
       "      <td>Development Complete</td>\n",
       "      <td>Yes</td>\n",
       "      <td>0.1</td>\n",
       "      <td>...</td>\n",
       "      <td>772908679,775643568</td>\n",
       "      <td>76.0</td>\n",
       "      <td>Late</td>\n",
       "      <td>77.0</td>\n",
       "      <td>77</td>\n",
       "      <td>1.00</td>\n",
       "      <td>days</td>\n",
       "      <td>not_exists</td>\n",
       "      <td>Clear</td>\n",
       "      <td>Dharanidharan C</td>\n",
       "    </tr>\n",
       "    <tr>\n",
       "      <th>3301</th>\n",
       "      <td>749813000019869952</td>\n",
       "      <td>Create 2 forms Subscription +Training</td>\n",
       "      <td>Aaftab Ahmad</td>\n",
       "      <td>not_exists</td>\n",
       "      <td>2023-12-29 09:30:00</td>\n",
       "      <td>2023-12-29 19:00:00</td>\n",
       "      <td>2024-01-02 09:30:00</td>\n",
       "      <td>Done</td>\n",
       "      <td>No</td>\n",
       "      <td>1.0</td>\n",
       "      <td>...</td>\n",
       "      <td>776475994</td>\n",
       "      <td>11.0</td>\n",
       "      <td>Late</td>\n",
       "      <td>12.0</td>\n",
       "      <td>12</td>\n",
       "      <td>1.00</td>\n",
       "      <td>days</td>\n",
       "      <td>not_exists</td>\n",
       "      <td>Clear</td>\n",
       "      <td>Waheeba Khan</td>\n",
       "    </tr>\n",
       "  </tbody>\n",
       "</table>\n",
       "<p>3302 rows × 26 columns</p>\n",
       "</div>"
      ],
      "text/plain": [
       "                 Task ID                                          Task Name  \\\n",
       "0     749813000020764032                             Create Partial Invoice   \n",
       "1     749813000020764032                           CEEW -Daily Team Catchup   \n",
       "2     749813000020761984  Auto populate Business Description and References   \n",
       "3     749813000020761984                      OEM and Prod Category Reports   \n",
       "4     749813000020760960                           Map App status with Zoho   \n",
       "...                  ...                                                ...   \n",
       "3297  749813000019883008                         Fulfillment changes - HTML   \n",
       "3298  749813000019873024  Leads - Annual Revenue cannot be less than 0 -...   \n",
       "3299  749813000019870976                            Quote Module Automation   \n",
       "3300  749813000019870976  PDF Fields data fetch from the CRM Submittal a...   \n",
       "3301  749813000019869952              Create 2 forms Subscription +Training   \n",
       "\n",
       "                                        Owner    Priority  \\\n",
       "0                                Shavi Thakur  not_exists   \n",
       "1                        Stuti S. Kulshrestha  not_exists   \n",
       "2                                     Pavan S  not_exists   \n",
       "3                                 Achyuth T M        High   \n",
       "4                                Vikram Pai V  not_exists   \n",
       "...                                       ...         ...   \n",
       "3297                              Mallesh M S  not_exists   \n",
       "3298                                M S Satya  not_exists   \n",
       "3299  Mohammed Yusha,Anusuyadevi V,Tanu Gupta  not_exists   \n",
       "3300                   Ayush Singh,Mary Nisha  not_exists   \n",
       "3301                             Aaftab Ahmad  not_exists   \n",
       "\n",
       "               Start Date             Due Date        Created Time  \\\n",
       "0     2024-03-15 09:30:00  2024-03-15 19:00:00 2024-03-15 18:26:00   \n",
       "1     2024-03-15 09:30:00  2024-03-15 19:00:00 2024-03-15 09:41:00   \n",
       "2     2024-03-16 14:15:00  2024-03-16 18:30:00 2024-03-16 14:11:00   \n",
       "3     2024-03-15 09:30:00  2024-03-22 19:00:00 2024-03-15 10:27:00   \n",
       "4     2024-03-15 09:30:00  2024-03-15 19:00:00 2024-03-15 13:24:00   \n",
       "...                   ...                  ...                 ...   \n",
       "3297  2024-01-02 09:30:00  2024-01-03 19:00:00 2024-01-02 10:26:00   \n",
       "3298  2023-12-25 09:30:00  2023-12-29 19:00:00 2024-01-01 23:19:00   \n",
       "3299  2024-01-02 09:30:00  2024-01-04 19:00:00 2024-01-02 10:35:00   \n",
       "3300  2024-01-02 09:30:00  2024-01-02 19:00:00 2024-01-02 10:30:00   \n",
       "3301  2023-12-29 09:30:00  2023-12-29 19:00:00 2024-01-02 09:30:00   \n",
       "\n",
       "                    Status Is Overdue  Completion Percentage  ...  \\\n",
       "0                    To Do        Yes                    0.0  ...   \n",
       "1              In Progress        Yes                    0.1  ...   \n",
       "2                    To Do        Yes                    0.0  ...   \n",
       "3              In Progress         No                    0.0  ...   \n",
       "4                    To Do        Yes                    0.0  ...   \n",
       "...                    ...        ...                    ...  ...   \n",
       "3297                  Done         No                    1.0  ...   \n",
       "3298  QA level 1 Completed        Yes                    0.1  ...   \n",
       "3299                  Done         No                    1.0  ...   \n",
       "3300  Development Complete        Yes                    0.1  ...   \n",
       "3301                  Done         No                    1.0  ...   \n",
       "\n",
       "                          Owner IDs Task Delay Time  Task Completion Mode  \\\n",
       "0                         773081417             3.0                  Late   \n",
       "1                         808004288             3.0                  Late   \n",
       "2                         845599619             2.0                  Late   \n",
       "3                         708853094            -4.0               On Time   \n",
       "4                         845596686             3.0                  Late   \n",
       "...                             ...             ...                   ...   \n",
       "3297                      778475418             0.0                  Late   \n",
       "3298                      789497933            80.0                  Late   \n",
       "3299  701373265,786479121,790157522             6.0                  Late   \n",
       "3300            772908679,775643568            76.0                  Late   \n",
       "3301                      776475994            11.0                  Late   \n",
       "\n",
       "      Actual Time Taken Time Spent So Far  Duration_1 Duration Unit  \\\n",
       "0                   4.0                 4        1.00          days   \n",
       "1                   4.0                 4        1.00          days   \n",
       "2                   3.0                 3        4.25           hrs   \n",
       "3                   4.0                 4        6.00          days   \n",
       "4                   4.0                 4        1.00          days   \n",
       "...                 ...               ...         ...           ...   \n",
       "3297                2.0                 2        2.00          days   \n",
       "3298               85.0                85        5.00          days   \n",
       "3299                9.0                 9        3.00          days   \n",
       "3300               77.0                77        1.00          days   \n",
       "3301               12.0                12        1.00          days   \n",
       "\n",
       "     Rate Per Hour Clarity Level              QC Owner  \n",
       "0       not_exists         Clear        Mohammed Yusha  \n",
       "1       not_exists         Clear  Stuti S. Kulshrestha  \n",
       "2       not_exists     Not Clear            not_exists  \n",
       "3       not_exists    not_exists            not_exists  \n",
       "4       not_exists    not_exists            not_exists  \n",
       "...            ...           ...                   ...  \n",
       "3297    not_exists         Clear       Dharanidharan C  \n",
       "3298    not_exists         Clear            not_exists  \n",
       "3299    not_exists    not_exists            not_exists  \n",
       "3300    not_exists         Clear       Dharanidharan C  \n",
       "3301    not_exists         Clear          Waheeba Khan  \n",
       "\n",
       "[3302 rows x 26 columns]"
      ]
     },
     "execution_count": 4,
     "metadata": {},
     "output_type": "execute_result"
    }
   ],
   "source": [
    "example.fillna(\"not_exists\")"
   ]
  },
  {
   "cell_type": "code",
   "execution_count": null,
   "metadata": {},
   "outputs": [],
   "source": []
  },
  {
   "cell_type": "code",
   "execution_count": 176,
   "metadata": {},
   "outputs": [
    {
     "data": {
      "text/plain": [
       "Owner\n",
       "Kiran Shrivastav                       199\n",
       "Tanu Gupta                             164\n",
       "Sachin Patil                           159\n",
       "Monik Chettiyar                        132\n",
       "Swetha K                               123\n",
       "                                      ... \n",
       "Swetha K,Aaftab Ahmad                    1\n",
       "Kris Oswold,Constance Jones              1\n",
       "Vignesh R,Mallesh M S                    1\n",
       "Waheeba Khan,Supril Jain,Tanu Gupta      1\n",
       "Supril Jain,Maninder Singh               1\n",
       "Name: count, Length: 183, dtype: int64"
      ]
     },
     "execution_count": 176,
     "metadata": {},
     "output_type": "execute_result"
    }
   ],
   "source": [
    "example.Owner.value_counts()"
   ]
  },
  {
   "cell_type": "code",
   "execution_count": 37,
   "metadata": {},
   "outputs": [
    {
     "data": {
      "text/plain": [
       "Index(['Task ID', 'Task Name', 'Owner', 'Priority', 'Start Date', 'Due Date',\n",
       "       'Created Time', 'Status', 'Is Overdue', 'Completion Percentage',\n",
       "       'Project Name', 'Milestone Name', 'Project ID', 'Milestone ID',\n",
       "       'Parent Task ID', 'Created By ID', 'Owner IDs', 'Task Delay Time',\n",
       "       'Task Completion Mode', 'Actual Time Taken', 'Time Spent So Far',\n",
       "       'Duration_1', 'Duration Unit', 'Rate Per Hour', 'Clarity Level',\n",
       "       'QC Owner'],\n",
       "      dtype='object')"
      ]
     },
     "execution_count": 37,
     "metadata": {},
     "output_type": "execute_result"
    }
   ],
   "source": [
    "example.columns"
   ]
  },
  {
   "cell_type": "code",
   "execution_count": 5,
   "metadata": {},
   "outputs": [],
   "source": [
    "import pandas as pd\n",
    "\n",
    "# Load the Excel file\n",
    "# file_path = 'your_excel_file.xlsx'  # Replace with your file path\n",
    "df = example\n",
    "\n",
    "# Function to format a single row into the desired string\n",
    "def format_task(row):\n",
    "    return (f\"Task ID: {row['Task ID']}\\n\"\n",
    "            f\"Task Name: {row['Task Name']}\\n\"\n",
    "            f\"Task Creation Time: {row['Created Time']}\\n\"\n",
    "            f\"Task Ending Time: {row['Due Date']}\\n\"\n",
    "            f\"Status: {row['Status']}\\n\"\n",
    "            f\"Created By: {row['Created By ID']}\\n\"\n",
    "            f\"Owner: {row['Owner']}\\n\"\n",
    "            f\"Project Details:\\n\"\n",
    "            f\"    Priority: {row['Priority']}\\n\"\n",
    "            f\"    Description: {row.get('Description', 'N/A')}\\n\"  # Ensure Description exists in your data\n",
    "            f\"    Dependencies: {row.get('Dependencies', 'N/A')}\\n\"  # Ensure Dependencies exists in your data\n",
    "            f\"    Estimated Hours: {row.get('Estimated Hours', 'N/A')}\\n\"  # Ensure Estimated Hours exists in your data\n",
    "            f\"    Actual Hours: {row.get('Actual Time Taken', 'N/A')}\\n\"\n",
    "            f\"    Notes: {row.get('Notes', 'N/A')}\\n\")  # Ensure Notes exists in your data\n",
    "\n",
    "# Apply the formatting function to each row\n",
    "formatted_tasks = df.apply(format_task, axis=1).tolist()\n",
    "\n",
    "final_lis=[]\n",
    "# Output formatted tasks\n",
    "for task in formatted_tasks:\n",
    "    # print(task)\n",
    "    final_lis.append(task)\n",
    "    # print('-' * 80)  # Separator for clarity\n"
   ]
  },
  {
   "cell_type": "code",
   "execution_count": null,
   "metadata": {},
   "outputs": [],
   "source": []
  },
  {
   "cell_type": "code",
   "execution_count": null,
   "metadata": {},
   "outputs": [],
   "source": []
  },
  {
   "cell_type": "code",
   "execution_count": 49,
   "metadata": {},
   "outputs": [],
   "source": [
    "# from datetime import datetime\n",
    "\n",
    "# # Sample JSON task\n",
    "# task_json = [{\n",
    "#   \"task_id\": \"T001\",\n",
    "#   \"task_name\": \"Design Circuit Board\",\n",
    "#   \"task_creation_time\": \"2024-07-25T09:00:00Z\",\n",
    "#   \"task_ending_time\": \"2024-08-01T17:00:00Z\",\n",
    "#   \"status\": \"inprogress\",\n",
    "#   \"created_by\": \"John Doe\",\n",
    "#   \"owner\": \"Jane Smith\",\n",
    "#   \"project_details\": {\n",
    "#     \"priority\": \"High\",\n",
    "#     \"description\": \"Designing the main circuit board for the new product line.\",\n",
    "#     \"dependencies\": [\"T002\", \"T003\"],\n",
    "#     \"estimated_hours\": 40,\n",
    "#     \"actual_hours\": 20,\n",
    "#     \"notes\": \"Ensure compliance with all regulatory standards.\"\n",
    "#   }},\n",
    "#   {\n",
    "#   \"task_id\": \"T002\",\n",
    "#   \"task_name\": \"Develop Firmware\",\n",
    "#   \"task_creation_time\": \"2024-07-26T10:00:00Z\",\n",
    "#   \"task_ending_time\": \"2024-08-10T18:00:00Z\",\n",
    "#   \"status\": \"pending\",\n",
    "#   \"created_by\": \"Alice Johnson\",\n",
    "#   \"owner\": \"Bob Brown\",\n",
    "#   \"project_details\": {\n",
    "#     \"priority\": \"Medium\",\n",
    "#     \"description\": \"Developing the firmware for the new circuit board.\",\n",
    "#     \"dependencies\": [\"T001\"],\n",
    "#     \"estimated_hours\": 60,\n",
    "#     \"actual_hours\": 0,\n",
    "#     \"notes\": \"Firmware must be compatible with all existing systems.\"\n",
    "# }\n",
    "# },\n",
    "\n",
    "# {\n",
    "#   \"task_id\": \"T003\",\n",
    "#   \"task_name\": \"Test Circuit Board\",\n",
    "#   \"task_creation_time\": \"2024-07-27T11:00:00Z\",\n",
    "#   \"task_ending_time\": \"2024-08-15T16:00:00Z\",\n",
    "#   \"status\": \"pending\",\n",
    "#   \"created_by\": \"Charlie Davis\",\n",
    "#   \"owner\": \"Dana White\",\n",
    "#   \"project_details\": {\n",
    "#     \"priority\": \"High\",\n",
    "#     \"description\": \"Testing the newly designed circuit board for functionality and durability.\",\n",
    "#     \"dependencies\": [\"T001\"],\n",
    "#     \"estimated_hours\": 50,\n",
    "#     \"actual_hours\": 0,\n",
    "#     \"notes\": \"Include stress testing and temperature variations.\"\n",
    "#   }\n",
    "# }\n",
    "# ]\n",
    "\n",
    "# table_to_text= []\n",
    "\n",
    "# for task in task_json:\n",
    "#     # Convert datetime strings to datetime objects\n",
    "#     task_creation_time = datetime.fromisoformat(task['task_creation_time'].replace('Z', '+00:00'))\n",
    "#     task_ending_time = datetime.fromisoformat(task['task_ending_time'].replace('Z', '+00:00'))\n",
    "\n",
    "#     # Initialize description\n",
    "#     description = \"\"\n",
    "\n",
    "#     # Append task details\n",
    "#     description += f\"Task ID: {task['task_id']}\\n\"\n",
    "#     description += f\"Task Name: {task['task_name']}\\n\"\n",
    "#     description += f\"Task Creation Time: {task_creation_time.strftime('%Y-%m-%d %H:%M:%S')}\\n\"\n",
    "#     description += f\"Task Ending Time: {task_ending_time.strftime('%Y-%m-%d %H:%M:%S')}\\n\"\n",
    "#     description += f\"Status: {task['status']}\\n\"\n",
    "#     description += f\"Created By: {task['created_by']}\\n\"\n",
    "#     description += f\"Owner: {task['owner']}\\n\"\n",
    "\n",
    "#     # Append project details\n",
    "#     description += \"Project Details:\\n\"\n",
    "#     description += f\"    Priority: {task['project_details']['priority']}\\n\"\n",
    "#     description += f\"    Description: {task['project_details']['description']}\\n\"\n",
    "#     description += f\"    Dependencies: {', '.join(task['project_details']['dependencies'])}\\n\"\n",
    "#     description += f\"    Estimated Hours: {task['project_details']['estimated_hours']}\\n\"\n",
    "#     description += f\"    Actual Hours: {task['project_details']['actual_hours']}\\n\"\n",
    "#     description += f\"    Notes: {task['project_details']['notes']}\\n\"\n",
    "\n",
    "#     # Print the description\n",
    "#     table_to_text.append(description)\n"
   ]
  },
  {
   "cell_type": "code",
   "execution_count": 6,
   "metadata": {},
   "outputs": [],
   "source": [
    "table_to_text=final_lis"
   ]
  },
  {
   "cell_type": "code",
   "execution_count": 2,
   "metadata": {},
   "outputs": [],
   "source": [
    "# from langchain_huggingface import HuggingFaceEmbeddings\n",
    "# model_name = \"BAAI/bge-small-en-v1.5\"\n",
    "# model_kwargs = {'device': 'cpu'}\n",
    "# encode_kwargs = {'normalize_embeddings': True}\n",
    "# hf = HuggingFaceEmbeddings(\n",
    "# model_name=model_name,\n",
    "# model_kwargs=model_kwargs,\n",
    "# encode_kwargs=encode_kwargs\n",
    "# )"
   ]
  },
  {
   "cell_type": "code",
   "execution_count": 7,
   "metadata": {},
   "outputs": [
    {
     "name": "stderr",
     "output_type": "stream",
     "text": [
      "C:\\Users\\HP\\anaconda3\\envs\\poc\\lib\\site-packages\\sentence_transformers\\cross_encoder\\CrossEncoder.py:11: TqdmWarning: IProgress not found. Please update jupyter and ipywidgets. See https://ipywidgets.readthedocs.io/en/stable/user_install.html\n",
      "  from tqdm.autonotebook import tqdm, trange\n"
     ]
    }
   ],
   "source": [
    "from sentence_transformers import SentenceTransformer\n",
    "\n",
    "hf = SentenceTransformer(\"all-MiniLM-L6-v2\")\n",
    "embeddings = hf.encode(table_to_text)"
   ]
  },
  {
   "cell_type": "code",
   "execution_count": 8,
   "metadata": {},
   "outputs": [
    {
     "name": "stderr",
     "output_type": "stream",
     "text": [
      "C:\\Users\\HP\\AppData\\Local\\Temp\\ipykernel_7308\\134676484.py:8: DeprecationWarning: `recreate_collection` method is deprecated and will be removed in the future. Use `collection_exists` to check collection existence and `create_collection` instead.\n",
      "  client.recreate_collection(\n"
     ]
    }
   ],
   "source": [
    "from qdrant_client.models import PointStruct\n",
    "from qdrant_client import QdrantClient\n",
    "from qdrant_client.models import Distance, VectorParams\n",
    "from dspy.retrieve.qdrant_rm import QdrantRM\n",
    "\n",
    "client = QdrantClient(\":memory:\")\n",
    "\n",
    "client.recreate_collection(\n",
    "    collection_name=\"temp\",\n",
    "    vectors_config=VectorParams(size=384, distance=Distance.COSINE),\n",
    ")\n",
    "\n",
    "# NOTE: consider splitting the data into chunks to avoid hitting the server's payload size limit\n",
    "# or use `upload_collection` or `upload_points` methods which handle this for you\n",
    "# WARNING: uploading points one-by-one is not recommended due to requests overhead\n",
    "client.upsert(\n",
    "    collection_name=\"temp\",\n",
    "    points=[\n",
    "        PointStruct(\n",
    "            id=idx,\n",
    "            # vector=hf.encode(element),\n",
    "            vector=embeddings[idx]\n",
    "            # payload=element['metadata']\n",
    "        )\n",
    "        for idx, element in enumerate(table_to_text)\n",
    "    ]\n",
    ")\n",
    "\n",
    "qdrant_retriever_model = QdrantRM(\"temp\", client, k=1)"
   ]
  },
  {
   "cell_type": "code",
   "execution_count": 6,
   "metadata": {},
   "outputs": [],
   "source": [
    "# !pip install dspy-ai==2.4.11"
   ]
  },
  {
   "cell_type": "code",
   "execution_count": 211,
   "metadata": {},
   "outputs": [],
   "source": [
    "import dspy\n",
    "lm = dspy.OpenAI(model=\"gpt-3.5-turbo\",api_key=\"sk-proj-3LVGYHGnw9IROwA0iTDJT3BlbkFJXATZkpZ9vYk2Est8JjCq\")\n",
    "# lm = dspy.GROQ(model='llama3-70b-8192', api_key =\"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\" )\n",
    "dspy.settings.configure(lm=lm, rm=qdrant_retriever_model)"
   ]
  },
  {
   "cell_type": "code",
   "execution_count": 212,
   "metadata": {},
   "outputs": [],
   "source": [
    "class RAGSignature(dspy.Signature):\n",
    "    \"\"\"INSTRUCTION: You are a SQL god, Provide SQL queries based on given question and only give CODE and NO MARKDOWN like ```sql or else huge penalty\n",
    "    if you encounter any human name try to find a substring match also, if you get dates data then format it to sql format and then answer,\n",
    "    make sure you follow the given column names EXACTLY Do not merge them, limit the use of limiters like top and limit\"\"\"\n",
    "\n",
    "    context = dspy.InputField(desc=\"You will be given a sample row which will contain flattened values of table in the format column name: Value lookout for synonyms as well\")\n",
    "    question = dspy.InputField()\n",
    "    answer = dspy.OutputField(desc=\"SQL code only ensuring you follow strict SQL guidelines and syntax\")"
   ]
  },
  {
   "cell_type": "code",
   "execution_count": 213,
   "metadata": {},
   "outputs": [],
   "source": [
    "def generate_context(question, k):\n",
    "    hits = client.search(query_vector=hf.encode(question) ,collection_name=\"temp\")\n",
    "    ranking = [table_to_text[h.id] for h in hits][:k]\n",
    "    return ranking"
   ]
  },
  {
   "cell_type": "code",
   "execution_count": 214,
   "metadata": {},
   "outputs": [
    {
     "data": {
      "text/plain": [
       "Index(['Task ID', 'Task Name', 'Owner', 'Priority', 'Start Date', 'Due Date',\n",
       "       'Created Time', 'Status', 'Is Overdue', 'Completion Percentage',\n",
       "       'Project Name', 'Milestone Name', 'Project ID', 'Milestone ID',\n",
       "       'Parent Task ID', 'Created By ID', 'Owner IDs', 'Task Delay Time',\n",
       "       'Task Completion Mode', 'Actual Time Taken', 'Time Spent So Far',\n",
       "       'Duration_1', 'Duration Unit', 'Rate Per Hour', 'Clarity Level',\n",
       "       'QC Owner'],\n",
       "      dtype='object')"
      ]
     },
     "execution_count": 214,
     "metadata": {},
     "output_type": "execute_result"
    }
   ],
   "source": [
    "example.columns"
   ]
  },
  {
   "cell_type": "code",
   "execution_count": 215,
   "metadata": {},
   "outputs": [],
   "source": [
    "dummy_context = \"\"\"table name: tasks\n",
    "Column name Status : ['To Do', 'In Progress', 'Terminated/Cancelled', 'Development',\n",
    "       'Development Complete', 'Done', 'Ready for QC', 'Discovery Phase',\n",
    "       'QA level 1 Completed', 'QC Passed', 'QA Completed', 'Hold',\n",
    "       'QA level 2 in progress']\n",
    "Other column name are: ['Task ID', 'Task Name', 'Owner', 'Priority', 'Start Date', 'Due Date',\n",
    "       'Created Time', 'Status', 'Is Overdue', 'Completion Percentage',\n",
    "       'Project Name', 'Milestone Name', 'Project ID', 'Milestone ID',\n",
    "       'Parent Task ID', 'Created By ID', 'Owner IDs', 'Task Delay Time',\n",
    "       'Task Completion Mode', 'Actual Time Taken', 'Time Spent So Far',\n",
    "       'Duration_1', 'Duration Unit', 'Rate Per Hour', 'Clarity Level',\n",
    "       'QC Owner']\n",
    "\"\"\""
   ]
  },
  {
   "cell_type": "code",
   "execution_count": 216,
   "metadata": {},
   "outputs": [],
   "source": [
    "class ChainOfThoughtRAG(dspy.Module):\n",
    "    \n",
    "    def __init__(self, context_length):\n",
    "        super().__init__()\n",
    "        self.retrieve = dspy.Retrieve(k=context_length)\n",
    "        self.generate_answer = dspy.ChainOfThought(RAGSignature)\n",
    "        self.k = context_length\n",
    "\n",
    "    def forward(self, question):\n",
    "        context = dummy_context #str(list(df.columns))\n",
    "        # context = generate_context(question, k=self.k) df.columns\n",
    "        prediction = self.generate_answer(context=context, question=question)\n",
    "        return dspy.Prediction(context=context, answer=prediction.answer)"
   ]
  },
  {
   "cell_type": "code",
   "execution_count": 217,
   "metadata": {},
   "outputs": [],
   "source": [
    "cot=ChainOfThoughtRAG(1)"
   ]
  },
  {
   "cell_type": "code",
   "execution_count": 218,
   "metadata": {},
   "outputs": [
    {
     "name": "stdout",
     "output_type": "stream",
     "text": [
      "SELECT * FROM tasks WHERE Owner LIKE '%Kiran Shrivatsva%'\n"
     ]
    }
   ],
   "source": [
    "print(cot(\"which task where ownwer is Kiran Shrivatsva\").answer)"
   ]
  },
  {
   "cell_type": "code",
   "execution_count": 219,
   "metadata": {},
   "outputs": [
    {
     "name": "stdout",
     "output_type": "stream",
     "text": [
      "SELECT COUNT(*) FROM tasks WHERE Status IN ('In Progress', 'Development', 'Development Complete', 'Ready for QC', 'Discovery Phase', 'QA level 1 Completed', 'QA Completed', 'QA level 2 in progress')\n"
     ]
    }
   ],
   "source": [
    "print(cot(\"what is the count of tasks which are ongoing\").answer)"
   ]
  },
  {
   "cell_type": "code",
   "execution_count": 220,
   "metadata": {},
   "outputs": [
    {
     "name": "stdout",
     "output_type": "stream",
     "text": [
      "SELECT * FROM tasks WHERE \"Task Delay Time\" > 30;\n"
     ]
    }
   ],
   "source": [
    "print(cot(\"give me records where task delay is more than 30\").answer)"
   ]
  },
  {
   "cell_type": "code",
   "execution_count": 221,
   "metadata": {},
   "outputs": [
    {
     "name": "stdout",
     "output_type": "stream",
     "text": [
      "SELECT \"Task Name\", COUNT(\"Task ID\") AS Revoked_Task_Count FROM tasks WHERE Status = 'Terminated/Cancelled' AND Owner LIKE '%Kiran%';\n"
     ]
    }
   ],
   "source": [
    "print(cot(\"which task are revoked and their count, where founder is Kiran\").answer)"
   ]
  },
  {
   "cell_type": "code",
   "execution_count": null,
   "metadata": {},
   "outputs": [],
   "source": []
  },
  {
   "cell_type": "code",
   "execution_count": 222,
   "metadata": {},
   "outputs": [
    {
     "name": "stdout",
     "output_type": "stream",
     "text": [
      "SELECT [Task Name], [Parent Task ID] FROM tasks ORDER BY [Time Spent So Far] DESC\n"
     ]
    }
   ],
   "source": [
    "print(cot(\"which task has the max time expenditure and give me the parent task id\").answer)"
   ]
  },
  {
   "cell_type": "code",
   "execution_count": 227,
   "metadata": {},
   "outputs": [
    {
     "name": "stdout",
     "output_type": "stream",
     "text": [
      "SELECT * FROM tasks WHERE \"Project Name\" LIKE '%Accorian%';\n"
     ]
    }
   ],
   "source": [
    "print(cot(\"fetch me all Accorian projects\").answer)"
   ]
  },
  {
   "cell_type": "code",
   "execution_count": 230,
   "metadata": {},
   "outputs": [
    {
     "data": {
      "text/plain": [
       "array(['773081417', '808004288', '845599619', '708853094', '845596686',\n",
       "       '819676542845599619', '788577227', '786479121', '825341377',\n",
       "       '792262192', '776725592', '848014979', '789497933',\n",
       "       '753339779790157522', '791842987', '770263143', '704175602',\n",
       "       '795545761', '778475418830176551', '745115006',\n",
       "       '708853094745115006', '790157522', '808004288844784545',\n",
       "       '753339779', '844783967', '7.784754187885772E35', '774653652',\n",
       "       '774026088', '778475421795545761', '701373265790157522', '-',\n",
       "       '765907894,829366386,833052784', '765907894,829366386',\n",
       "       '753339779,772989157,808004288,844784545', '758002363',\n",
       "       '792886644', '800651184', '845600661', '772908679', '844784545',\n",
       "       '671373250', '775643568', '756762742', '701373265', '782721491',\n",
       "       '701371504', '839251991', '671373250,844783967', '778475421',\n",
       "       '701371504,811424903', '756836914', '701373265,790157522',\n",
       "       '81581486', '701368573', '753339779,790157522', '842755527',\n",
       "       '824545238', '809116687', '81581486,792886644',\n",
       "       '701373265,704175602,753339779,790157522', '819676542,845600661',\n",
       "       '819676542,845599619,845600661', '838472289,840979277',\n",
       "       '839251991,848014979', '840979277', '790157522,833052784',\n",
       "       '778473538', '772989157', '845321609', '701368573,788577227',\n",
       "       '778475418,839251991,845599619', '778475418',\n",
       "       '778475418,819676542', '830176551', '819676542', '843614429',\n",
       "       '753339779,772989157', '671373250,778475421,795545761',\n",
       "       '756836914,808004288', '808004288,844784545',\n",
       "       '772989157,772908679', '830176894', '781564441',\n",
       "       '701371504,708853094', '773081417,790157522', '778472746',\n",
       "       '704175602,790157522', '836353936',\n",
       "       '701373265,704175602,790157522', '701373265,745115006',\n",
       "       '701371504,778475418', '844784261', '841115370',\n",
       "       '791842987,792262192',\n",
       "       '671373250,745115006,790157522,844783967,844784261,844784545',\n",
       "       '811824969', '701373265,786479121,790157522',\n",
       "       '786479121,790157522', '701371504,830176551', '795342015',\n",
       "       '701373265,753339779,790157522', '745115006,790157522',\n",
       "       '671373250,745115006,790157522', '756836914,774653652',\n",
       "       '701373265,773081417', '788577227,808004288',\n",
       "       '701368573,790157522', '701341459', '671373250,745115006',\n",
       "       '758002363,792262192', '756762742,772989157',\n",
       "       '772908679,775643568', '776475994', '701341459,708853094',\n",
       "       '704175602,776475994', '701373265,778472746',\n",
       "       '701373265,773081417,790157522', '778472746,778475418',\n",
       "       '778473538791842987', '8.19676542830177E26', '778475418,845600661',\n",
       "       '701373265,789497933', '811424903',\n",
       "       '845599619,845596686,845600661', '819676542,845599619',\n",
       "       '788577227,845600661', '778475421,819676542',\n",
       "       '704175602,708853094,745115006',\n",
       "       '671373250,745115006,790157522,844783967,844784545',\n",
       "       '790157522,845321609', '792886644,819676542', '81581486,701371504',\n",
       "       '701371504,758002363',\n",
       "       '756836914,774653652,782721491,790157522,791842987,792262192',\n",
       "       '792886644,795342015', '671373250,790157522',\n",
       "       '701373265,704175602', '781564441,792886644',\n",
       "       '701371504,789497933', '838472289', '745115006,758002363',\n",
       "       '774026088,776475994', '701373265,786479121',\n",
       "       '824545238,811824790', '704175602,778475418',\n",
       "       '701371504,808004288', '671373250,756836914,790157522',\n",
       "       '765907894829366386', '7.659078948293664E26', '790157522845321609',\n",
       "       '819676542,845599619,845596686', '701371504,753339779,790157522',\n",
       "       '701371504,775643568', '811824790', '778475421,795545761',\n",
       "       '770263143,819676542', '701368573,839251991',\n",
       "       '704175602,781564441', '790157522,791842987',\n",
       "       '756836914,790157522', '671373250,844783967,844784261,844784545',\n",
       "       '708853094,795342015', '701341459,791842987',\n",
       "       '782721491,790157522', '800651184,808004288',\n",
       "       '756762742,838472289', '81581486,701371504,808004288',\n",
       "       '701341459,701373265,790157522', '708853094,790157522',\n",
       "       '7.013732657533397E35', '701373265791842987', '833052784',\n",
       "       '671373250795545761', '6.713732507041757E26',\n",
       "       '758002363,792886644,839251991', '845599619,845600661',\n",
       "       '745115006,790157522,844784545',\n",
       "       '701341459,701373265,745115006,790157522', '671373250,795545761',\n",
       "       '701373265,790157522,791842987', '772989157,795545761',\n",
       "       '704175602,708853094', '701371504,789497933,800651184',\n",
       "       '701368573,809116687', '758002363,772989157',\n",
       "       '708853094,773081417', '753339779,772908679',\n",
       "       '704175602,772021671', '758002363,789497933',\n",
       "       '756836914,782721491'], dtype=object)"
      ]
     },
     "execution_count": 230,
     "metadata": {},
     "output_type": "execute_result"
    }
   ],
   "source": [
    "example['Owner IDs'].unique()"
   ]
  },
  {
   "cell_type": "code",
   "execution_count": 229,
   "metadata": {},
   "outputs": [
    {
     "name": "stdout",
     "output_type": "stream",
     "text": [
      "SELECT * FROM tasks WHERE \"Time Spent So Far\" > \"Actual Time Taken\"\n"
     ]
    }
   ],
   "source": [
    "print(cot(\"fetch me all tasks where time spent is more than actual time\").answer)"
   ]
  },
  {
   "cell_type": "code",
   "execution_count": 231,
   "metadata": {},
   "outputs": [
    {
     "name": "stdout",
     "output_type": "stream",
     "text": [
      "SELECT * FROM tasks WHERE CHARINDEX(',', [Owner IDs]) > 0;\n"
     ]
    }
   ],
   "source": [
    "print(cot(\"fetch me all tasks where mutiple task owners are there\").answer)"
   ]
  },
  {
   "cell_type": "code",
   "execution_count": null,
   "metadata": {},
   "outputs": [],
   "source": []
  },
  {
   "cell_type": "code",
   "execution_count": 234,
   "metadata": {},
   "outputs": [
    {
     "name": "stdout",
     "output_type": "stream",
     "text": [
      "SELECT * FROM tasks WHERE Owner LIKE '%Darhani%'\n"
     ]
    }
   ],
   "source": [
    "print(cot(\"what is Darhani upto\").answer)"
   ]
  },
  {
   "cell_type": "code",
   "execution_count": null,
   "metadata": {},
   "outputs": [],
   "source": []
  },
  {
   "cell_type": "code",
   "execution_count": null,
   "metadata": {},
   "outputs": [],
   "source": [
    "print(cot(\"list all projects\").answer)"
   ]
  },
  {
   "cell_type": "code",
   "execution_count": 120,
   "metadata": {},
   "outputs": [
    {
     "data": {
      "text/plain": [
       "\"['Task ID', 'Task Name', 'Owner', 'Priority', 'Start Date', 'Due Date', 'Created Time', 'Status', 'Is Overdue', 'Completion Percentage', 'Project Name', 'Milestone Name', 'Project ID', 'Milestone ID', 'Parent Task ID', 'Created By ID', 'Owner IDs', 'Task Delay Time', 'Task Completion Mode', 'Actual Time Taken', 'Time Spent So Far', 'Duration_1', 'Duration Unit', 'Rate Per Hour', 'Clarity Level', 'QC Owner']\""
      ]
     },
     "execution_count": 120,
     "metadata": {},
     "output_type": "execute_result"
    }
   ],
   "source": [
    "str(list(df.columns))"
   ]
  },
  {
   "cell_type": "code",
   "execution_count": 121,
   "metadata": {},
   "outputs": [
    {
     "data": {
      "text/plain": [
       "array(['To Do', 'In Progress', 'Terminated/Cancelled', 'Development',\n",
       "       'Development Complete', 'Done', 'Ready for QC', 'Discovery Phase',\n",
       "       'QA level 1 Completed', 'QC Passed', 'QA Completed', 'Hold',\n",
       "       'QA level 2 in progress'], dtype=object)"
      ]
     },
     "execution_count": 121,
     "metadata": {},
     "output_type": "execute_result"
    }
   ],
   "source": [
    "df['Status'].unique()"
   ]
  },
  {
   "cell_type": "code",
   "execution_count": 105,
   "metadata": {},
   "outputs": [
    {
     "ename": "KeyError",
     "evalue": "'Task Ending Time'",
     "output_type": "error",
     "traceback": [
      "\u001b[1;31m---------------------------------------------------------------------------\u001b[0m",
      "\u001b[1;31mKeyError\u001b[0m                                  Traceback (most recent call last)",
      "File \u001b[1;32m~\\anaconda3\\envs\\poc\\lib\\site-packages\\pandas\\core\\indexes\\base.py:3805\u001b[0m, in \u001b[0;36mIndex.get_loc\u001b[1;34m(self, key)\u001b[0m\n\u001b[0;32m   3804\u001b[0m \u001b[38;5;28;01mtry\u001b[39;00m:\n\u001b[1;32m-> 3805\u001b[0m     \u001b[38;5;28;01mreturn\u001b[39;00m \u001b[38;5;28;43mself\u001b[39;49m\u001b[38;5;241;43m.\u001b[39;49m\u001b[43m_engine\u001b[49m\u001b[38;5;241;43m.\u001b[39;49m\u001b[43mget_loc\u001b[49m\u001b[43m(\u001b[49m\u001b[43mcasted_key\u001b[49m\u001b[43m)\u001b[49m\n\u001b[0;32m   3806\u001b[0m \u001b[38;5;28;01mexcept\u001b[39;00m \u001b[38;5;167;01mKeyError\u001b[39;00m \u001b[38;5;28;01mas\u001b[39;00m err:\n",
      "File \u001b[1;32mindex.pyx:167\u001b[0m, in \u001b[0;36mpandas._libs.index.IndexEngine.get_loc\u001b[1;34m()\u001b[0m\n",
      "File \u001b[1;32mindex.pyx:196\u001b[0m, in \u001b[0;36mpandas._libs.index.IndexEngine.get_loc\u001b[1;34m()\u001b[0m\n",
      "File \u001b[1;32mpandas\\\\_libs\\\\hashtable_class_helper.pxi:7081\u001b[0m, in \u001b[0;36mpandas._libs.hashtable.PyObjectHashTable.get_item\u001b[1;34m()\u001b[0m\n",
      "File \u001b[1;32mpandas\\\\_libs\\\\hashtable_class_helper.pxi:7089\u001b[0m, in \u001b[0;36mpandas._libs.hashtable.PyObjectHashTable.get_item\u001b[1;34m()\u001b[0m\n",
      "\u001b[1;31mKeyError\u001b[0m: 'Task Ending Time'",
      "\nThe above exception was the direct cause of the following exception:\n",
      "\u001b[1;31mKeyError\u001b[0m                                  Traceback (most recent call last)",
      "Cell \u001b[1;32mIn[105], line 1\u001b[0m\n\u001b[1;32m----> 1\u001b[0m df[(df[\u001b[38;5;124m'\u001b[39m\u001b[38;5;124mStatus\u001b[39m\u001b[38;5;124m'\u001b[39m] \u001b[38;5;241m!=\u001b[39m \u001b[38;5;124m'\u001b[39m\u001b[38;5;124mDone\u001b[39m\u001b[38;5;124m'\u001b[39m) \u001b[38;5;241m&\u001b[39m (\u001b[43mdf\u001b[49m\u001b[43m[\u001b[49m\u001b[38;5;124;43m'\u001b[39;49m\u001b[38;5;124;43mTask Ending Time\u001b[39;49m\u001b[38;5;124;43m'\u001b[39;49m\u001b[43m]\u001b[49m\u001b[38;5;241m.\u001b[39mnotna())]\u001b[38;5;241m.\u001b[39mshape[\u001b[38;5;241m0\u001b[39m]\n",
      "File \u001b[1;32m~\\anaconda3\\envs\\poc\\lib\\site-packages\\pandas\\core\\frame.py:4102\u001b[0m, in \u001b[0;36mDataFrame.__getitem__\u001b[1;34m(self, key)\u001b[0m\n\u001b[0;32m   4100\u001b[0m \u001b[38;5;28;01mif\u001b[39;00m \u001b[38;5;28mself\u001b[39m\u001b[38;5;241m.\u001b[39mcolumns\u001b[38;5;241m.\u001b[39mnlevels \u001b[38;5;241m>\u001b[39m \u001b[38;5;241m1\u001b[39m:\n\u001b[0;32m   4101\u001b[0m     \u001b[38;5;28;01mreturn\u001b[39;00m \u001b[38;5;28mself\u001b[39m\u001b[38;5;241m.\u001b[39m_getitem_multilevel(key)\n\u001b[1;32m-> 4102\u001b[0m indexer \u001b[38;5;241m=\u001b[39m \u001b[38;5;28;43mself\u001b[39;49m\u001b[38;5;241;43m.\u001b[39;49m\u001b[43mcolumns\u001b[49m\u001b[38;5;241;43m.\u001b[39;49m\u001b[43mget_loc\u001b[49m\u001b[43m(\u001b[49m\u001b[43mkey\u001b[49m\u001b[43m)\u001b[49m\n\u001b[0;32m   4103\u001b[0m \u001b[38;5;28;01mif\u001b[39;00m is_integer(indexer):\n\u001b[0;32m   4104\u001b[0m     indexer \u001b[38;5;241m=\u001b[39m [indexer]\n",
      "File \u001b[1;32m~\\anaconda3\\envs\\poc\\lib\\site-packages\\pandas\\core\\indexes\\base.py:3812\u001b[0m, in \u001b[0;36mIndex.get_loc\u001b[1;34m(self, key)\u001b[0m\n\u001b[0;32m   3807\u001b[0m     \u001b[38;5;28;01mif\u001b[39;00m \u001b[38;5;28misinstance\u001b[39m(casted_key, \u001b[38;5;28mslice\u001b[39m) \u001b[38;5;129;01mor\u001b[39;00m (\n\u001b[0;32m   3808\u001b[0m         \u001b[38;5;28misinstance\u001b[39m(casted_key, abc\u001b[38;5;241m.\u001b[39mIterable)\n\u001b[0;32m   3809\u001b[0m         \u001b[38;5;129;01mand\u001b[39;00m \u001b[38;5;28many\u001b[39m(\u001b[38;5;28misinstance\u001b[39m(x, \u001b[38;5;28mslice\u001b[39m) \u001b[38;5;28;01mfor\u001b[39;00m x \u001b[38;5;129;01min\u001b[39;00m casted_key)\n\u001b[0;32m   3810\u001b[0m     ):\n\u001b[0;32m   3811\u001b[0m         \u001b[38;5;28;01mraise\u001b[39;00m InvalidIndexError(key)\n\u001b[1;32m-> 3812\u001b[0m     \u001b[38;5;28;01mraise\u001b[39;00m \u001b[38;5;167;01mKeyError\u001b[39;00m(key) \u001b[38;5;28;01mfrom\u001b[39;00m \u001b[38;5;21;01merr\u001b[39;00m\n\u001b[0;32m   3813\u001b[0m \u001b[38;5;28;01mexcept\u001b[39;00m \u001b[38;5;167;01mTypeError\u001b[39;00m:\n\u001b[0;32m   3814\u001b[0m     \u001b[38;5;66;03m# If we have a listlike key, _check_indexing_error will raise\u001b[39;00m\n\u001b[0;32m   3815\u001b[0m     \u001b[38;5;66;03m#  InvalidIndexError. Otherwise we fall through and re-raise\u001b[39;00m\n\u001b[0;32m   3816\u001b[0m     \u001b[38;5;66;03m#  the TypeError.\u001b[39;00m\n\u001b[0;32m   3817\u001b[0m     \u001b[38;5;28mself\u001b[39m\u001b[38;5;241m.\u001b[39m_check_indexing_error(key)\n",
      "\u001b[1;31mKeyError\u001b[0m: 'Task Ending Time'"
     ]
    }
   ],
   "source": [
    "df[(df['Status'] != 'Done') & (df['Task Ending Time'].notna())].shape[0]"
   ]
  },
  {
   "cell_type": "code",
   "execution_count": null,
   "metadata": {},
   "outputs": [],
   "source": []
  },
  {
   "cell_type": "code",
   "execution_count": 94,
   "metadata": {},
   "outputs": [
    {
     "data": {
      "text/plain": [
       "1928"
      ]
     },
     "execution_count": 94,
     "metadata": {},
     "output_type": "execute_result"
    }
   ],
   "source": [
    "df=example\n",
    "df[df['Status'] != 'Done'].shape[0]"
   ]
  },
  {
   "cell_type": "code",
   "execution_count": 203,
   "metadata": {},
   "outputs": [],
   "source": [
    "class GenerateSearchQuery(dspy.Signature):\n",
    "    \"\"\"Break the question into managable queries.\"\"\"\n",
    "\n",
    "    context = dspy.InputField(desc=\"may contain relevant facts\")\n",
    "    question = dspy.InputField()\n",
    "    query = dspy.OutputField()"
   ]
  },
  {
   "cell_type": "code",
   "execution_count": 208,
   "metadata": {},
   "outputs": [],
   "source": [
    "from dsp.utils import deduplicate\n",
    "\n",
    "class MultiHopChainOfThoughtRAG(dspy.Module):\n",
    "    def __init__(self, passages_per_hop=3, max_hops=2):\n",
    "        super().__init__()\n",
    "\n",
    "        self.generate_query = [dspy.ChainOfThought(GenerateSearchQuery) for _ in range(max_hops)]\n",
    "        self.retrieve = dspy.Retrieve(k=passages_per_hop)\n",
    "        self.generate_answer = dspy.ChainOfThought(RAGSignature)\n",
    "        self.max_hops = max_hops\n",
    "        self.k = passages_per_hop\n",
    "    \n",
    "    def forward(self, question):\n",
    "        context = []\n",
    "        \n",
    "        for hop in range(self.max_hops):\n",
    "            query = self.generate_query[hop](context=context, question=question).query\n",
    "            # print(query)\n",
    "            passages = [dummy_context]#generate_context(query, k=self.k)\n",
    "            context = deduplicate(context + passages)\n",
    "        pred = self.generate_answer(context=context, question=question)\n",
    "        return dspy.Prediction(context=context, answer=pred.answer)"
   ]
  },
  {
   "cell_type": "code",
   "execution_count": 209,
   "metadata": {},
   "outputs": [],
   "source": [
    "rag = MultiHopChainOfThoughtRAG()\n"
   ]
  },
  {
   "cell_type": "code",
   "execution_count": 244,
   "metadata": {},
   "outputs": [],
   "source": [
    "original_question = \"get count of all the tasks with open status\"\n",
    "ques=lm(f\"break this into managable small questions if its simple dont break ita and dont club the questions: {original_question}\")[0].split('?')"
   ]
  },
  {
   "cell_type": "code",
   "execution_count": 245,
   "metadata": {},
   "outputs": [
    {
     "data": {
      "text/plain": [
       "['What is the total count of tasks with an open status', '']"
      ]
     },
     "execution_count": 245,
     "metadata": {},
     "output_type": "execute_result"
    }
   ],
   "source": [
    "ques"
   ]
  },
  {
   "cell_type": "code",
   "execution_count": 237,
   "metadata": {},
   "outputs": [],
   "source": [
    "answers = []\n",
    "for q in ques:\n",
    "   answers.append(cot(q).answer)"
   ]
  },
  {
   "cell_type": "code",
   "execution_count": 238,
   "metadata": {},
   "outputs": [
    {
     "data": {
      "text/plain": [
       "[\"SELECT Status FROM table_name WHERE Task ID = 'task_id';\",\n",
       " \"```sql\\nSELECT * FROM table_name WHERE Status = 'To Do' OR Status = 'In Progress' OR Status = 'Development' OR Status = 'Development Complete' OR Status = 'Ready for QC' OR Status = 'Discovery Phase' OR Status = 'QA level 1 Completed' OR Status = 'QA level 2 in progress'\\n```\",\n",
       " \"```sql\\nSELECT COUNT(*) FROM table_name WHERE Status IN ('To Do', 'In Progress', 'Development', 'Development Complete', 'Ready for QC', 'Discovery Phase', 'QA level 1 Completed', 'QA level 2 in progress')\\n```\",\n",
       " \"```sql\\nSELECT *\\nFROM tasks\\nWHERE Status = 'In Progress';\\n```\"]"
      ]
     },
     "execution_count": 238,
     "metadata": {},
     "output_type": "execute_result"
    }
   ],
   "source": [
    "answers"
   ]
  },
  {
   "cell_type": "code",
   "execution_count": 240,
   "metadata": {},
   "outputs": [],
   "source": [
    "possible_answers = \"\"\"\"SELECT Status FROM table_name WHERE Task ID = 'task_id';\",\n",
    " \"```sql\\nSELECT * FROM table_name WHERE Status = 'To Do' OR Status = 'In Progress' OR Status = 'Development' OR Status = 'Development Complete' OR Status = 'Ready for QC' OR Status = 'Discovery Phase' OR Status = 'QA level 1 Completed' OR Status = 'QA level 2 in progress'\\n```\",\n",
    " \"```sql\\nSELECT COUNT(*) FROM table_name WHERE Status IN ('To Do', 'In Progress', 'Development', 'Development Complete', 'Ready for QC', 'Discovery Phase', 'QA level 1 Completed', 'QA level 2 in progress')\\n```\",\n",
    " \"```sql\\nSELECT *\\nFROM tasks\\nWHERE Status = 'In Progress';\\n```\"\"\""
   ]
  },
  {
   "cell_type": "code",
   "execution_count": 243,
   "metadata": {},
   "outputs": [
    {
     "data": {
      "text/plain": [
       "[\"SELECT * FROM table_name WHERE Status = 'In Progress';\"]"
      ]
     },
     "execution_count": 243,
     "metadata": {},
     "output_type": "execute_result"
    }
   ],
   "source": [
    "lm(f\"which of the query sumarizes the best provide it and correct if any mistakes and only give an sql query{possible_answers}\")"
   ]
  },
  {
   "cell_type": "code",
   "execution_count": 212,
   "metadata": {},
   "outputs": [],
   "source": [
    "response = rag(\"which task are abandoned and their count, where is Kiran %\")"
   ]
  },
  {
   "cell_type": "code",
   "execution_count": null,
   "metadata": {},
   "outputs": [],
   "source": []
  },
  {
   "cell_type": "code",
   "execution_count": 220,
   "metadata": {},
   "outputs": [
    {
     "name": "stdout",
     "output_type": "stream",
     "text": [
      "```sql\n",
      "SELECT * FROM table_name WHERE Status IN ('Terminated/Cancelled', 'Hold');\n",
      "```\n"
     ]
    }
   ],
   "source": [
    "print(cot(\"Find all tasks that are abandoned\").answer)"
   ]
  },
  {
   "cell_type": "code",
   "execution_count": 219,
   "metadata": {},
   "outputs": [
    {
     "name": "stdout",
     "output_type": "stream",
     "text": [
      "```sql\n",
      "SELECT COUNT(*) FROM table_name WHERE Status IN ('Terminated/Cancelled', 'Hold');\n",
      "```\n"
     ]
    }
   ],
   "source": [
    "print(cot(\"Count the number of abandoned tasks\").answer)"
   ]
  },
  {
   "cell_type": "code",
   "execution_count": 222,
   "metadata": {},
   "outputs": [
    {
     "name": "stdout",
     "output_type": "stream",
     "text": [
      "```sql\n",
      "SELECT * FROM table_name WHERE Owner = 'Kiran Shrivastav';\n",
      "```\n"
     ]
    }
   ],
   "source": [
    "(cot(\"Find tasks where the owner is Kiran Shrivastavprint\").answer)"
   ]
  },
  {
   "cell_type": "code",
   "execution_count": 213,
   "metadata": {},
   "outputs": [
    {
     "name": "stdout",
     "output_type": "stream",
     "text": [
      "```sql\n",
      "SELECT TaskName, COUNT(*) AS AbandonedCount \n",
      "FROM table_name \n",
      "WHERE Status IN ('Terminated/Cancelled', 'Hold') AND Owner = 'Kiran' \n",
      "GROUP BY TaskName\n",
      "```\n"
     ]
    }
   ],
   "source": [
    "print(response.answer)"
   ]
  },
  {
   "cell_type": "code",
   "execution_count": null,
   "metadata": {},
   "outputs": [],
   "source": []
  },
  {
   "cell_type": "code",
   "execution_count": 193,
   "metadata": {},
   "outputs": [
    {
     "name": "stdout",
     "output_type": "stream",
     "text": [
      "\n",
      "\n",
      "\n",
      "INSTRUCTION: You are a SQL god, Provide SQL queries based on given question and only give CODE or else huge penalty.\n",
      "\n",
      "---\n",
      "\n",
      "Follow the following format.\n",
      "\n",
      "Context: You will be given a sample row which will contain flattened values of table in the format column name: Value lookout for synonyms as well\n",
      "\n",
      "Question: ${question}\n",
      "\n",
      "Reasoning: Let's think step by step in order to ${produce the answer}. We ...\n",
      "\n",
      "Answer: SQL code only\n",
      "\n",
      "---\n",
      "\n",
      "Context:\n",
      "[1] «Task ID: 749813000020466048\n",
      "Task Name: Support request on Re: Appraisee View\n",
      "Task Creation Time: 2024-02-20 13:57:00\n",
      "Task Ending Time: 2024-02-20 19:00:00\n",
      "Status: To Do\n",
      "Created By: 791842987\n",
      "Owner: Kiran Shrivastav\n",
      "Project Details:\n",
      "    Priority: nan\n",
      "    Description: N/A\n",
      "    Dependencies: N/A\n",
      "    Estimated Hours: N/A\n",
      "    Actual Hours: 28.0\n",
      "    Notes: N/A\n",
      "»\n",
      "[2] «Task ID: 749813000020024064\n",
      "Task Name: Call with Bhavani\n",
      "Task Creation Time: 2024-01-10 19:14:00\n",
      "Task Ending Time: 2024-01-10 19:00:00\n",
      "Status: Done\n",
      "Created By: 791842987\n",
      "Owner: Kiran Shrivastav\n",
      "Project Details:\n",
      "    Priority: nan\n",
      "    Description: N/A\n",
      "    Dependencies: N/A\n",
      "    Estimated Hours: N/A\n",
      "    Actual Hours: 2.0\n",
      "    Notes: N/A\n",
      "»\n",
      "[3] «Task ID: 749813000019943040\n",
      "Task Name: Statutory details\n",
      "Task Creation Time: 2024-01-04 14:17:00\n",
      "Task Ending Time: 2024-01-25 19:00:00\n",
      "Status: Done\n",
      "Created By: 791842987\n",
      "Owner: Kiran Shrivastav\n",
      "Project Details:\n",
      "    Priority: nan\n",
      "    Description: N/A\n",
      "    Dependencies: N/A\n",
      "    Estimated Hours: N/A\n",
      "    Actual Hours: 27.0\n",
      "    Notes: N/A\n",
      "»\n",
      "[4] «Task ID: 749813000020558976\n",
      "Task Name: Vikram Singh self appraisal issue\n",
      "Task Creation Time: 2024-02-29 14:18:00\n",
      "Task Ending Time: 2024-03-01 19:00:00\n",
      "Status: To Do\n",
      "Created By: 791842987\n",
      "Owner: Kiran Shrivastav\n",
      "Project Details:\n",
      "    Priority: nan\n",
      "    Description: N/A\n",
      "    Dependencies: N/A\n",
      "    Estimated Hours: N/A\n",
      "    Actual Hours: 19.0\n",
      "    Notes: N/A\n",
      "»\n",
      "[5] «Task ID: 749813000019965056\n",
      "Task Name: Call on Annual appraisal form\n",
      "Task Creation Time: 2024-01-08 12:41:00\n",
      "Task Ending Time: 2024-01-08 19:00:00\n",
      "Status: Done\n",
      "Created By: 791842987\n",
      "Owner: Kiran Shrivastav\n",
      "Project Details:\n",
      "    Priority: nan\n",
      "    Description: N/A\n",
      "    Dependencies: N/A\n",
      "    Estimated Hours: N/A\n",
      "    Actual Hours: 4.0\n",
      "    Notes: N/A\n",
      "»\n",
      "[6] «Task ID: 749813000020624000\n",
      "Task Name: scheduled attendance records at the end of every month to the finance team.\n",
      "Task Creation Time: 2024-03-08 09:30:00\n",
      "Task Ending Time: 2024-02-26 19:00:00\n",
      "Status: To Do\n",
      "Created By: 791842987\n",
      "Owner: Kiran Shrivastav\n",
      "Project Details:\n",
      "    Priority: nan\n",
      "    Description: N/A\n",
      "    Dependencies: N/A\n",
      "    Estimated Hours: N/A\n",
      "    Actual Hours: 22.0\n",
      "    Notes: N/A\n",
      "»\n",
      "\n",
      "Question: which task are abandoned and their count, where is Kiran Shrivastav\n",
      "\n",
      "Reasoning: Let's think step by step in order to Answer: ```sql SELECT TaskName, COUNT(*) AS Abandoned_Count FROM Tasks WHERE Status = 'To Do' AND Owner = 'Kiran Shrivastav' GROUP BY TaskName ```\n",
      "\n",
      "Answer: ```sql\n",
      "SELECT TaskName, COUNT(*) AS Abandoned_Count \n",
      "FROM Tasks \n",
      "WHERE Status = 'To Do' AND Owner = 'Kiran Shrivastav' \n",
      "GROUP BY TaskName\n",
      "```\n",
      "\n",
      "\n",
      "\n"
     ]
    },
    {
     "data": {
      "text/plain": [
       "\"\\n\\n\\nINSTRUCTION: You are a SQL god, Provide SQL queries based on given question and only give CODE or else huge penalty.\\n\\n---\\n\\nFollow the following format.\\n\\nContext: You will be given a sample row which will contain flattened values of table in the format column name: Value lookout for synonyms as well\\n\\nQuestion: ${question}\\n\\nReasoning: Let's think step by step in order to ${produce the answer}. We ...\\n\\nAnswer: SQL code only\\n\\n---\\n\\nContext:\\n[1] «Task ID: 749813000020466048\\nTask Name: Support request on Re: Appraisee View\\nTask Creation Time: 2024-02-20 13:57:00\\nTask Ending Time: 2024-02-20 19:00:00\\nStatus: To Do\\nCreated By: 791842987\\nOwner: Kiran Shrivastav\\nProject Details:\\n    Priority: nan\\n    Description: N/A\\n    Dependencies: N/A\\n    Estimated Hours: N/A\\n    Actual Hours: 28.0\\n    Notes: N/A\\n»\\n[2] «Task ID: 749813000020024064\\nTask Name: Call with Bhavani\\nTask Creation Time: 2024-01-10 19:14:00\\nTask Ending Time: 2024-01-10 19:00:00\\nStatus: Done\\nCreated By: 791842987\\nOwner: Kiran Shrivastav\\nProject Details:\\n    Priority: nan\\n    Description: N/A\\n    Dependencies: N/A\\n    Estimated Hours: N/A\\n    Actual Hours: 2.0\\n    Notes: N/A\\n»\\n[3] «Task ID: 749813000019943040\\nTask Name: Statutory details\\nTask Creation Time: 2024-01-04 14:17:00\\nTask Ending Time: 2024-01-25 19:00:00\\nStatus: Done\\nCreated By: 791842987\\nOwner: Kiran Shrivastav\\nProject Details:\\n    Priority: nan\\n    Description: N/A\\n    Dependencies: N/A\\n    Estimated Hours: N/A\\n    Actual Hours: 27.0\\n    Notes: N/A\\n»\\n[4] «Task ID: 749813000020558976\\nTask Name: Vikram Singh self appraisal issue\\nTask Creation Time: 2024-02-29 14:18:00\\nTask Ending Time: 2024-03-01 19:00:00\\nStatus: To Do\\nCreated By: 791842987\\nOwner: Kiran Shrivastav\\nProject Details:\\n    Priority: nan\\n    Description: N/A\\n    Dependencies: N/A\\n    Estimated Hours: N/A\\n    Actual Hours: 19.0\\n    Notes: N/A\\n»\\n[5] «Task ID: 749813000019965056\\nTask Name: Call on Annual appraisal form\\nTask Creation Time: 2024-01-08 12:41:00\\nTask Ending Time: 2024-01-08 19:00:00\\nStatus: Done\\nCreated By: 791842987\\nOwner: Kiran Shrivastav\\nProject Details:\\n    Priority: nan\\n    Description: N/A\\n    Dependencies: N/A\\n    Estimated Hours: N/A\\n    Actual Hours: 4.0\\n    Notes: N/A\\n»\\n[6] «Task ID: 749813000020624000\\nTask Name: scheduled attendance records at the end of every month to the finance team.\\nTask Creation Time: 2024-03-08 09:30:00\\nTask Ending Time: 2024-02-26 19:00:00\\nStatus: To Do\\nCreated By: 791842987\\nOwner: Kiran Shrivastav\\nProject Details:\\n    Priority: nan\\n    Description: N/A\\n    Dependencies: N/A\\n    Estimated Hours: N/A\\n    Actual Hours: 22.0\\n    Notes: N/A\\n»\\n\\nQuestion: which task are abandoned and their count, where is Kiran Shrivastav\\n\\nReasoning: Let's think step by step in order to Answer: ```sql SELECT TaskName, COUNT(*) AS Abandoned_Count FROM Tasks WHERE Status = 'To Do' AND Owner = 'Kiran Shrivastav' GROUP BY TaskName ```\\n\\nAnswer:\\x1b[32m ```sql\\nSELECT TaskName, COUNT(*) AS Abandoned_Count \\nFROM Tasks \\nWHERE Status = 'To Do' AND Owner = 'Kiran Shrivastav' \\nGROUP BY TaskName\\n```\\x1b[0m\\n\\n\\n\""
      ]
     },
     "execution_count": 193,
     "metadata": {},
     "output_type": "execute_result"
    }
   ],
   "source": [
    "lm.inspect_history(1)"
   ]
  },
  {
   "cell_type": "code",
   "execution_count": null,
   "metadata": {},
   "outputs": [],
   "source": []
  },
  {
   "cell_type": "code",
   "execution_count": 115,
   "metadata": {},
   "outputs": [
    {
     "name": "stdout",
     "output_type": "stream",
     "text": [
      "[{'task_id': 'zcr_749813000008389283', 'task_name': 'UAT Changes on CRM and Zoho Books', 'owner': 'Waheeba Khan,Anjali Sahu', 'priority': 'None', 'start_date': 1647388800000, 'due_date': 1647820800000, 'created_time': 1613433600000, 'duration': 6, 'status': 'Done', 'is_overdue': False, 'completion_percentage': '100.00%', 'project_name': 'Betterplace: Zoho CRM Plus', 'milestone_name': 'Zoho Books', 'project_id': 'zcr_749813000008206055', 'milestone_id': 'zcr_749813000008194710', 'task_delay_time': 17, 'task_completion_mode': 'Late', 'actual_time_taken': 23, 'time_spent_so_far': 23, 'duration_1': 33.0, 'duration_unit': 'hrs', 'clarity_level': 'Not Clear', 'sprint': 'SPF-MAR22-SF', 'billing_type': 'Billable', 'product_skill': 'Zoho Books', 'sprint_ff_sf': 'Sprint SF', 'open_closed': 'Closed', 'allocated_unallocated': 'Allocated', 'days_completed_on': 'Day 7', 'sprint_new': 'Sprint SF', 'completion_date': 1649289600000, 'qc_owner': 'Waheeba Khan'}]\n"
     ]
    }
   ],
   "source": [
    "import requests\n",
    "\n",
    "url = \"http://127.0.0.1:5000/query\"\n",
    "data = {\n",
    "    \"query\": \"give me first 1 task\",\n",
    "    \"db_name\": \"postgres\"\n",
    "}\n",
    "response = requests.post(url, json=data)\n",
    "\n",
    "print(response.json())"
   ]
  },
  {
   "cell_type": "code",
   "execution_count": 112,
   "metadata": {},
   "outputs": [
    {
     "data": {
      "text/plain": [
       "[{'user_name': 'Kiran Desai'}, {'user_name': 'Uday Desai'}]"
      ]
     },
     "execution_count": 112,
     "metadata": {},
     "output_type": "execute_result"
    }
   ],
   "source": [
    "response.json()"
   ]
  },
  {
   "cell_type": "code",
   "execution_count": 67,
   "metadata": {},
   "outputs": [
    {
     "name": "stdout",
     "output_type": "stream",
     "text": [
      "{'index': {'0': 14, '1': 18, '2': 19, '3': 41, '4': 90, '5': 113, '6': 143, '7': 166, '8': 235, '9': 236, '10': 237, '11': 259, '12': 261, '13': 281, '14': 287, '15': 320, '16': 335, '17': 357, '18': 358, '19': 365, '20': 366, '21': 411, '22': 419, '23': 441, '24': 442, '25': 486, '26': 487, '27': 533, '28': 534, '29': 566, '30': 576, '31': 577, '32': 641, '33': 675, '34': 696, '35': 704, '36': 705, '37': 725, '38': 730, '39': 731, '40': 732, '41': 733, '42': 734, '43': 735, '44': 736, '45': 737, '46': 738, '47': 752, '48': 792, '49': 810, '50': 839, '51': 840, '52': 860, '53': 889, '54': 938, '55': 948, '56': 968, '57': 991, '58': 1029, '59': 1060, '60': 1061, '61': 1062, '62': 1086, '63': 1099, '64': 1159, '65': 1160, '66': 1182, '67': 1217, '68': 1219, '69': 1236, '70': 1237, '71': 1245, '72': 1255, '73': 1266, '74': 1280, '75': 1308, '76': 1329, '77': 1349, '78': 1358, '79': 1359, '80': 1391, '81': 1399, '82': 1402, '83': 1466, '84': 1530, '85': 1550, '86': 1555, '87': 1556, '88': 1557, '89': 1558, '90': 1559, '91': 1560, '92': 1561, '93': 1562, '94': 1563, '95': 1564, '96': 1578, '97': 1632, '98': 1635, '99': 1636, '100': 1670, '101': 1693, '102': 1715, '103': 1723, '104': 1764, '105': 1795, '106': 1818, '107': 1819, '108': 1821, '109': 1855, '110': 1878, '111': 1885, '112': 1886, '113': 1887, '114': 1888, '115': 1911, '116': 1939, '117': 1945, '118': 1961, '119': 1964, '120': 1966, '121': 1971, '122': 1985, '123': 1986, '124': 1992, '125': 2045, '126': 2046, '127': 2056, '128': 2062, '129': 2063, '130': 2092, '131': 2093, '132': 2155, '133': 2156, '134': 2184, '135': 2185, '136': 2266, '137': 2275, '138': 2326, '139': 2327, '140': 2332, '141': 2356, '142': 2381, '143': 2382, '144': 2383, '145': 2384, '146': 2385, '147': 2386, '148': 2387, '149': 2388, '150': 2389, '151': 2390, '152': 2403, '153': 2460, '154': 2476, '155': 2491, '156': 2496, '157': 2508, '158': 2518, '159': 2540, '160': 2548, '161': 2581, '162': 2643, '163': 2644, '164': 2680, '165': 2712, '166': 2713, '167': 2714, '168': 2718, '169': 2736, '170': 2764, '171': 2770, '172': 2774, '173': 2797, '174': 2810, '175': 2811, '176': 2868, '177': 2870, '178': 2888, '179': 2896, '180': 2918, '181': 2963, '182': 2964, '183': 2981, '184': 3009, '185': 3010, '186': 3011, '187': 3043, '188': 3045, '189': 3053, '190': 3083, '191': 3098, '192': 3151, '193': 3157, '194': 3173, '195': 3182, '196': 3201, '197': 3207, '198': 3208, '199': 3209, '200': 3210, '201': 3211, '202': 3212, '203': 3213, '204': 3214, '205': 3215, '206': 3229, '207': 3255, '208': 3269, '209': 3287, '210': 3288}, 'Task ID': {'0': 749813000020749056, '1': 749813000020733056, '2': 749813000020732032, '3': 749813000020685952, '4': 749813000020642944, '5': 749813000020624000, '6': 749813000020605056, '7': 749813000020589056, '8': 749813000020558976, '9': 749813000020558976, '10': 749813000020558976, '11': 749813000020537984, '12': 749813000020537984, '13': 749813000020520960, '14': 749813000020519936, '15': 749813000020466048, '16': 749813000020444032, '17': 749813000020418944, '18': 749813000020418944, '19': 749813000020411008, '20': 749813000020411008, '21': 749813000020345984, '22': 749813000020343040, '23': 749813000020263040, '24': 749813000020263040, '25': 749813000020232960, '26': 749813000020231936, '27': 749813000020166016, '28': 749813000020164992, '29': 749813000020139008, '30': 749813000020126976, '31': 749813000020126976, '32': 749813000020055040, '33': 749813000020024064, '34': 749813000019970048, '35': 749813000019965056, '36': 749813000019965056, '37': 749813000019958016, '38': 749813000019943040, '39': 749813000019943040, '40': 749813000019943040, '41': 749813000019943040, '42': 749813000019943040, '43': 749813000019943040, '44': 749813000019942016, '45': 749813000019942016, '46': 749813000019942016, '47': 749813000019937024, '48': 749813000019911040, '49': 749813000019888000, '50': 749813000020749056, '51': 749813000020749056, '52': 749813000020700032, '53': 749813000020680960, '54': 749813000020624000, '55': 749813000020622976, '56': 749813000020605056, '57': 749813000020589056, '58': 749813000020579968, '59': 749813000020558976, '60': 749813000020558976, '61': 749813000020558976, '62': 749813000020537984, '63': 749813000020536064, '64': 749813000020444032, '65': 749813000020444032, '66': 749813000020418944, '67': 749813000020369024, '68': 749813000020365056, '69': 749813000020345984, '70': 749813000020345984, '71': 749813000020343040, '72': 749813000020328960, '73': 749813000020263040, '74': 749813000020259968, '75': 749813000020242944, '76': 749813000020195968, '77': 749813000020167040, '78': 749813000020166016, '79': 749813000020164992, '80': 749813000020139008, '81': 749813000020132992, '82': 749813000020126976, '83': 749813000020055040, '84': 749813000019965056, '85': 749813000019958016, '86': 749813000019943040, '87': 749813000019943040, '88': 749813000019943040, '89': 749813000019943040, '90': 749813000019943040, '91': 749813000019943040, '92': 749813000019942016, '93': 749813000019942016, '94': 749813000019942016, '95': 749813000019942016, '96': 749813000019937024, '97': 749813000019889024, '98': 749813000019888000, '99': 749813000019888000, '100': 749813000020733056, '101': 749813000020685952, '102': 749813000020680960, '103': 749813000020664064, '104': 749813000020624000, '105': 749813000020604032, '106': 749813000020589056, '107': 749813000020588032, '108': 749813000020588032, '109': 749813000020579968, '110': 749813000020560000, '111': 749813000020558976, '112': 749813000020558976, '113': 749813000020558976, '114': 749813000020558976, '115': 749813000020537984, '116': 749813000020519936, '117': 749813000020510976, '118': 749813000020471040, '119': 749813000020467968, '120': 749813000020466944, '121': 749813000020466048, '122': 749813000020444032, '123': 749813000020444032, '124': 749813000020443008, '125': 749813000020365056, '126': 749813000020365056, '127': 749813000020364032, '128': 749813000020345984, '129': 749813000020345984, '130': 749813000020263040, '131': 749813000020263040, '132': 749813000020195968, '133': 749813000020195968, '134': 749813000020166016, '135': 749813000020164992, '136': 749813000020082944, '137': 749813000020068992, '138': 749813000020024064, '139': 749813000020024064, '140': 749813000020014976, '141': 749813000019965056, '142': 749813000019943040, '143': 749813000019943040, '144': 749813000019943040, '145': 749813000019943040, '146': 749813000019943040, '147': 749813000019943040, '148': 749813000019943040, '149': 749813000019942016, '150': 749813000019942016, '151': 749813000019942016, '152': 749813000019937024, '153': 749813000019888000, '154': 749813000019868032, '155': 749813000020749056, '156': 749813000020732032, '157': 749813000020711936, '158': 749813000020685952, '159': 749813000020680960, '160': 749813000020664064, '161': 749813000020632960, '162': 749813000020589056, '163': 749813000020589056, '164': 749813000020579968, '165': 749813000020558976, '166': 749813000020558976, '167': 749813000020558976, '168': 749813000020551040, '169': 749813000020537984, '170': 749813000020519936, '171': 749813000020510976, '172': 749813000020496000, '173': 749813000020466048, '174': 749813000020444032, '175': 749813000020444032, '176': 749813000020369024, '177': 749813000020365056, '178': 749813000020345984, '179': 749813000020343040, '180': 749813000020263040, '181': 749813000020232960, '182': 749813000020231936, '183': 749813000020195968, '184': 749813000020166016, '185': 749813000020166016, '186': 749813000020164992, '187': 749813000020139008, '188': 749813000020136960, '189': 749813000020126976, '190': 749813000020088064, '191': 749813000020081024, '192': 749813000020024064, '193': 749813000020014976, '194': 749813000019970048, '195': 749813000019965056, '196': 749813000019959040, '197': 749813000019943040, '198': 749813000019943040, '199': 749813000019943040, '200': 749813000019943040, '201': 749813000019943040, '202': 749813000019943040, '203': 749813000019942016, '204': 749813000019942016, '205': 749813000019942016, '206': 749813000019937024, '207': 749813000019920000, '208': 749813000019911040, '209': 749813000019888000, '210': 749813000019888000}, 'Task Name': {'0': 'Call regarding IT issues', '1': 'Re: Issue related to the Auto Check-out_Zoho People_Ozone', '2': 'Account deletion and adding in payroll - Request by Renuka', '3': 'Zoho Recruit Revamp Team call1234567890', '4': 'Feb Month Payroll', '5': 'For the probation extension- The correct review date', '6': 'New Joiner Leave balance Issue', '7': 'Zoho Payroll training to Jyothi', '8': 'Resignation process flow – need review from our HR team', '9': 'HQ location basis attendance Report', '10': 'Sick leave is not added for new employees', '11': 'Employee CTC Add in Zoho payroll', '12': 'Probation Section add in Employee Form', '13': 'RE: POI month update', '14': 'Employee profile update for Archana and Arfath', '15': 'Zoho Recruit Revamp Team call', '16': 'Zoho Recruit - Calendar Issue', '17': 'Exit Process testing', '18': 'Support request on Re:[## 27462 ##] Admin access for Payroll Module', '19': 'Call with Haqdarshak on Zoho recruit Revamp', '20': 'Re: Implementation of Automatic Absence Notification Emails for Employees', '21': 'Escalation work, Mails to Zoho Support team', '22': 'Date format update', '23': 'Support request : Fwd: ZOHO people corrections', '24': 'Support request FW: New KRA request', '25': 'Call with Pansheel and victor for Probation Workflows and Fellow extension workflows', '26': 'Additional Department | MIS', '27': 'NEED TO ADD NEW ORGANISATION AND LINK EMPLOYEES', '28': 'UAT Training', '29': 'Support on Zoho Payroll', '30': 'Query on Leave module', '31': 'Support request on RE: Manager review', '32': 'New user creation in Zoho people and onboarding triggered', '33': 'Self appraisal Tab is not showing', '34': 'RE: 2nd shift attendance error', '35': 'Relocation workflow- Checks', '36': 'Call on Annual appraisal form', '37': 'CTW Systems_Zoho people Demo', '38': 'User Acceptance testing', '39': 'Employee pay structure', '40': 'Approvals', '41': 'Mail Merge Templates', '42': 'Benefits', '43': 'Employee Database', '44': 'Updates after UAT', '45': 'Blueprint Process', '46': 'Email Templates', '47': 'KRA list Addition', '48': 'User manual Update', '49': 'Error in people - payroll sync', '50': 'Checkout function implementation', '51': 'Exit Process implementation', '52': 'Recruit Demo_Haqdarshak', '53': 'Spot award Requirement Discussion', '54': 'scheduled attendance records at the end of every month to the finance team.', '55': \"Meeting on KRA's March 2024\", '56': 'Important: Leave Type in Dropdown Menu', '57': 'call on PMS with apoorva', '58': 'New designation updates', '59': 'Paternity leave issue (repeatedly not ok)', '60': 'Chaity Pathak – INNOO225 is not able update educational and other details', '61': 'Showing others instead of onduty', '62': 'UAT improvisations', '63': 'Discussion on Probation confirmation workflow error', '64': 'Re: Punch Access | Navi Mumbai location', '65': 'RE: PMS Process : Re:[## 5733 ##] Re: Annual Appraisal Process Automation', '66': 'Email Follow-up', '67': 'Employee Adding error in people', '68': 'Support request on Exit checklist', '69': 'Request for creating HR Admin role in Zoho People', '70': 'Probation Confirmation workflow not getting triggered', '71': 'Escalation work with monik', '72': 'Support request : Employee master data upload', '73': 'Company Name - Priority support needed', '74': 'Zoho creator syn error- Rahul Prasad', '75': 'Team Inspire : Standup Call Feb 2024', '76': 'January payrun matching', '77': 'Employee ID issue', '78': 'Updates discussed in UAT training call', '79': 'January Payroll TDS issue', '80': 'RE: January payroll issue', '81': 'Support request on RE: Instant Sync error', '82': 'Holidays', '83': 'December payrun', '84': 'RE: Lack of POI submission in ZOHO', '85': 'Employee data bulk upload', '86': 'Zoho Payroll Training', '87': 'Prior Payrun', '88': 'Employee details', '89': 'Roles and Permissions', '90': 'Probation Flow', '91': 'Leave Management', '92': 'Training', '93': 'Offer Letter Templates', '94': 'HR Inbox', '95': 'Hiring Pipeline', '96': 'Videos for Hiring Manager and recruiter steps', '97': 'Team Inspire : Standup Call Jan 2024', '98': 'Requirement Gathering Document_People & payroll_Ozone Entertainments', '99': 'Sick Leaves issue', '100': 'call on PAyroll', '101': 'MOM Preparation for the previous calls (Appraisal setup call and New requirement discussion)', '102': 'Spot award Requirement Discussion', '103': 'Auto checkout issue', '104': 'For fellow extensions- we need to get a letter triggered for every extension form that is submitted', '105': 'KRA Adding', '106': 'Feasibility check for Job Requisition Form', '107': 'Support request : Export Access Required', '108': 'Demo preparation for Mispa - Zoho Recruit', '109': 'Department creation in New Branch under Zoho people', '110': 'Task details preparation and Sharing', '111': 'Report Schedular and call with jyothi for check-in/out report', '112': 'HQ location basis attendance Report', '113': 'Appraisee view not available in iphone', '114': 'Second shift attendance issue is not resolved (pending since more than 2 months)', '115': 'Job Requisition Form Customization', '116': 'Thoucentric Scrum call', '117': 'Support request : Unable to apply comp off', '118': 'CTW Kick off meeting', '119': 'Zoho people account issue_Longitude', '120': 'Employee profile update for Archana and Arfath', '121': 'Re: Implementation of Automatic Absence Notification Emails for Employees', '122': 'Issue Downloading Payslip on Mobile - Support Assistance Required', '123': 'Zoho Recruit Revamp request', '124': 'Training', '125': 'Demo call with thoughtfocus', '126': 'Adding New users to payroll', '127': 'Feasibility study on new requirements', '128': 'fellow extension workflow', '129': '1 Rupee difference in offer letter', '130': 'Support request : #5895 Leave Issue', '131': 'Call on Skill set and Nine-Box matrix discussion', '132': 'Fwd: Probation confirmed', '133': 'Re: Location tracking in Attendance sheet', '134': 'Presales call with Renuka (Advisor Labs)', '135': 'RE: PL Approval issue', '136': 'Punch Access | Geo Restriction', '137': 'HRMS Demo_Alain Charles', '138': 'Scrum call', '139': 'Support request on Re: Urgent : payroll processing', '140': 'Admin Access required for', '141': 'Call on Requirement gathering document', '142': 'December Payroll', '143': 'People & Payroll integration', '144': 'Statutory details', '145': 'Performance Module implementation', '146': 'Separation Flow', '147': 'Attendance Management', '148': 'Technical Solution Document', '149': 'Scope of Work/TSD Document', '150': 'Interview Names', '151': 'Status', '152': 'Training call', '153': 'Discussion on 2nd shift attendance error', '154': 'Payroll support request by Surekha Mainkar', '155': 'Zoho Support call', '156': 'Mail preparation for Scope of Zoho recruit Revamp', '157': 'Feasibility check call with  Zoho support for 9 box and Spot award', '158': 'Call on 9 box matrix with Archana', '159': 'Call with ZOho Support team for Calendar issue', '160': 'Approval flow issue', '161': 'Zoho Configuration- Annual Appraisal Timelines- 2024', '162': 'Call with Zoho Support for feasibility check', '163': 'Permission Document creation', '164': 'New Field creation in Employee form', '165': 'New field is required – Aadhar PAN link – option yes/no – access to all employees.', '166': '3 Shift settings required to Jaipur Location', '167': 'Vikram Singh self appraisal issue', '168': 'Employee details Mapping in Zoho One', '169': 'Weekly Scrum call', '170': 'Auto check-out function implementation after UAT', '171': 'Requirement gathering session', '172': 'Email replies', '173': 'Support request on Re: Appraisee View', '174': 'Re: Paternity leave added wrongly', '175': 'Attendance module error', '176': 'Call with Haqdarshak on PMS', '177': 'New change requirement of ZOho Recruit', '178': 'Scrum call with thoucentric team', '179': 'Exit checklist call with Thoucentric team', '180': 'Call on Zoho HRMS_Timeline Discussion', '181': 'Support request on Work Anniversary Message not triggered', '182': 'RE: ZOHO people corrections', '183': 'Payroll requirement Discussion', '184': 'Appointment letter template', '185': 'Project status Mail', '186': 'Performance module call', '187': 'Status update meet', '188': 'Re: Project mapping error- Zoho people', '189': 'Support request on Re: Deactivate Exit Interview Form on Zoho People', '190': \"Support request on Error in Quarterly Check in form (Oct-Dec '23)\", '191': 'Presales call with Sonic Bolt', '192': 'Call with Bhavani', '193': 'high priority  - Sick Leaves issue', '194': 'Call with Zoho Support for Payroll queries_IITPL', '195': 'form customization for Annual appraisal process', '196': 'Meeting on Zoho Payroll issues', '197': 'Employee Database', '198': 'Salary template', '199': 'Department, Designation and location', '200': 'Workflows and Email Automation', '201': 'Location and Shift Mapping', '202': 'Employee Onboarding', '203': 'User Acceptance Testing', '204': 'Testing', '205': 'Candidate Stages', '206': 'Letters_2gethr', '207': 'Appraisal cycle implementation', '208': 'Open points of Continuous Review Q3- (Oct-Dec 2023)', '209': 'Call on Holiday List addition', '210': 'Support request : Mail is not triggered to the respective stakeholders to clear the checklist'}, 'Owner': {'0': 'Kiran Shrivastav', '1': 'Kiran Shrivastav', '2': 'Kiran Shrivastav', '3': 'Kiran Shrivastav', '4': 'Kiran Shrivastav', '5': 'Kiran Shrivastav', '6': 'Kiran Shrivastav', '7': 'Kiran Shrivastav', '8': 'Kiran Shrivastav', '9': 'Kiran Shrivastav', '10': 'Kiran Shrivastav', '11': 'Kiran Shrivastav', '12': 'Kiran Shrivastav', '13': 'Kiran Shrivastav', '14': 'Kiran Shrivastav', '15': 'Kiran Shrivastav', '16': 'Kiran Shrivastav', '17': 'Kiran Shrivastav', '18': 'Kiran Shrivastav', '19': 'Kiran Shrivastav', '20': 'Kiran Shrivastav', '21': 'Kiran Shrivastav', '22': 'Kiran Shrivastav,Monik Chettiyar', '23': 'Kiran Shrivastav', '24': 'Kiran Shrivastav', '25': 'Kiran Shrivastav', '26': 'Kiran Shrivastav', '27': 'Kiran Shrivastav', '28': 'Kiran Shrivastav', '29': 'Kiran Shrivastav', '30': 'Kiran Shrivastav', '31': 'Kiran Shrivastav', '32': 'Kiran Shrivastav', '33': 'Kiran Shrivastav', '34': 'Kiran Shrivastav', '35': 'Kiran Shrivastav', '36': 'Kiran Shrivastav', '37': 'Kiran Shrivastav', '38': 'Kiran Shrivastav', '39': 'Kiran Shrivastav', '40': 'Kiran Shrivastav', '41': 'Kiran Shrivastav', '42': 'Kiran Shrivastav', '43': 'Kiran Shrivastav', '44': 'Kiran Shrivastav', '45': 'Kiran Shrivastav', '46': 'Kiran Shrivastav', '47': 'Kiran Shrivastav', '48': 'Kiran Shrivastav', '49': 'Kiran Shrivastav', '50': 'Mohan Kumar,Kiran Shrivastav', '51': 'Kiran Shrivastav', '52': 'Kiran Shrivastav', '53': 'Kiran Shrivastav', '54': 'Kiran Shrivastav', '55': 'Kiran Shrivastav', '56': 'Kiran Shrivastav', '57': 'Kiran Shrivastav', '58': 'Kiran Shrivastav', '59': 'Kiran Shrivastav', '60': 'Kiran Shrivastav', '61': 'Kiran Shrivastav', '62': 'Kiran Shrivastav', '63': 'Kiran Shrivastav', '64': 'Kiran Shrivastav', '65': 'Kiran Shrivastav', '66': 'Kiran Shrivastav', '67': 'Kiran Shrivastav', '68': 'Kiran Shrivastav', '69': 'Kiran Shrivastav', '70': 'Kiran Shrivastav', '71': 'Kiran Shrivastav,Monik Chettiyar', '72': 'Kiran Shrivastav', '73': 'Kiran Shrivastav', '74': 'Kiran Shrivastav', '75': 'Supril Jain,Nikita Srivastava,Maninder Singh,Tanu Gupta,Kiran Shrivastav,Monik Chettiyar', '76': 'Kiran Shrivastav', '77': 'Kiran Shrivastav', '78': 'Kiran Shrivastav', '79': 'Kiran Shrivastav', '80': 'Kiran Shrivastav', '81': 'Kiran Shrivastav', '82': 'Kiran Shrivastav', '83': 'Kiran Shrivastav', '84': 'Kiran Shrivastav', '85': 'Kiran Shrivastav', '86': 'Kiran Shrivastav', '87': 'Kiran Shrivastav', '88': 'Kiran Shrivastav', '89': 'Kiran Shrivastav', '90': 'Kiran Shrivastav', '91': 'Kiran Shrivastav', '92': 'Kiran Shrivastav', '93': 'Kiran Shrivastav', '94': 'Kiran Shrivastav', '95': 'Kiran Shrivastav', '96': 'Kiran Shrivastav', '97': 'Supril Jain,Nikita Srivastava,Maninder Singh,Tanu Gupta,Kiran Shrivastav,Monik Chettiyar', '98': 'Kiran Shrivastav', '99': 'Kiran Shrivastav', '100': 'Kiran Shrivastav', '101': 'Kiran Shrivastav', '102': 'Kiran Shrivastav', '103': 'Kiran Shrivastav', '104': 'Kiran Shrivastav', '105': 'Kiran Shrivastav', '106': 'Kiran Shrivastav', '107': 'Kiran Shrivastav', '108': 'Kiran Shrivastav', '109': 'Kiran Shrivastav', '110': 'Kiran Shrivastav', '111': 'Kiran Shrivastav', '112': 'Kiran Shrivastav', '113': 'Kiran Shrivastav', '114': 'Kiran Shrivastav', '115': 'Kiran Shrivastav', '116': 'Kiran Shrivastav', '117': 'Kiran Shrivastav', '118': 'Tanu Gupta,Kiran Shrivastav', '119': 'Kiran Shrivastav', '120': 'Kiran Shrivastav', '121': 'Kiran Shrivastav', '122': 'Kiran Shrivastav', '123': 'Kiran Shrivastav', '124': 'Kiran Shrivastav', '125': 'Kiran Shrivastav', '126': 'Kiran Shrivastav', '127': 'Kiran Shrivastav', '128': 'Kiran Shrivastav', '129': 'Kiran Shrivastav', '130': 'Kiran Shrivastav', '131': 'Kiran Shrivastav', '132': 'Kiran Shrivastav', '133': 'Kiran Shrivastav', '134': 'Kiran Shrivastav', '135': 'Kiran Shrivastav', '136': 'Kiran Shrivastav', '137': 'Kiran Shrivastav', '138': 'Kiran Shrivastav', '139': 'Irshad Pasha,Kiran Shrivastav', '140': 'Kiran Shrivastav', '141': 'Kiran Shrivastav', '142': 'Kiran Shrivastav', '143': 'Kiran Shrivastav', '144': 'Kiran Shrivastav', '145': 'Kiran Shrivastav', '146': 'Kiran Shrivastav', '147': 'Kiran Shrivastav', '148': 'Kiran Shrivastav', '149': 'Kiran Shrivastav', '150': 'Kiran Shrivastav', '151': 'Kiran Shrivastav', '152': 'Kiran Shrivastav', '153': 'Kiran Shrivastav', '154': 'Kiran Shrivastav', '155': 'Mohammed Yusha,Kiran Shrivastav', '156': 'Kiran Shrivastav', '157': 'Kiran Shrivastav', '158': 'Kiran Shrivastav', '159': 'Kiran Shrivastav', '160': 'Kiran Shrivastav', '161': 'Kiran Shrivastav', '162': 'Kiran Shrivastav', '163': 'Tanu Gupta,Kiran Shrivastav', '164': 'Kiran Shrivastav', '165': 'Kiran Shrivastav', '166': 'Kiran Shrivastav', '167': 'Kiran Shrivastav', '168': 'Kiran Shrivastav', '169': 'Kiran Shrivastav', '170': 'Kiran Shrivastav', '171': 'Mohammed Yusha,Tanu Gupta,Kiran Shrivastav', '172': 'Kiran Shrivastav', '173': 'Kiran Shrivastav', '174': 'Kiran Shrivastav', '175': 'Kiran Shrivastav', '176': 'Kiran Shrivastav', '177': 'Kiran Shrivastav', '178': 'Kiran Shrivastav,Monik Chettiyar', '179': 'Kiran Shrivastav,Monik Chettiyar', '180': 'Kiran Shrivastav', '181': 'Kiran Shrivastav', '182': 'Kiran Shrivastav', '183': 'Kiran Shrivastav', '184': 'Kiran Shrivastav', '185': 'Kiran Shrivastav', '186': 'Kiran Shrivastav', '187': 'Kiran Shrivastav', '188': 'Kiran Shrivastav', '189': 'Kiran Shrivastav', '190': 'Kiran Shrivastav', '191': 'Kiran Shrivastav', '192': 'Kiran Shrivastav', '193': 'Kiran Shrivastav', '194': 'Kiran Shrivastav', '195': 'Kiran Shrivastav', '196': 'Kiran Shrivastav', '197': 'Kiran Shrivastav', '198': 'Kiran Shrivastav', '199': 'Kiran Shrivastav', '200': 'Kiran Shrivastav', '201': 'Kiran Shrivastav', '202': 'Kiran Shrivastav', '203': 'Kiran Shrivastav', '204': 'Kiran Shrivastav', '205': 'Kiran Shrivastav', '206': 'Kiran Shrivastav', '207': 'Kiran Shrivastav', '208': 'Kiran Shrivastav', '209': 'Kiran Shrivastav', '210': 'Kiran Shrivastav'}, 'Priority': {'0': None, '1': None, '2': None, '3': None, '4': None, '5': None, '6': None, '7': None, '8': None, '9': None, '10': None, '11': None, '12': None, '13': None, '14': None, '15': None, '16': None, '17': None, '18': None, '19': None, '20': None, '21': None, '22': None, '23': None, '24': None, '25': None, '26': None, '27': None, '28': None, '29': None, '30': None, '31': None, '32': None, '33': None, '34': None, '35': None, '36': None, '37': None, '38': None, '39': None, '40': None, '41': None, '42': None, '43': None, '44': None, '45': None, '46': None, '47': None, '48': None, '49': None, '50': None, '51': None, '52': None, '53': None, '54': None, '55': None, '56': None, '57': None, '58': None, '59': None, '60': None, '61': None, '62': None, '63': None, '64': None, '65': None, '66': None, '67': None, '68': None, '69': None, '70': None, '71': None, '72': None, '73': None, '74': None, '75': 'Medium', '76': None, '77': None, '78': None, '79': None, '80': None, '81': None, '82': None, '83': None, '84': None, '85': None, '86': None, '87': None, '88': None, '89': None, '90': None, '91': None, '92': None, '93': None, '94': None, '95': None, '96': None, '97': 'High', '98': None, '99': None, '100': None, '101': None, '102': None, '103': None, '104': None, '105': None, '106': None, '107': None, '108': None, '109': None, '110': None, '111': None, '112': None, '113': None, '114': None, '115': None, '116': None, '117': None, '118': 'High', '119': None, '120': None, '121': None, '122': None, '123': None, '124': None, '125': None, '126': None, '127': None, '128': None, '129': None, '130': None, '131': None, '132': None, '133': None, '134': None, '135': None, '136': None, '137': None, '138': None, '139': None, '140': None, '141': None, '142': None, '143': None, '144': None, '145': None, '146': None, '147': None, '148': None, '149': None, '150': None, '151': None, '152': None, '153': None, '154': None, '155': None, '156': None, '157': None, '158': None, '159': None, '160': None, '161': None, '162': None, '163': None, '164': None, '165': None, '166': None, '167': None, '168': None, '169': None, '170': None, '171': None, '172': None, '173': None, '174': None, '175': None, '176': None, '177': None, '178': None, '179': None, '180': None, '181': None, '182': None, '183': None, '184': None, '185': None, '186': None, '187': None, '188': None, '189': None, '190': None, '191': None, '192': None, '193': None, '194': None, '195': None, '196': None, '197': None, '198': None, '199': None, '200': None, '201': None, '202': None, '203': None, '204': None, '205': None, '206': None, '207': None, '208': None, '209': None, '210': None}, 'Start Date': {'0': '2024-03-15 09:30:00', '1': '2024-03-12 09:30:00', '2': '2024-03-14 09:30:00', '3': '2024-02-20 09:30:00', '4': '2024-03-08 09:30:00', '5': '2024-03-08 09:30:00', '6': '2024-03-06 09:30:00', '7': '2024-03-05 09:30:00', '8': '2024-02-29 09:30:00', '9': '2024-02-29 09:30:00', '10': '2024-02-29 09:30:00', '11': '2024-02-27 09:30:00', '12': '2024-02-26 09:30:00', '13': '2024-02-23 09:30:00', '14': '2024-02-21 09:30:00', '15': '2024-02-20 09:30:00', '16': '2024-02-19 09:30:00', '17': '2024-02-16 09:30:00', '18': '2024-02-15 09:30:00', '19': '2024-02-14 09:30:00', '20': '2023-11-30 09:30:00', '21': '2024-02-08 09:30:00', '22': '2024-02-08 09:30:00', '23': '2024-02-05 09:30:00', '24': '2024-02-05 09:30:00', '25': '2024-02-02 09:30:00', '26': '2024-02-02 09:30:00', '27': '2024-01-30 09:30:00', '28': '2024-01-29 09:30:00', '29': '2024-01-22 09:30:00', '30': '2024-01-19 09:30:00', '31': '2024-01-18 09:30:00', '32': '2024-01-11 09:30:00', '33': '2024-01-10 09:30:00', '34': '2024-01-08 09:30:00', '35': '2024-01-08 09:30:00', '36': '2024-01-08 09:30:00', '37': '2024-01-05 09:30:00', '38': '2024-01-31 09:30:00', '39': '2024-01-29 09:30:00', '40': '2024-01-22 09:30:00', '41': '2024-01-17 09:30:00', '42': '2024-01-15 09:30:00', '43': '2024-01-15 09:30:00', '44': '2024-01-18 09:30:00', '45': '2024-01-12 09:30:00', '46': '2024-01-12 09:30:00', '47': '2024-01-05 09:30:00', '48': '2024-01-03 09:30:00', '49': '2024-01-09 09:30:00', '50': '2024-03-12 09:30:00', '51': '2024-03-15 09:30:00', '52': '2024-03-13 09:30:00', '53': '2024-03-12 09:30:00', '54': '2024-02-26 09:30:00', '55': '2024-03-06 09:30:00', '56': '2024-03-06 09:30:00', '57': '2024-03-05 09:30:00', '58': '2024-03-04 09:30:00', '59': '2024-02-29 09:30:00', '60': '2024-02-29 09:30:00', '61': '2024-02-29 09:30:00', '62': '2024-02-26 09:30:00', '63': '2024-02-26 09:30:00', '64': '2024-02-20 09:30:00', '65': '2024-02-19 09:30:00', '66': '2024-02-16 09:30:00', '67': '2024-01-29 09:30:00', '68': '2024-02-14 09:30:00', '69': '2024-02-08 09:30:00', '70': '2024-02-09 09:30:00', '71': '2024-02-08 09:30:00', '72': '2024-02-05 09:30:00', '73': '2024-02-06 09:30:00', '74': '2024-02-07 09:30:00', '75': '2024-02-01 09:30:00', '76': '2024-02-01 09:30:00', '77': '2024-01-25 09:30:00', '78': '2024-01-30 09:30:00', '79': '2024-01-29 09:30:00', '80': '2024-01-22 09:30:00', '81': '2024-01-19 09:30:00', '82': '2024-01-19 09:30:00', '83': '2024-01-11 09:30:00', '84': '2024-01-08 09:30:00', '85': '2024-01-05 09:30:00', '86': '2024-01-31 09:30:00', '87': '2024-01-30 09:30:00', '88': '2024-01-25 09:30:00', '89': '2024-01-17 09:30:00', '90': '2024-01-15 09:30:00', '91': '2024-01-15 09:30:00', '92': '2024-01-24 09:30:00', '93': '2024-01-11 09:30:00', '94': '2024-01-12 09:30:00', '95': '2024-01-11 09:30:00', '96': '2024-01-04 09:30:00', '97': '2024-01-02 09:30:00', '98': '2024-01-02 09:30:00', '99': '2024-01-02 09:30:00', '100': '2024-03-06 09:30:00', '101': '2024-02-13 09:30:00', '102': '2024-03-12 09:30:00', '103': '2024-03-12 09:30:00', '104': '2024-02-26 09:30:00', '105': '2024-03-07 09:30:00', '106': '2024-03-05 09:30:00', '107': '2024-03-04 09:30:00', '108': '2024-03-04 09:30:00', '109': '2024-03-04 09:30:00', '110': '2024-03-01 09:30:00', '111': '2024-02-28 09:30:00', '112': '2024-02-29 09:30:00', '113': '2024-02-29 09:30:00', '114': '2024-02-29 09:30:00', '115': '2024-02-27 09:30:00', '116': '2024-02-23 09:30:00', '117': None, '118': '2024-02-21 09:30:00', '119': '2024-02-21 09:30:00', '120': '2024-02-21 09:30:00', '121': '2024-02-21 09:30:00', '122': '2024-02-20 09:30:00', '123': '2024-02-19 09:30:00', '124': '2024-01-29 09:30:00', '125': '2024-02-14 09:30:00', '126': '2024-02-13 09:30:00', '127': '2024-01-31 09:30:00', '128': '2024-02-09 09:30:00', '129': '2024-02-09 09:30:00', '130': '2024-02-06 09:30:00', '131': '2024-02-05 09:30:00', '132': '2024-02-01 09:30:00', '133': '2024-01-31 09:30:00', '134': '2024-01-30 09:30:00', '135': None, '136': '2024-01-17 09:30:00', '137': '2024-01-12 09:30:00', '138': '2024-01-10 09:30:00', '139': '2024-01-10 09:30:00', '140': '2024-01-09 09:30:00', '141': '2024-01-08 09:30:00', '142': '2024-01-05 09:30:00', '143': '2024-01-30 09:30:00', '144': '2024-01-25 09:30:00', '145': '2024-01-22 09:30:00', '146': '2024-01-15 09:30:00', '147': '2024-01-15 09:30:00', '148': '2024-01-08 09:30:00', '149': '2024-01-11 09:30:00', '150': '2024-01-11 09:30:00', '151': '2024-01-11 09:30:00', '152': '2024-01-04 09:30:00', '153': '2024-01-04 09:30:00', '154': '2023-12-29 09:30:00', '155': '2024-03-12 09:30:00', '156': '2024-03-14 09:30:00', '157': '2024-03-14 09:30:00', '158': '2024-02-13 09:30:00', '159': '2024-03-12 09:30:00', '160': '2024-03-12 09:30:00', '161': '2024-03-04 09:30:00', '162': '2024-03-05 09:30:00', '163': '2024-03-05 09:30:00', '164': '2024-03-05 09:30:00', '165': '2024-02-29 09:30:00', '166': '2024-02-29 09:30:00', '167': '2024-02-29 09:30:00', '168': '2024-02-28 09:30:00', '169': '2024-02-27 09:30:00', '170': '2024-02-23 09:30:00', '171': '2024-02-27 09:30:00', '172': '2024-02-22 09:30:00', '173': '2024-02-20 09:30:00', '174': '2024-02-20 09:30:00', '175': '2024-01-30 09:30:00', '176': '2024-02-13 09:30:00', '177': '2024-02-14 09:30:00', '178': '2024-02-08 09:30:00', '179': '2024-02-08 09:30:00', '180': '2024-02-05 09:30:00', '181': '2024-02-01 09:30:00', '182': '2024-02-02 09:30:00', '183': '2024-01-31 09:30:00', '184': '2024-01-31 09:30:00', '185': '2024-01-30 09:30:00', '186': '2024-01-29 09:30:00', '187': '2024-01-22 09:30:00', '188': '2024-01-23 09:30:00', '189': '2024-01-19 09:30:00', '190': '2024-01-16 09:30:00', '191': '2024-01-16 09:30:00', '192': '2024-01-10 09:30:00', '193': '2024-01-09 09:30:00', '194': '2024-01-08 09:30:00', '195': '2024-01-08 09:30:00', '196': '2024-01-05 09:30:00', '197': '2024-01-30 09:30:00', '198': '2024-01-26 09:30:00', '199': '2024-01-22 09:30:00', '200': '2024-01-15 09:30:00', '201': '2024-01-16 09:30:00', '202': '2024-01-15 09:30:00', '203': '2024-01-17 09:30:00', '204': '2024-01-15 09:30:00', '205': '2024-01-11 09:30:00', '206': '2024-01-04 09:30:00', '207': '2024-01-03 09:30:00', '208': '2024-01-03 09:30:00', '209': '2024-01-02 09:30:00', '210': '2024-01-02 09:30:00'}, 'Due Date': {'0': '2024-03-15 19:00:00', '1': '2024-03-12 19:00:00', '2': '2024-03-15 19:00:00', '3': '2024-02-29 19:00:00', '4': '2024-03-11 19:00:00', '5': '2024-03-08 19:00:00', '6': '2024-03-07 19:00:00', '7': '2024-03-05 19:00:00', '8': '2024-03-01 19:00:00', '9': '2024-03-01 19:00:00', '10': '2024-03-01 19:00:00', '11': '2024-03-01 19:00:00', '12': '2024-02-26 19:00:00', '13': '2024-02-23 19:00:00', '14': '2024-02-21 19:00:00', '15': '2024-02-29 19:00:00', '16': '2024-02-22 19:00:00', '17': '2024-02-16 19:00:00', '18': '2024-02-15 19:00:00', '19': '2024-02-14 19:00:00', '20': '2023-11-30 19:00:00', '21': '2024-02-29 19:00:00', '22': '2024-02-08 19:00:00', '23': '2024-02-05 19:00:00', '24': '2024-02-05 19:00:00', '25': '2024-02-02 19:00:00', '26': '2024-02-02 19:00:00', '27': '2024-01-30 19:00:00', '28': '2024-01-29 19:00:00', '29': '2024-01-23 19:00:00', '30': '2024-01-19 19:00:00', '31': '2024-01-18 19:00:00', '32': '2024-01-11 19:00:00', '33': '2024-01-10 19:00:00', '34': '2024-01-09 19:00:00', '35': '2024-01-08 19:00:00', '36': '2024-01-08 19:00:00', '37': '2024-01-05 19:00:00', '38': '2024-01-31 19:00:00', '39': '2024-01-29 19:00:00', '40': '2024-01-24 19:00:00', '41': '2024-01-19 19:00:00', '42': '2024-01-17 19:00:00', '43': '2024-01-17 19:00:00', '44': '2024-01-25 19:00:00', '45': '2024-01-12 19:00:00', '46': '2024-01-12 19:00:00', '47': '2024-01-05 19:00:00', '48': '2024-01-03 19:00:00', '49': '2024-01-10 19:00:00', '50': '2024-03-12 19:00:00', '51': '2024-03-15 19:00:00', '52': '2024-03-13 19:00:00', '53': '2024-03-12 19:00:00', '54': '2024-02-26 19:00:00', '55': '2024-03-06 19:00:00', '56': '2024-03-06 19:00:00', '57': '2024-03-05 19:00:00', '58': '2024-03-04 19:00:00', '59': '2024-03-01 19:00:00', '60': '2024-03-01 19:00:00', '61': '2024-03-01 19:00:00', '62': '2024-02-26 19:00:00', '63': '2024-02-26 19:00:00', '64': '2024-02-20 19:00:00', '65': '2024-02-23 19:00:00', '66': '2024-02-16 19:00:00', '67': '2024-01-29 19:00:00', '68': '2024-02-14 19:00:00', '69': '2024-02-08 19:00:00', '70': '2024-02-09 19:00:00', '71': '2024-02-08 19:00:00', '72': '2024-02-05 19:00:00', '73': '2024-02-06 19:00:00', '74': '2024-02-07 19:00:00', '75': '2024-02-29 19:00:00', '76': '2024-02-01 19:00:00', '77': '2024-01-25 19:00:00', '78': '2024-01-30 19:00:00', '79': '2024-01-29 19:00:00', '80': '2024-01-23 19:00:00', '81': '2024-01-19 19:00:00', '82': '2024-01-19 19:00:00', '83': '2024-01-11 19:00:00', '84': '2024-01-08 19:00:00', '85': '2024-01-05 19:00:00', '86': '2024-01-31 19:00:00', '87': '2024-01-30 19:00:00', '88': '2024-01-26 19:00:00', '89': '2024-01-19 19:00:00', '90': '2024-01-19 19:00:00', '91': '2024-01-17 19:00:00', '92': '2024-01-26 19:00:00', '93': '2024-01-12 19:00:00', '94': '2024-01-12 19:00:00', '95': '2024-01-11 19:00:00', '96': '2024-01-04 19:00:00', '97': '2024-01-31 19:00:00', '98': '2024-01-02 19:00:00', '99': '2024-01-02 19:00:00', '100': '2024-03-07 19:00:00', '101': '2024-02-13 19:00:00', '102': '2024-03-12 19:00:00', '103': '2024-03-12 19:00:00', '104': '2024-02-26 19:00:00', '105': '2024-03-07 19:00:00', '106': '2024-03-05 19:00:00', '107': '2024-03-04 19:00:00', '108': '2024-03-04 19:00:00', '109': '2024-03-04 19:00:00', '110': '2024-03-01 19:00:00', '111': '2024-02-29 19:00:00', '112': '2024-03-01 19:00:00', '113': '2024-03-01 19:00:00', '114': '2024-03-01 19:00:00', '115': '2024-03-08 19:00:00', '116': '2024-03-29 19:00:00', '117': None, '118': '2024-02-21 19:00:00', '119': '2024-02-23 19:00:00', '120': '2024-02-21 19:00:00', '121': '2024-02-21 19:00:00', '122': '2024-02-20 19:00:00', '123': '2024-02-23 19:00:00', '124': '2024-02-16 19:00:00', '125': '2024-02-14 19:00:00', '126': '2024-02-13 19:00:00', '127': '2024-01-31 19:00:00', '128': '2024-02-09 19:00:00', '129': '2024-02-09 19:00:00', '130': '2024-02-06 19:00:00', '131': '2024-02-05 19:00:00', '132': '2024-02-01 19:00:00', '133': '2024-01-31 19:00:00', '134': '2024-01-30 19:00:00', '135': None, '136': '2024-01-17 19:00:00', '137': '2024-01-12 19:00:00', '138': '2024-01-31 19:00:00', '139': '2024-01-10 19:00:00', '140': '2024-01-09 19:00:00', '141': '2024-01-09 19:00:00', '142': '2024-01-05 19:00:00', '143': '2024-01-30 19:00:00', '144': '2024-01-25 19:00:00', '145': '2024-01-24 19:00:00', '146': '2024-01-19 19:00:00', '147': '2024-01-17 19:00:00', '148': '2024-01-09 19:00:00', '149': '2024-01-11 19:00:00', '150': '2024-01-11 19:00:00', '151': '2024-01-11 19:00:00', '152': '2024-01-04 11:30:00', '153': '2024-01-05 19:00:00', '154': '2023-12-29 19:00:00', '155': '2024-03-12 19:00:00', '156': '2024-03-14 19:00:00', '157': '2024-03-14 19:00:00', '158': '2024-02-13 19:00:00', '159': '2024-03-12 19:00:00', '160': '2024-03-12 19:00:00', '161': '2024-03-04 19:00:00', '162': '2024-03-05 19:00:00', '163': '2024-03-05 19:00:00', '164': '2024-03-05 19:00:00', '165': '2024-03-01 19:00:00', '166': '2024-03-01 19:00:00', '167': '2024-03-01 19:00:00', '168': '2024-02-28 19:00:00', '169': '2024-03-29 19:00:00', '170': '2024-02-23 19:00:00', '171': '2024-02-27 19:00:00', '172': '2024-02-22 19:00:00', '173': '2024-02-20 19:00:00', '174': '2024-02-20 19:00:00', '175': '2024-01-30 19:00:00', '176': '2024-02-13 19:00:00', '177': '2024-02-16 19:00:00', '178': '2024-02-08 19:00:00', '179': '2024-02-08 19:00:00', '180': '2024-02-05 19:00:00', '181': '2024-02-01 19:00:00', '182': '2024-02-02 19:00:00', '183': '2024-01-31 19:00:00', '184': '2024-01-31 19:00:00', '185': '2024-01-31 19:00:00', '186': '2024-01-29 19:00:00', '187': '2024-01-25 19:00:00', '188': '2024-01-23 19:00:00', '189': '2024-01-19 19:00:00', '190': '2024-01-17 19:00:00', '191': '2024-01-16 19:00:00', '192': '2024-01-10 19:00:00', '193': '2024-01-09 19:00:00', '194': '2024-01-08 19:00:00', '195': '2024-01-08 19:00:00', '196': '2024-01-05 19:00:00', '197': '2024-01-30 19:00:00', '198': '2024-01-29 19:00:00', '199': '2024-01-24 19:00:00', '200': '2024-01-19 19:00:00', '201': '2024-01-16 19:00:00', '202': '2024-01-15 19:00:00', '203': '2024-01-23 19:00:00', '204': '2024-01-16 19:00:00', '205': '2024-01-11 19:00:00', '206': '2024-01-04 19:00:00', '207': '2024-01-03 19:00:00', '208': '2024-01-04 19:00:00', '209': '2024-01-02 19:00:00', '210': '2024-01-04 19:00:00'}, 'Created Time': {'0': '2024-03-15 15:38:00', '1': '2024-03-14 17:55:00', '2': '2024-03-14 13:51:00', '3': '2024-03-13 09:25:00', '4': '2024-03-08 17:14:00', '5': '2024-03-08 09:30:00', '6': '2024-03-06 09:30:00', '7': '2024-03-05 20:26:00', '8': '2024-02-29 14:21:00', '9': '2024-02-29 14:18:00', '10': '2024-02-29 14:18:00', '11': '2024-02-27 18:58:00', '12': '2024-02-26 19:40:00', '13': '2024-02-23 18:32:00', '14': '2024-02-23 12:38:00', '15': '2024-02-20 13:59:00', '16': '2024-02-19 22:06:00', '17': '2024-02-16 09:27:00', '18': '2024-02-15 13:09:00', '19': '2024-02-14 16:20:00', '20': '2024-02-13 17:46:00', '21': '2024-02-09 14:03:00', '22': '2024-02-08 18:58:00', '23': '2024-02-05 22:00:00', '24': '2024-02-05 18:53:00', '25': '2024-02-02 09:23:00', '26': '2024-02-02 12:41:00', '27': '2024-01-30 10:53:00', '28': '2024-01-29 15:02:00', '29': '2024-01-22 21:45:00', '30': '2024-01-19 14:56:00', '31': '2024-01-18 23:15:00', '32': '2024-01-11 23:22:00', '33': '2024-01-10 15:41:00', '34': '2024-01-08 19:45:00', '35': '2024-01-08 15:53:00', '36': '2024-01-08 12:41:00', '37': '2024-01-05 11:06:00', '38': '2024-01-04 14:33:00', '39': '2024-01-04 14:17:00', '40': '2024-01-04 14:12:00', '41': '2024-01-04 14:00:00', '42': '2024-01-04 14:00:00', '43': '2024-01-04 13:58:00', '44': '2024-01-04 13:39:00', '45': '2024-01-04 13:33:00', '46': '2024-01-04 13:30:00', '47': '2024-01-04 10:36:00', '48': '2024-01-03 10:40:00', '49': '2024-01-02 18:33:00', '50': '2024-03-15 15:44:00', '51': '2024-03-15 09:58:00', '52': '2024-03-13 16:58:00', '53': '2024-03-12 17:53:00', '54': '2024-03-08 09:30:00', '55': '2024-03-07 18:31:00', '56': '2024-03-06 09:32:00', '57': '2024-03-05 20:27:00', '58': '2024-03-04 10:42:00', '59': '2024-02-29 14:21:00', '60': '2024-02-29 14:21:00', '61': '2024-02-29 14:18:00', '62': '2024-02-26 19:41:00', '63': '2024-02-26 15:10:00', '64': '2024-02-20 10:53:00', '65': '2024-02-19 22:07:00', '66': '2024-02-16 10:00:00', '67': '2024-02-12 17:28:00', '68': '2024-02-14 09:26:00', '69': '2024-02-09 16:31:00', '70': '2024-02-09 09:30:00', '71': '2024-02-08 12:45:00', '72': '2024-02-08 10:53:00', '73': '2024-02-06 12:06:00', '74': '2024-02-07 11:34:00', '75': '2024-02-04 22:16:00', '76': '2024-02-01 11:28:00', '77': '2024-01-25 18:07:00', '78': '2024-01-30 12:14:00', '79': '2024-01-29 17:00:00', '80': '2024-01-22 21:48:00', '81': '2024-01-19 19:28:00', '82': '2024-01-19 10:44:00', '83': '2024-01-11 23:23:00', '84': '2024-01-08 12:55:00', '85': '2024-01-05 11:40:00', '86': '2024-01-04 14:34:00', '87': '2024-01-04 14:17:00', '88': '2024-01-04 14:17:00', '89': '2024-01-04 14:00:00', '90': '2024-01-04 14:00:00', '91': '2024-01-04 13:58:00', '92': '2024-01-04 13:39:00', '93': '2024-01-04 13:33:00', '94': '2024-01-04 13:30:00', '95': '2024-01-04 13:30:00', '96': '2024-01-04 10:27:00', '97': '2024-01-02 23:57:00', '98': '2024-01-02 18:40:00', '99': '2024-01-02 18:27:00', '100': '2024-03-14 15:31:00', '101': '2024-03-13 09:25:00', '102': '2024-03-12 18:24:00', '103': '2024-03-12 09:53:00', '104': '2024-03-08 09:30:00', '105': '2024-03-07 09:30:00', '106': '2024-03-05 20:21:00', '107': '2024-03-04 16:48:00', '108': '2024-03-04 12:30:00', '109': '2024-03-04 11:00:00', '110': '2024-03-01 09:41:00', '111': '2024-02-29 18:35:00', '112': '2024-02-29 14:21:00', '113': '2024-02-29 14:21:00', '114': '2024-02-29 14:18:00', '115': '2024-02-27 18:53:00', '116': '2024-02-23 11:30:00', '117': '2024-02-26 10:18:00', '118': '2024-02-21 14:48:00', '119': '2024-02-21 14:21:00', '120': '2024-02-21 15:50:00', '121': '2024-02-21 09:53:00', '122': '2024-02-20 11:17:00', '123': '2024-02-19 23:31:00', '124': '2024-02-16 16:48:00', '125': '2024-02-14 12:27:00', '126': '2024-02-13 09:24:00', '127': '2024-02-12 13:04:00', '128': '2024-02-09 17:03:00', '129': '2024-02-09 10:42:00', '130': '2024-02-06 18:45:00', '131': '2024-02-05 21:55:00', '132': '2024-02-01 14:56:00', '133': '2024-01-31 12:58:00', '134': '2024-01-30 12:54:00', '135': '2024-01-29 17:05:00', '136': '2024-01-17 22:31:00', '137': '2024-01-12 14:56:00', '138': '2024-01-10 19:10:00', '139': '2024-01-10 12:37:00', '140': '2024-01-09 14:19:00', '141': '2024-01-08 15:00:00', '142': '2024-01-04 14:37:00', '143': '2024-01-04 14:17:00', '144': '2024-01-04 14:17:00', '145': '2024-01-04 14:12:00', '146': '2024-01-04 14:00:00', '147': '2024-01-04 13:58:00', '148': '2024-01-04 13:57:00', '149': '2024-01-04 13:33:00', '150': '2024-01-04 13:30:00', '151': '2024-01-04 13:30:00', '152': '2024-01-04 10:39:00', '153': '2024-01-03 09:56:00', '154': '2024-01-02 10:29:00', '155': '2024-03-15 13:59:00', '156': '2024-03-14 11:59:00', '157': '2024-03-14 09:22:00', '158': '2024-03-13 09:25:00', '159': '2024-03-12 18:24:00', '160': '2024-03-12 09:53:00', '161': '2024-03-08 14:00:00', '162': '2024-03-05 20:21:00', '163': '2024-03-05 11:10:00', '164': '2024-03-04 11:00:00', '165': '2024-02-29 14:21:00', '166': '2024-02-29 14:18:00', '167': '2024-02-29 14:18:00', '168': '2024-02-28 11:08:00', '169': '2024-02-27 18:55:00', '170': '2024-02-23 12:38:00', '171': '2024-02-26 11:01:00', '172': '2024-02-22 15:31:00', '173': '2024-02-20 13:57:00', '174': '2024-02-20 13:24:00', '175': '2024-02-20 10:43:00', '176': '2024-02-13 14:21:00', '177': '2024-02-14 15:23:00', '178': '2024-02-09 11:56:00', '179': '2024-02-08 15:16:00', '180': '2024-02-05 21:57:00', '181': '2024-02-01 16:44:00', '182': '2024-02-02 10:54:00', '183': '2024-01-31 15:49:00', '184': '2024-01-31 09:34:00', '185': '2024-01-30 10:01:00', '186': '2024-01-29 14:01:00', '187': '2024-01-22 21:40:00', '188': '2024-01-23 23:49:00', '189': '2024-01-19 14:46:00', '190': '2024-01-16 19:24:00', '191': '2024-01-16 12:32:00', '192': '2024-01-10 19:14:00', '193': '2024-01-09 15:09:00', '194': '2024-01-08 19:39:00', '195': '2024-01-08 12:40:00', '196': '2024-01-05 20:14:00', '197': '2024-01-04 14:17:00', '198': '2024-01-04 14:17:00', '199': '2024-01-04 14:12:00', '200': '2024-01-04 14:00:00', '201': '2024-01-04 13:58:00', '202': '2024-01-04 13:58:00', '203': '2024-01-04 13:33:00', '204': '2024-01-04 13:30:00', '205': '2024-01-04 13:30:00', '206': '2024-01-04 10:34:00', '207': '2024-01-03 12:36:00', '208': '2024-01-03 10:31:00', '209': '2024-01-02 18:31:00', '210': '2024-01-02 14:42:00'}, 'Status': {'0': 'To Do', '1': 'To Do', '2': 'To Do', '3': 'In Progress', '4': 'To Do', '5': 'To Do', '6': 'To Do', '7': 'Done', '8': 'To Do', '9': 'To Do', '10': 'To Do', '11': 'To Do', '12': 'To Do', '13': 'Done', '14': 'To Do', '15': 'In Progress', '16': 'In Progress', '17': 'Done', '18': 'Done', '19': 'To Do', '20': 'Done', '21': 'In Progress', '22': 'Done', '23': 'Done', '24': 'Done', '25': 'To Do', '26': 'Done', '27': 'Done', '28': 'Done', '29': 'To Do', '30': 'Done', '31': 'Done', '32': 'Done', '33': 'Done', '34': 'Done', '35': 'Done', '36': 'Done', '37': 'Done', '38': 'Done', '39': 'Done', '40': 'Done', '41': 'Done', '42': 'Done', '43': 'Done', '44': 'To Do', '45': 'To Do', '46': 'To Do', '47': 'Done', '48': 'Done', '49': 'Done', '50': 'To Do', '51': 'To Do', '52': 'To Do', '53': 'To Do', '54': 'To Do', '55': 'To Do', '56': 'Done', '57': 'In Progress', '58': 'To Do', '59': 'To Do', '60': 'To Do', '61': 'To Do', '62': 'To Do', '63': 'To Do', '64': 'Done', '65': 'In Progress', '66': 'To Do', '67': 'Done', '68': 'Done', '69': 'Done', '70': 'Done', '71': 'In Progress', '72': 'Done', '73': 'Done', '74': 'Done', '75': 'Done', '76': 'Done', '77': 'Done', '78': 'To Do', '79': 'To Do', '80': 'Done', '81': 'Done', '82': 'Done', '83': 'Done', '84': 'Done', '85': 'Done', '86': 'Done', '87': 'Done', '88': 'Done', '89': 'Done', '90': 'Done', '91': 'Development', '92': 'To Do', '93': 'To Do', '94': 'To Do', '95': 'To Do', '96': 'Done', '97': 'Done', '98': 'Done', '99': 'Done', '100': 'To Do', '101': 'In Progress', '102': 'To Do', '103': 'To Do', '104': 'To Do', '105': 'Done', '106': 'Done', '107': 'Done', '108': 'To Do', '109': 'To Do', '110': 'To Do', '111': 'To Do', '112': 'To Do', '113': 'To Do', '114': 'To Do', '115': 'To Do', '116': 'To Do', '117': 'Done', '118': 'Done', '119': 'In Progress', '120': 'To Do', '121': 'Done', '122': 'To Do', '123': 'In Progress', '124': 'Development', '125': 'To Do', '126': 'Done', '127': 'Done', '128': 'Done', '129': 'Done', '130': 'Done', '131': 'Done', '132': 'To Do', '133': 'Done', '134': 'To Do', '135': 'Done', '136': 'Done', '137': 'Done', '138': 'Done', '139': 'Done', '140': 'Done', '141': 'Done', '142': 'Done', '143': 'Done', '144': 'Done', '145': 'Done', '146': 'Done', '147': 'Development', '148': 'To Do', '149': 'To Do', '150': 'To Do', '151': 'To Do', '152': 'Done', '153': 'Done', '154': 'Done', '155': 'To Do', '156': 'To Do', '157': 'To Do', '158': 'In Progress', '159': 'To Do', '160': 'To Do', '161': 'Done', '162': 'Done', '163': 'To Do', '164': 'To Do', '165': 'To Do', '166': 'To Do', '167': 'To Do', '168': 'To Do', '169': 'To Do', '170': 'To Do', '171': 'Discovery Phase', '172': 'To Do', '173': 'To Do', '174': 'Done', '175': 'Development', '176': 'Done', '177': 'To Do', '178': 'In Progress', '179': 'Done', '180': 'Done', '181': 'Done', '182': 'Done', '183': 'Done', '184': 'To Do', '185': 'Done', '186': 'Done', '187': 'Done', '188': 'To Do', '189': 'Done', '190': 'Done', '191': 'Done', '192': 'Done', '193': 'Done', '194': 'Done', '195': 'Done', '196': 'Done', '197': 'Done', '198': 'Done', '199': 'Done', '200': 'Done', '201': 'Done', '202': 'Done', '203': 'To Do', '204': 'To Do', '205': 'To Do', '206': 'In Progress', '207': 'Done', '208': 'Done', '209': 'Done', '210': 'Done'}, 'Is Overdue': {'0': 'Yes', '1': 'Yes', '2': 'Yes', '3': 'Yes', '4': 'Yes', '5': 'Yes', '6': 'Yes', '7': 'No', '8': 'Yes', '9': 'Yes', '10': 'Yes', '11': 'Yes', '12': 'Yes', '13': 'No', '14': 'Yes', '15': 'Yes', '16': 'Yes', '17': 'No', '18': 'No', '19': 'Yes', '20': 'Yes', '21': 'Yes', '22': 'No', '23': 'No', '24': 'No', '25': 'Yes', '26': 'No', '27': 'No', '28': 'No', '29': 'Yes', '30': 'No', '31': 'No', '32': 'No', '33': 'No', '34': 'No', '35': 'No', '36': 'No', '37': 'No', '38': 'No', '39': 'No', '40': 'No', '41': 'No', '42': 'No', '43': 'No', '44': 'Yes', '45': 'Yes', '46': 'Yes', '47': 'No', '48': 'No', '49': 'No', '50': 'Yes', '51': 'Yes', '52': 'Yes', '53': 'Yes', '54': 'Yes', '55': 'Yes', '56': 'No', '57': 'Yes', '58': 'Yes', '59': 'Yes', '60': 'Yes', '61': 'Yes', '62': 'Yes', '63': 'Yes', '64': 'No', '65': 'Yes', '66': 'Yes', '67': 'No', '68': 'No', '69': 'No', '70': 'No', '71': 'Yes', '72': 'No', '73': 'No', '74': 'No', '75': 'No', '76': 'No', '77': 'No', '78': 'Yes', '79': 'Yes', '80': 'No', '81': 'No', '82': 'No', '83': 'No', '84': 'No', '85': 'No', '86': 'No', '87': 'No', '88': 'No', '89': 'No', '90': 'No', '91': 'Yes', '92': 'Yes', '93': 'Yes', '94': 'Yes', '95': 'Yes', '96': 'No', '97': 'No', '98': 'No', '99': 'No', '100': 'Yes', '101': 'Yes', '102': 'Yes', '103': 'Yes', '104': 'Yes', '105': 'No', '106': 'No', '107': 'Yes', '108': 'Yes', '109': 'Yes', '110': 'Yes', '111': 'Yes', '112': 'Yes', '113': 'Yes', '114': 'Yes', '115': 'Yes', '116': 'No', '117': 'No', '118': 'No', '119': 'Yes', '120': 'Yes', '121': 'No', '122': 'Yes', '123': 'Yes', '124': 'Yes', '125': 'Yes', '126': 'No', '127': 'No', '128': 'No', '129': 'No', '130': 'No', '131': 'No', '132': 'Yes', '133': 'No', '134': 'Yes', '135': 'No', '136': 'No', '137': 'No', '138': 'No', '139': 'No', '140': 'No', '141': 'No', '142': 'No', '143': 'No', '144': 'No', '145': 'No', '146': 'No', '147': 'Yes', '148': 'Yes', '149': 'Yes', '150': 'Yes', '151': 'Yes', '152': 'No', '153': 'No', '154': 'No', '155': 'Yes', '156': 'Yes', '157': 'Yes', '158': 'Yes', '159': 'Yes', '160': 'Yes', '161': 'Yes', '162': 'No', '163': 'Yes', '164': 'Yes', '165': 'Yes', '166': 'Yes', '167': 'Yes', '168': 'Yes', '169': 'No', '170': 'Yes', '171': 'Yes', '172': 'Yes', '173': 'Yes', '174': 'No', '175': 'Yes', '176': 'No', '177': 'Yes', '178': 'Yes', '179': 'No', '180': 'No', '181': 'No', '182': 'No', '183': 'No', '184': 'Yes', '185': 'No', '186': 'No', '187': 'No', '188': 'Yes', '189': 'No', '190': 'No', '191': 'No', '192': 'No', '193': 'No', '194': 'No', '195': 'No', '196': 'No', '197': 'No', '198': 'No', '199': 'No', '200': 'No', '201': 'No', '202': 'No', '203': 'Yes', '204': 'Yes', '205': 'Yes', '206': 'Yes', '207': 'No', '208': 'No', '209': 'No', '210': 'No'}, 'Completion Percentage': {'0': 0.0, '1': 0.0, '2': 0.0, '3': 0.0, '4': 0.0, '5': 0.0, '6': 0.0, '7': 1.0, '8': 0.0, '9': 0.0, '10': 0.0, '11': 0.0, '12': 0.0, '13': 1.0, '14': 0.0, '15': 0.0, '16': 0.0, '17': 1.0, '18': 1.0, '19': 0.0, '20': 0.1, '21': 0.0, '22': 1.0, '23': 1.0, '24': 1.0, '25': 0.0, '26': 1.0, '27': 1.0, '28': 1.0, '29': 0.0, '30': 1.0, '31': 1.0, '32': 1.0, '33': 1.0, '34': 1.0, '35': 1.0, '36': 1.0, '37': 1.0, '38': 1.0, '39': 1.0, '40': 1.0, '41': 1.0, '42': 1.0, '43': 1.0, '44': 0.0, '45': 0.0, '46': 0.0, '47': 1.0, '48': 1.0, '49': 1.0, '50': 0.0, '51': 0.0, '52': 0.0, '53': 0.0, '54': 0.0, '55': 0.0, '56': 1.0, '57': 0.0, '58': 0.0, '59': 0.0, '60': 0.0, '61': 0.0, '62': 0.0, '63': 0.0, '64': 1.0, '65': 0.0, '66': 0.0, '67': 1.0, '68': 1.0, '69': 1.0, '70': 1.0, '71': 0.0, '72': 1.0, '73': 1.0, '74': 1.0, '75': 1.0, '76': 1.0, '77': 1.0, '78': 0.0, '79': 0.0, '80': 1.0, '81': 1.0, '82': 1.0, '83': 1.0, '84': 1.0, '85': 1.0, '86': 1.0, '87': 1.0, '88': 1.0, '89': 1.0, '90': 1.0, '91': 0.0, '92': 0.0, '93': 0.0, '94': 0.0, '95': 0.0, '96': 1.0, '97': 1.0, '98': 1.0, '99': 1.0, '100': 0.0, '101': 0.0, '102': 0.0, '103': 0.0, '104': 0.0, '105': 1.0, '106': 1.0, '107': 0.1, '108': 0.0, '109': 0.0, '110': 0.0, '111': 0.0, '112': 0.0, '113': 0.0, '114': 0.0, '115': 0.0, '116': 0.0, '117': 1.0, '118': 1.0, '119': 0.0, '120': 0.0, '121': 1.0, '122': 0.0, '123': 0.0, '124': 0.0, '125': 0.0, '126': 1.0, '127': 1.0, '128': 1.0, '129': 1.0, '130': 1.0, '131': 1.0, '132': 0.0, '133': 1.0, '134': 0.0, '135': 1.0, '136': 1.0, '137': 1.0, '138': 1.0, '139': 1.0, '140': 1.0, '141': 1.0, '142': 1.0, '143': 1.0, '144': 1.0, '145': 1.0, '146': 1.0, '147': 0.0, '148': 0.0, '149': 0.0, '150': 0.0, '151': 0.0, '152': 1.0, '153': 1.0, '154': 1.0, '155': 0.0, '156': 0.0, '157': 0.0, '158': 0.0, '159': 0.0, '160': 0.0, '161': 0.1, '162': 1.0, '163': 0.0, '164': 0.0, '165': 0.0, '166': 0.0, '167': 0.0, '168': 0.0, '169': 0.0, '170': 0.0, '171': 0.0, '172': 0.0, '173': 0.0, '174': 1.0, '175': 0.0, '176': 1.0, '177': 0.0, '178': 0.0, '179': 1.0, '180': 1.0, '181': 1.0, '182': 1.0, '183': 1.0, '184': 0.0, '185': 1.0, '186': 1.0, '187': 1.0, '188': 0.0, '189': 1.0, '190': 1.0, '191': 1.0, '192': 1.0, '193': 1.0, '194': 1.0, '195': 1.0, '196': 1.0, '197': 1.0, '198': 1.0, '199': 1.0, '200': 1.0, '201': 1.0, '202': 1.0, '203': 0.0, '204': 0.0, '205': 0.0, '206': 0.0, '207': 1.0, '208': 1.0, '209': 1.0, '210': 1.0}, 'Project Name': {'0': 'AMC - VAlign', '1': 'Ozone Entertainment - Zoho ONE', '2': 'AMC - VAlign', '3': 'AMC - VAlign', '4': 'AMC - VAlign', '5': 'AMC - VAlign', '6': 'AMC - VAlign', '7': 'Ozone Entertainment - Zoho ONE', '8': 'AMC - VAlign', '9': 'AMC - VAlign', '10': 'AMC - VAlign', '11': 'AMC - VAlign', '12': 'AMC - VAlign', '13': 'AMC - VAlign', '14': 'Ozone Entertainment - Zoho ONE', '15': 'AMC - VAlign', '16': 'AMC - VAlign', '17': 'AMC - VAlign', '18': 'AMC - VAlign', '19': 'AMC - VAlign', '20': 'AMC - VAlign', '21': 'AMC - VAlign', '22': 'AMC - VAlign', '23': 'AMC - VAlign', '24': 'AMC - VAlign', '25': 'AMC - VAlign', '26': 'AMC - VAlign', '27': 'AMC - VAlign', '28': 'Ozone Entertainment - Zoho ONE', '29': 'AMC - VAlign', '30': 'AMC - VAlign', '31': 'AMC - VAlign', '32': 'AMC - VAlign', '33': 'AMC - VAlign', '34': 'AMC - VAlign', '35': 'AMC - VAlign', '36': 'AMC - VAlign', '37': 'Non Billable Activities', '38': 'Ozone Entertainment - Zoho ONE', '39': 'Ozone Entertainment - Zoho ONE', '40': 'Ozone Entertainment - Zoho ONE', '41': 'Ozone Entertainment - Zoho ONE', '42': 'Ozone Entertainment - Zoho ONE', '43': 'Ozone Entertainment - Zoho ONE', '44': 'Proclime- Zoho One - TnM', '45': 'Proclime- Zoho One - TnM', '46': 'Proclime- Zoho One - TnM', '47': 'AMC - VAlign', '48': 'Karam Safety_Zoho ONE', '49': 'AMC - VAlign', '50': 'Ozone Entertainment - Zoho ONE', '51': 'AMC - VAlign', '52': 'AMC - VAlign', '53': 'AMC - VAlign', '54': 'AMC - VAlign', '55': 'AMC - VAlign', '56': 'AMC - VAlign', '57': 'AMC - VAlign', '58': 'Ozone Entertainment - Zoho ONE', '59': 'AMC - VAlign', '60': 'AMC - VAlign', '61': 'AMC - VAlign', '62': 'Ozone Entertainment - Zoho ONE', '63': 'AMC - VAlign', '64': 'AMC - VAlign', '65': 'AMC - VAlign', '66': 'Non Billable Activities', '67': 'AMC - VAlign', '68': 'AMC - VAlign', '69': 'AMC - VAlign', '70': 'AMC - VAlign', '71': 'AMC - VAlign', '72': 'AMC - VAlign', '73': 'AMC - VAlign', '74': 'AMC - VAlign', '75': 'Non Billable Activities', '76': 'AMC - VAlign', '77': 'AMC - VAlign', '78': 'Ozone Entertainment - Zoho ONE', '79': 'AMC - VAlign', '80': 'AMC - VAlign', '81': 'AMC - VAlign', '82': 'Ozone Entertainment - Zoho ONE', '83': 'AMC - VAlign', '84': 'AMC - VAlign', '85': 'AMC - VAlign', '86': 'Ozone Entertainment - Zoho ONE', '87': 'Ozone Entertainment - Zoho ONE', '88': 'Ozone Entertainment - Zoho ONE', '89': 'Ozone Entertainment - Zoho ONE', '90': 'Ozone Entertainment - Zoho ONE', '91': 'Ozone Entertainment - Zoho ONE', '92': 'Proclime- Zoho One - TnM', '93': 'Proclime- Zoho One - TnM', '94': 'Proclime- Zoho One - TnM', '95': 'Proclime- Zoho One - TnM', '96': 'Karam Safety_Zoho ONE', '97': 'Non Billable Activities', '98': 'Non Billable Activities', '99': 'AMC - VAlign', '100': 'AMC - VAlign', '101': 'AMC - VAlign', '102': 'AMC - VAlign', '103': 'Ozone Entertainment - Zoho ONE', '104': 'AMC - VAlign', '105': 'AMC - VAlign', '106': 'AMC - VAlign', '107': 'AMC - VAlign', '108': 'Non Billable Activities', '109': 'AMC - VAlign', '110': 'AMC - VAlign', '111': 'Ozone Entertainment - Zoho ONE', '112': 'AMC - VAlign', '113': 'AMC - VAlign', '114': 'AMC - VAlign', '115': 'AMC - VAlign', '116': 'AMC - VAlign', '117': 'AMC - VAlign', '118': 'CTW Systems - People, Payroll, Expense, Desk, Projects', '119': 'AMC - VAlign', '120': 'Ozone Entertainment - Zoho ONE', '121': 'AMC - VAlign', '122': 'AMC - VAlign', '123': 'AMC - VAlign', '124': 'Ozone Entertainment - Zoho ONE', '125': 'Non Billable Activities', '126': 'AMC - VAlign', '127': 'Ozone Entertainment - Zoho ONE', '128': 'AMC - VAlign', '129': 'AMC - VAlign', '130': 'AMC - VAlign', '131': 'AMC - VAlign', '132': 'AMC - VAlign', '133': 'AMC - VAlign', '134': 'Non Billable Activities', '135': 'AMC - VAlign', '136': 'AMC - VAlign', '137': 'EMERGING MARKET SOLUTIONS', '138': 'Ozone Entertainment - Zoho ONE', '139': 'Proclime- Zoho One - TnM', '140': 'AMC - VAlign', '141': 'Ozone Entertainment - Zoho ONE', '142': 'AMC - VAlign', '143': 'Ozone Entertainment - Zoho ONE', '144': 'Ozone Entertainment - Zoho ONE', '145': 'Ozone Entertainment - Zoho ONE', '146': 'Ozone Entertainment - Zoho ONE', '147': 'Ozone Entertainment - Zoho ONE', '148': 'Ozone Entertainment - Zoho ONE', '149': 'Proclime- Zoho One - TnM', '150': 'Proclime- Zoho One - TnM', '151': 'Proclime- Zoho One - TnM', '152': 'Karam Safety_Zoho ONE', '153': 'AMC - VAlign', '154': 'AMC - VAlign', '155': 'Ozone Entertainment - Zoho ONE', '156': 'AMC - VAlign', '157': 'AMC - VAlign', '158': 'AMC - VAlign', '159': 'AMC - VAlign', '160': 'Ozone Entertainment - Zoho ONE', '161': 'AMC - VAlign', '162': 'AMC - VAlign', '163': 'CTW Systems - People, Payroll, Expense, Desk, Projects', '164': 'AMC - VAlign', '165': 'AMC - VAlign', '166': 'AMC - VAlign', '167': 'AMC - VAlign', '168': 'Ozone Entertainment - Zoho ONE', '169': 'AMC - VAlign', '170': 'Ozone Entertainment - Zoho ONE', '171': 'CTW Systems - People, Payroll, Expense, Desk, Projects', '172': 'Non Billable Activities', '173': 'AMC - VAlign', '174': 'AMC - VAlign', '175': 'Ozone Entertainment - Zoho ONE', '176': 'AMC - VAlign', '177': 'AMC - VAlign', '178': 'AMC - VAlign', '179': 'AMC - VAlign', '180': 'AMC - VAlign', '181': 'AMC - VAlign', '182': 'AMC - VAlign', '183': 'Ozone Entertainment - Zoho ONE', '184': 'Ozone Entertainment - Zoho ONE', '185': 'Ozone Entertainment - Zoho ONE', '186': 'AMC - VAlign', '187': 'Ozone Entertainment - Zoho ONE', '188': 'AMC - VAlign', '189': 'AMC - VAlign', '190': 'AMC - VAlign', '191': 'Non Billable Activities', '192': 'Proclime- Zoho One - TnM', '193': 'AMC - VAlign', '194': 'AMC - VAlign', '195': 'AMC - VAlign', '196': 'AMC - VAlign', '197': 'Ozone Entertainment - Zoho ONE', '198': 'Ozone Entertainment - Zoho ONE', '199': 'Ozone Entertainment - Zoho ONE', '200': 'Ozone Entertainment - Zoho ONE', '201': 'Ozone Entertainment - Zoho ONE', '202': 'Ozone Entertainment - Zoho ONE', '203': 'Proclime- Zoho One - TnM', '204': 'Proclime- Zoho One - TnM', '205': 'Proclime- Zoho One - TnM', '206': 'AMC - VAlign', '207': 'AMC - VAlign', '208': 'AMC - VAlign', '209': 'AMC - VAlign', '210': 'AMC - VAlign'}, 'Milestone Name': {'0': None, '1': 'Milestone Two-Implementation of Zoho One Applications (. Zoho CRM, Zoho Campaigns, Zoho Creato', '2': None, '3': 'Educational Initiatives', '4': None, '5': 'Haqdarshaq AMC and Support', '6': None, '7': 'Milestone Two-Implementation of Zoho One Applications (. Zoho CRM, Zoho Campaigns, Zoho Creato', '8': None, '9': None, '10': None, '11': None, '12': 'Haqdarshaq AMC and Support', '13': None, '14': 'Milestone Two-Implementation of Zoho One Applications (. Zoho CRM, Zoho Campaigns, Zoho Creato', '15': 'Educational Initiatives', '16': 'Educational Initiatives', '17': None, '18': 'Haqdarshaq AMC and Support', '19': 'Haqdarshaq AMC and Support', '20': 'Educational Initiatives', '21': None, '22': None, '23': None, '24': None, '25': None, '26': 'Neelgund Developers LLP | Zoho People, Recruit & Payroll | 19-10-2023 | 18-10-2024', '27': None, '28': 'Milestone Two-Implementation of Zoho One Applications (. Zoho CRM, Zoho Campaigns, Zoho Creato', '29': None, '30': 'Longitude Exports Pvt Ltd - Zoho CRM, Zoho People & Zoho Payroll | 09-08-2023 | 08-02-2024', '31': None, '32': 'Longitude Exports Pvt Ltd - Zoho CRM, Zoho People & Zoho Payroll | 09-08-2023 | 08-02-2024', '33': None, '34': None, '35': 'Haqdarshaq AMC and Support', '36': None, '37': None, '38': 'Milestone Two-Implementation of Zoho One Applications (. Zoho CRM, Zoho Campaigns, Zoho Creato', '39': 'Milestone Two-Implementation of Zoho One Applications (. Zoho CRM, Zoho Campaigns, Zoho Creato', '40': 'Milestone Two-Implementation of Zoho One Applications (. Zoho CRM, Zoho Campaigns, Zoho Creato', '41': 'Milestone Two-Implementation of Zoho One Applications (. Zoho CRM, Zoho Campaigns, Zoho Creato', '42': 'Milestone Two-Implementation of Zoho One Applications (. Zoho CRM, Zoho Campaigns, Zoho Creato', '43': 'Milestone Two-Implementation of Zoho One Applications (. Zoho CRM, Zoho Campaigns, Zoho Creato', '44': 'Milestone Two-Implementation of Zoho One', '45': 'Milestone Two-Implementation of Zoho One', '46': 'Milestone Two-Implementation of Zoho One', '47': None, '48': 'Milestone Six-Implementation of Zoho Recruit', '49': 'Haqdarshaq AMC and Support', '50': 'Milestone Two-Implementation of Zoho One Applications (. Zoho CRM, Zoho Campaigns, Zoho Creato', '51': None, '52': 'Haqdarshaq AMC and Support', '53': 'Educational Initiatives', '54': 'Haqdarshaq AMC and Support', '55': 'Neelgund Project Zoho HRMS Implementation', '56': 'Educational Initiatives', '57': None, '58': 'Milestone Two-Implementation of Zoho One Applications (. Zoho CRM, Zoho Campaigns, Zoho Creato', '59': None, '60': None, '61': None, '62': 'Milestone Two-Implementation of Zoho One Applications (. Zoho CRM, Zoho Campaigns, Zoho Creato', '63': 'Haqdarshaq AMC and Support', '64': 'Neelgund Developers LLP | Zoho People, Recruit & Payroll | 19-10-2023 | 18-10-2024', '65': None, '66': None, '67': 'Longitude Exports Pvt Ltd - Zoho CRM, Zoho People & Zoho Payroll | 09-08-2023 | 08-02-2024', '68': None, '69': None, '70': 'Haqdarshaq AMC and Support', '71': None, '72': None, '73': None, '74': 'Haqdarshaq AMC and Support', '75': 'Inspire', '76': None, '77': None, '78': 'Milestone Two-Implementation of Zoho One Applications (. Zoho CRM, Zoho Campaigns, Zoho Creato', '79': 'Neelgund Project Zoho HRMS Implementation', '80': None, '81': None, '82': 'Milestone Two-Implementation of Zoho One Applications (. Zoho CRM, Zoho Campaigns, Zoho Creato', '83': None, '84': None, '85': None, '86': 'Milestone Two-Implementation of Zoho One Applications (. Zoho CRM, Zoho Campaigns, Zoho Creato', '87': 'Milestone Two-Implementation of Zoho One Applications (. Zoho CRM, Zoho Campaigns, Zoho Creato', '88': 'Milestone Two-Implementation of Zoho One Applications (. Zoho CRM, Zoho Campaigns, Zoho Creato', '89': 'Milestone Two-Implementation of Zoho One Applications (. Zoho CRM, Zoho Campaigns, Zoho Creato', '90': 'Milestone Two-Implementation of Zoho One Applications (. Zoho CRM, Zoho Campaigns, Zoho Creato', '91': 'Milestone Two-Implementation of Zoho One Applications (. Zoho CRM, Zoho Campaigns, Zoho Creato', '92': 'Milestone Two-Implementation of Zoho One', '93': 'Milestone Two-Implementation of Zoho One', '94': 'Milestone Two-Implementation of Zoho One', '95': 'Milestone Two-Implementation of Zoho One', '96': 'Milestone Six-Implementation of Zoho Recruit', '97': 'Inspire', '98': 'Inspire', '99': None, '100': None, '101': 'Educational Initiatives', '102': 'Educational Initiatives', '103': 'Milestone Two-Implementation of Zoho One Applications (. Zoho CRM, Zoho Campaigns, Zoho Creato', '104': 'Haqdarshaq AMC and Support', '105': 'Neelgund Project Zoho HRMS Implementation', '106': 'Educational Initiatives', '107': 'Educational Initiatives', '108': 'Inspire', '109': None, '110': None, '111': 'Milestone Two-Implementation of Zoho One Applications (. Zoho CRM, Zoho Campaigns, Zoho Creato', '112': None, '113': None, '114': None, '115': 'Educational Initiatives', '116': None, '117': 'Neelgund Project Zoho HRMS Implementation', '118': 'Milestone Two-Implementation of Zoho Desk', '119': 'Longitude Exports Pvt Ltd - Zoho CRM, Zoho People & Zoho Payroll | 09-08-2023 | 08-02-2024', '120': 'Milestone Two-Implementation of Zoho One Applications (. Zoho CRM, Zoho Campaigns, Zoho Creato', '121': 'Educational Initiatives', '122': 'Neelgund Developers LLP | Zoho People, Recruit & Payroll | 19-10-2023 | 18-10-2024', '123': 'Educational Initiatives', '124': 'Milestone Two-Implementation of Zoho One Applications (. Zoho CRM, Zoho Campaigns, Zoho Creato', '125': None, '126': None, '127': 'Milestone Two-Implementation of Zoho One Applications (. Zoho CRM, Zoho Campaigns, Zoho Creato', '128': 'Haqdarshaq AMC and Support', '129': None, '130': 'Educational Initiatives', '131': None, '132': None, '133': None, '134': 'Inspire', '135': None, '136': 'Neelgund Developers LLP | Zoho People, Recruit & Payroll | 19-10-2023 | 18-10-2024', '137': 'Milestone Two-Zoho Solution Architect Resource - Zoho Books, ZohoCRM, Zoho Creator & Zoho Analytics', '138': 'Milestone Two-Implementation of Zoho One Applications (. Zoho CRM, Zoho Campaigns, Zoho Creato', '139': 'Milestone Two-Implementation of Zoho One', '140': None, '141': 'Milestone Two-Implementation of Zoho One Applications (. Zoho CRM, Zoho Campaigns, Zoho Creato', '142': None, '143': 'Milestone Two-Implementation of Zoho One Applications (. Zoho CRM, Zoho Campaigns, Zoho Creato', '144': 'Milestone Two-Implementation of Zoho One Applications (. Zoho CRM, Zoho Campaigns, Zoho Creato', '145': 'Milestone Two-Implementation of Zoho One Applications (. Zoho CRM, Zoho Campaigns, Zoho Creato', '146': 'Milestone Two-Implementation of Zoho One Applications (. Zoho CRM, Zoho Campaigns, Zoho Creato', '147': 'Milestone Two-Implementation of Zoho One Applications (. Zoho CRM, Zoho Campaigns, Zoho Creato', '148': 'Milestone Two-Implementation of Zoho One Applications (. Zoho CRM, Zoho Campaigns, Zoho Creato', '149': 'Milestone Two-Implementation of Zoho One', '150': 'Milestone Two-Implementation of Zoho One', '151': 'Milestone Two-Implementation of Zoho One', '152': 'Milestone Six-Implementation of Zoho Recruit', '153': None, '154': 'Haqdarshaq AMC and Support', '155': 'Milestone Two-Implementation of Zoho One Applications (. Zoho CRM, Zoho Campaigns, Zoho Creato', '156': 'Haqdarshaq AMC and Support', '157': 'Educational Initiatives', '158': 'Educational Initiatives', '159': 'Educational Initiatives', '160': 'Milestone Two-Implementation of Zoho One Applications (. Zoho CRM, Zoho Campaigns, Zoho Creato', '161': 'Educational Initiatives', '162': 'Educational Initiatives', '163': 'Milestone Three-Implementation of Zoho People', '164': None, '165': None, '166': None, '167': None, '168': 'Milestone Two-Implementation of Zoho One Applications (. Zoho CRM, Zoho Campaigns, Zoho Creato', '169': 'Educational Initiatives', '170': 'Milestone Two-Implementation of Zoho One Applications (. Zoho CRM, Zoho Campaigns, Zoho Creato', '171': 'Milestone Three-Implementation of Zoho People', '172': None, '173': None, '174': None, '175': 'Milestone Two-Implementation of Zoho One Applications (. Zoho CRM, Zoho Campaigns, Zoho Creato', '176': 'Haqdarshaq AMC and Support', '177': 'Educational Initiatives', '178': None, '179': None, '180': 'Educational Initiatives', '181': 'Educational Initiatives', '182': None, '183': 'Milestone Two-Implementation of Zoho One Applications (. Zoho CRM, Zoho Campaigns, Zoho Creato', '184': 'Milestone Two-Implementation of Zoho One Applications (. Zoho CRM, Zoho Campaigns, Zoho Creato', '185': 'Milestone Two-Implementation of Zoho One Applications (. Zoho CRM, Zoho Campaigns, Zoho Creato', '186': 'Longitude Exports Pvt Ltd - Zoho CRM, Zoho People & Zoho Payroll | 09-08-2023 | 08-02-2024', '187': 'Milestone Two-Implementation of Zoho One Applications (. Zoho CRM, Zoho Campaigns, Zoho Creato', '188': None, '189': 'Educational Initiatives', '190': 'Educational Initiatives', '191': None, '192': 'Milestone Two-Implementation of Zoho One', '193': None, '194': None, '195': None, '196': None, '197': 'Milestone Two-Implementation of Zoho One Applications (. Zoho CRM, Zoho Campaigns, Zoho Creato', '198': 'Milestone Two-Implementation of Zoho One Applications (. Zoho CRM, Zoho Campaigns, Zoho Creato', '199': 'Milestone Two-Implementation of Zoho One Applications (. Zoho CRM, Zoho Campaigns, Zoho Creato', '200': 'Milestone Two-Implementation of Zoho One Applications (. Zoho CRM, Zoho Campaigns, Zoho Creato', '201': 'Milestone Two-Implementation of Zoho One Applications (. Zoho CRM, Zoho Campaigns, Zoho Creato', '202': 'Milestone Two-Implementation of Zoho One Applications (. Zoho CRM, Zoho Campaigns, Zoho Creato', '203': 'Milestone Two-Implementation of Zoho One', '204': 'Milestone Two-Implementation of Zoho One', '205': 'Milestone Two-Implementation of Zoho One', '206': '2GETHR HUB PRIVATE LIMITED - Zoho People, Zoho Recruit & Zoho Payroll | 15-05-2023 | 14-05-2024', '207': None, '208': 'Educational Initiatives', '209': 'Longitude Exports Pvt Ltd - Zoho CRM, Zoho People & Zoho Payroll | 09-08-2023 | 08-02-2024', '210': None}, 'Project ID': {'0': 749813000009144064, '1': 749813000019555968, '2': 749813000009144064, '3': 749813000009144064, '4': 749813000009144064, '5': 749813000009144064, '6': 749813000009144064, '7': 749813000019555968, '8': 749813000009144064, '9': 749813000009144064, '10': 749813000009144064, '11': 749813000009144064, '12': 749813000009144064, '13': 749813000009144064, '14': 749813000019555968, '15': 749813000009144064, '16': 749813000009144064, '17': 749813000009144064, '18': 749813000009144064, '19': 749813000009144064, '20': 749813000009144064, '21': 749813000009144064, '22': 749813000009144064, '23': 749813000009144064, '24': 749813000009144064, '25': 749813000009144064, '26': 749813000009144064, '27': 749813000009144064, '28': 749813000019555968, '29': 749813000009144064, '30': 749813000009144064, '31': 749813000009144064, '32': 749813000009144064, '33': 749813000009144064, '34': 749813000009144064, '35': 749813000009144064, '36': 749813000009144064, '37': 749813000005842944, '38': 749813000019555968, '39': 749813000019555968, '40': 749813000019555968, '41': 749813000019555968, '42': 749813000019555968, '43': 749813000019555968, '44': 749813000018283008, '45': 749813000018283008, '46': 749813000018283008, '47': 749813000009144064, '48': 749813000016000000, '49': 749813000009144064, '50': 749813000019555968, '51': 749813000009144064, '52': 749813000009144064, '53': 749813000009144064, '54': 749813000009144064, '55': 749813000009144064, '56': 749813000009144064, '57': 749813000009144064, '58': 749813000019555968, '59': 749813000009144064, '60': 749813000009144064, '61': 749813000009144064, '62': 749813000019555968, '63': 749813000009144064, '64': 749813000009144064, '65': 749813000009144064, '66': 749813000005842944, '67': 749813000009144064, '68': 749813000009144064, '69': 749813000009144064, '70': 749813000009144064, '71': 749813000009144064, '72': 749813000009144064, '73': 749813000009144064, '74': 749813000009144064, '75': 749813000005842944, '76': 749813000009144064, '77': 749813000009144064, '78': 749813000019555968, '79': 749813000009144064, '80': 749813000009144064, '81': 749813000009144064, '82': 749813000019555968, '83': 749813000009144064, '84': 749813000009144064, '85': 749813000009144064, '86': 749813000019555968, '87': 749813000019555968, '88': 749813000019555968, '89': 749813000019555968, '90': 749813000019555968, '91': 749813000019555968, '92': 749813000018283008, '93': 749813000018283008, '94': 749813000018283008, '95': 749813000018283008, '96': 749813000016000000, '97': 749813000005842944, '98': 749813000005842944, '99': 749813000009144064, '100': 749813000009144064, '101': 749813000009144064, '102': 749813000009144064, '103': 749813000019555968, '104': 749813000009144064, '105': 749813000009144064, '106': 749813000009144064, '107': 749813000009144064, '108': 749813000005842944, '109': 749813000009144064, '110': 749813000009144064, '111': 749813000019555968, '112': 749813000009144064, '113': 749813000009144064, '114': 749813000009144064, '115': 749813000009144064, '116': 749813000009144064, '117': 749813000009144064, '118': 749813000020472064, '119': 749813000009144064, '120': 749813000019555968, '121': 749813000009144064, '122': 749813000009144064, '123': 749813000009144064, '124': 749813000019555968, '125': 749813000005842944, '126': 749813000009144064, '127': 749813000019555968, '128': 749813000009144064, '129': 749813000009144064, '130': 749813000009144064, '131': 749813000009144064, '132': 749813000009144064, '133': 749813000009144064, '134': 749813000005842944, '135': 749813000009144064, '136': 749813000009144064, '137': 749813000019696000, '138': 749813000019555968, '139': 749813000018283008, '140': 749813000009144064, '141': 749813000019555968, '142': 749813000009144064, '143': 749813000019555968, '144': 749813000019555968, '145': 749813000019555968, '146': 749813000019555968, '147': 749813000019555968, '148': 749813000019555968, '149': 749813000018283008, '150': 749813000018283008, '151': 749813000018283008, '152': 749813000016000000, '153': 749813000009144064, '154': 749813000009144064, '155': 749813000019555968, '156': 749813000009144064, '157': 749813000009144064, '158': 749813000009144064, '159': 749813000009144064, '160': 749813000019555968, '161': 749813000009144064, '162': 749813000009144064, '163': 749813000020472064, '164': 749813000009144064, '165': 749813000009144064, '166': 749813000009144064, '167': 749813000009144064, '168': 749813000019555968, '169': 749813000009144064, '170': 749813000019555968, '171': 749813000020472064, '172': 749813000005842944, '173': 749813000009144064, '174': 749813000009144064, '175': 749813000019555968, '176': 749813000009144064, '177': 749813000009144064, '178': 749813000009144064, '179': 749813000009144064, '180': 749813000009144064, '181': 749813000009144064, '182': 749813000009144064, '183': 749813000019555968, '184': 749813000019555968, '185': 749813000019555968, '186': 749813000009144064, '187': 749813000019555968, '188': 749813000009144064, '189': 749813000009144064, '190': 749813000009144064, '191': 749813000005842944, '192': 749813000018283008, '193': 749813000009144064, '194': 749813000009144064, '195': 749813000009144064, '196': 749813000009144064, '197': 749813000019555968, '198': 749813000019555968, '199': 749813000019555968, '200': 749813000019555968, '201': 749813000019555968, '202': 749813000019555968, '203': 749813000018283008, '204': 749813000018283008, '205': 749813000018283008, '206': 749813000009144064, '207': 749813000009144064, '208': 749813000009144064, '209': 749813000009144064, '210': 749813000009144064}, 'Milestone ID': {'0': 749813000000000000, '1': 749813000019558016, '2': 749813000000000000, '3': 749813000011085056, '4': 749813000000000000, '5': 749813000017270016, '6': 749813000000000000, '7': 749813000019558016, '8': 749813000000000000, '9': 749813000000000000, '10': 749813000000000000, '11': 749813000000000000, '12': 749813000017270016, '13': 749813000000000000, '14': 749813000019558016, '15': 749813000011085056, '16': 749813000011085056, '17': 749813000000000000, '18': 749813000017270016, '19': 749813000017270016, '20': 749813000011085056, '21': 749813000000000000, '22': 749813000000000000, '23': 749813000000000000, '24': 749813000000000000, '25': 749813000000000000, '26': 749813000019140992, '27': 749813000000000000, '28': 749813000019558016, '29': 749813000000000000, '30': 749813000018683008, '31': 749813000000000000, '32': 749813000018683008, '33': 749813000000000000, '34': 749813000000000000, '35': 749813000017270016, '36': 749813000000000000, '37': 749813000000000000, '38': 749813000019558016, '39': 749813000019558016, '40': 749813000019558016, '41': 749813000019558016, '42': 749813000019558016, '43': 749813000019558016, '44': 749813000018297984, '45': 749813000018297984, '46': 749813000018297984, '47': 749813000000000000, '48': 749813000015998976, '49': 749813000017270016, '50': 749813000019558016, '51': 749813000000000000, '52': 749813000017270016, '53': 749813000011085056, '54': 749813000017270016, '55': 749813000015245056, '56': 749813000011085056, '57': 749813000000000000, '58': 749813000019558016, '59': 749813000000000000, '60': 749813000000000000, '61': 749813000000000000, '62': 749813000019558016, '63': 749813000017270016, '64': 749813000019140992, '65': 749813000000000000, '66': 749813000000000000, '67': 749813000018683008, '68': 749813000000000000, '69': 749813000000000000, '70': 749813000017270016, '71': 749813000000000000, '72': 749813000000000000, '73': 749813000000000000, '74': 749813000017270016, '75': 749813000016654976, '76': 749813000000000000, '77': 749813000000000000, '78': 749813000019558016, '79': 749813000015245056, '80': 749813000000000000, '81': 749813000000000000, '82': 749813000019558016, '83': 749813000000000000, '84': 749813000000000000, '85': 749813000000000000, '86': 749813000019558016, '87': 749813000019558016, '88': 749813000019558016, '89': 749813000019558016, '90': 749813000019558016, '91': 749813000019558016, '92': 749813000018297984, '93': 749813000018297984, '94': 749813000018297984, '95': 749813000018297984, '96': 749813000015998976, '97': 749813000016654976, '98': 749813000016654976, '99': 749813000000000000, '100': 749813000000000000, '101': 749813000011085056, '102': 749813000011085056, '103': 749813000019558016, '104': 749813000017270016, '105': 749813000015245056, '106': 749813000011085056, '107': 749813000011085056, '108': 749813000016654976, '109': 749813000000000000, '110': 749813000000000000, '111': 749813000019558016, '112': 749813000000000000, '113': 749813000000000000, '114': 749813000000000000, '115': 749813000011085056, '116': 749813000000000000, '117': 749813000015245056, '118': 749813000020472960, '119': 749813000018683008, '120': 749813000019558016, '121': 749813000011085056, '122': 749813000019140992, '123': 749813000011085056, '124': 749813000019558016, '125': 749813000000000000, '126': 749813000000000000, '127': 749813000019558016, '128': 749813000017270016, '129': 749813000000000000, '130': 749813000011085056, '131': 749813000000000000, '132': 749813000000000000, '133': 749813000000000000, '134': 749813000016654976, '135': 749813000000000000, '136': 749813000019140992, '137': 749813000019697024, '138': 749813000019558016, '139': 749813000018297984, '140': 749813000000000000, '141': 749813000019558016, '142': 749813000000000000, '143': 749813000019558016, '144': 749813000019558016, '145': 749813000019558016, '146': 749813000019558016, '147': 749813000019558016, '148': 749813000019558016, '149': 749813000018297984, '150': 749813000018297984, '151': 749813000018297984, '152': 749813000015998976, '153': 749813000000000000, '154': 749813000017270016, '155': 749813000019558016, '156': 749813000017270016, '157': 749813000011085056, '158': 749813000011085056, '159': 749813000011085056, '160': 749813000019558016, '161': 749813000011085056, '162': 749813000011085056, '163': 749813000020472064, '164': 749813000000000000, '165': 749813000000000000, '166': 749813000000000000, '167': 749813000000000000, '168': 749813000019558016, '169': 749813000011085056, '170': 749813000019558016, '171': 749813000020472064, '172': 749813000000000000, '173': 749813000000000000, '174': 749813000000000000, '175': 749813000019558016, '176': 749813000017270016, '177': 749813000011085056, '178': 749813000000000000, '179': 749813000000000000, '180': 749813000011085056, '181': 749813000011085056, '182': 749813000000000000, '183': 749813000019558016, '184': 749813000019558016, '185': 749813000019558016, '186': 749813000018683008, '187': 749813000019558016, '188': 749813000000000000, '189': 749813000011085056, '190': 749813000011085056, '191': 749813000000000000, '192': 749813000018297984, '193': 749813000000000000, '194': 749813000000000000, '195': 749813000000000000, '196': 749813000000000000, '197': 749813000019558016, '198': 749813000019558016, '199': 749813000019558016, '200': 749813000019558016, '201': 749813000019558016, '202': 749813000019558016, '203': 749813000018297984, '204': 749813000018297984, '205': 749813000018297984, '206': 749813000018659968, '207': 749813000000000000, '208': 749813000011085056, '209': 749813000018683008, '210': 749813000000000000}, 'Parent Task ID': {'0': None, '1': None, '2': None, '3': None, '4': None, '5': None, '6': None, '7': None, '8': None, '9': None, '10': None, '11': None, '12': None, '13': None, '14': None, '15': None, '16': None, '17': None, '18': None, '19': None, '20': None, '21': None, '22': None, '23': None, '24': None, '25': None, '26': None, '27': None, '28': None, '29': None, '30': None, '31': None, '32': None, '33': None, '34': None, '35': None, '36': None, '37': None, '38': None, '39': None, '40': None, '41': None, '42': None, '43': None, '44': None, '45': None, '46': None, '47': None, '48': None, '49': None, '50': None, '51': None, '52': None, '53': None, '54': None, '55': None, '56': None, '57': None, '58': None, '59': None, '60': None, '61': None, '62': None, '63': None, '64': None, '65': None, '66': None, '67': None, '68': None, '69': None, '70': None, '71': None, '72': None, '73': None, '74': None, '75': None, '76': None, '77': None, '78': None, '79': None, '80': None, '81': None, '82': None, '83': None, '84': None, '85': None, '86': None, '87': None, '88': None, '89': None, '90': None, '91': None, '92': None, '93': None, '94': None, '95': None, '96': None, '97': None, '98': None, '99': None, '100': None, '101': None, '102': None, '103': None, '104': None, '105': None, '106': None, '107': None, '108': None, '109': None, '110': None, '111': None, '112': None, '113': None, '114': None, '115': None, '116': None, '117': None, '118': None, '119': None, '120': None, '121': None, '122': None, '123': None, '124': None, '125': None, '126': None, '127': None, '128': None, '129': None, '130': None, '131': None, '132': None, '133': None, '134': None, '135': None, '136': None, '137': None, '138': None, '139': None, '140': None, '141': None, '142': None, '143': None, '144': None, '145': None, '146': None, '147': None, '148': None, '149': None, '150': None, '151': None, '152': None, '153': None, '154': None, '155': None, '156': None, '157': None, '158': None, '159': None, '160': None, '161': None, '162': None, '163': None, '164': None, '165': None, '166': None, '167': None, '168': None, '169': None, '170': None, '171': None, '172': None, '173': None, '174': None, '175': None, '176': None, '177': None, '178': None, '179': None, '180': None, '181': None, '182': None, '183': None, '184': None, '185': None, '186': None, '187': None, '188': None, '189': None, '190': None, '191': None, '192': None, '193': None, '194': None, '195': None, '196': None, '197': None, '198': None, '199': None, '200': None, '201': None, '202': None, '203': None, '204': None, '205': None, '206': None, '207': None, '208': None, '209': None, '210': None}, 'Created By ID': {'0': 791842987, '1': 791842987, '2': 791842987, '3': 791842987, '4': 791842987, '5': 791842987, '6': 791842987, '7': 791842987, '8': 791842987, '9': 791842987, '10': 791842987, '11': 791842987, '12': 791842987, '13': 791842987, '14': 791842987, '15': 791842987, '16': 791842987, '17': 791842987, '18': 791842987, '19': 791842987, '20': 791842987, '21': 791842987, '22': 791842987, '23': 791842987, '24': 791842987, '25': 791842987, '26': 791842987, '27': 791842987, '28': 791842987, '29': 791842987, '30': 791842987, '31': 791842987, '32': 791842987, '33': 791842987, '34': 791842987, '35': 791842987, '36': 791842987, '37': 791842987, '38': 791842987, '39': 791842987, '40': 791842987, '41': 791842987, '42': 791842987, '43': 791842987, '44': 791842987, '45': 791842987, '46': 791842987, '47': 791842987, '48': 791842987, '49': 791842987, '50': 791842987, '51': 791842987, '52': 791842987, '53': 791842987, '54': 791842987, '55': 791842987, '56': 791842987, '57': 791842987, '58': 791842987, '59': 791842987, '60': 791842987, '61': 791842987, '62': 791842987, '63': 791842987, '64': 791842987, '65': 791842987, '66': 791842987, '67': 791842987, '68': 791842987, '69': 791842987, '70': 791842987, '71': 791842987, '72': 791842987, '73': 791842987, '74': 791842987, '75': 790157522, '76': 791842987, '77': 791842987, '78': 791842987, '79': 791842987, '80': 791842987, '81': 791842987, '82': 791842987, '83': 791842987, '84': 791842987, '85': 791842987, '86': 791842987, '87': 791842987, '88': 791842987, '89': 791842987, '90': 791842987, '91': 791842987, '92': 791842987, '93': 791842987, '94': 791842987, '95': 791842987, '96': 791842987, '97': 790157522, '98': 791842987, '99': 791842987, '100': 791842987, '101': 791842987, '102': 791842987, '103': 791842987, '104': 791842987, '105': 791842987, '106': 791842987, '107': 791842987, '108': 791842987, '109': 791842987, '110': 791842987, '111': 791842987, '112': 791842987, '113': 791842987, '114': 791842987, '115': 791842987, '116': 791842987, '117': 791842987, '118': 790157522, '119': 791842987, '120': 791842987, '121': 791842987, '122': 791842987, '123': 791842987, '124': 791842987, '125': 791842987, '126': 791842987, '127': 791842987, '128': 791842987, '129': 791842987, '130': 791842987, '131': 791842987, '132': 791842987, '133': 791842987, '134': 791842987, '135': 791842987, '136': 791842987, '137': 791842987, '138': 791842987, '139': 791842987, '140': 791842987, '141': 791842987, '142': 791842987, '143': 791842987, '144': 791842987, '145': 791842987, '146': 791842987, '147': 791842987, '148': 791842987, '149': 791842987, '150': 791842987, '151': 791842987, '152': 791842987, '153': 791842987, '154': 791842987, '155': 791842987, '156': 791842987, '157': 791842987, '158': 791842987, '159': 791842987, '160': 791842987, '161': 791842987, '162': 791842987, '163': 791842987, '164': 791842987, '165': 791842987, '166': 791842987, '167': 791842987, '168': 791842987, '169': 791842987, '170': 791842987, '171': 791842987, '172': 791842987, '173': 791842987, '174': 791842987, '175': 791842987, '176': 791842987, '177': 791842987, '178': 791842987, '179': 791842987, '180': 791842987, '181': 791842987, '182': 791842987, '183': 791842987, '184': 791842987, '185': 791842987, '186': 791842987, '187': 791842987, '188': 791842987, '189': 791842987, '190': 791842987, '191': 791842987, '192': 791842987, '193': 791842987, '194': 791842987, '195': 791842987, '196': 791842987, '197': 791842987, '198': 791842987, '199': 791842987, '200': 791842987, '201': 791842987, '202': 791842987, '203': 791842987, '204': 791842987, '205': 791842987, '206': 791842987, '207': 791842987, '208': 791842987, '209': 791842987, '210': 791842987}, 'Owner IDs': {'0': '791842987', '1': '791842987', '2': '791842987', '3': '791842987', '4': '791842987', '5': '791842987', '6': '791842987', '7': '791842987', '8': '791842987', '9': '791842987', '10': '791842987', '11': '791842987', '12': '791842987', '13': '791842987', '14': '791842987', '15': '791842987', '16': '791842987', '17': '791842987', '18': '791842987', '19': '791842987', '20': '791842987', '21': '791842987', '22': '791842987,792262192', '23': '791842987', '24': '791842987', '25': '791842987', '26': '791842987', '27': '791842987', '28': '791842987', '29': '791842987', '30': '791842987', '31': '791842987', '32': '791842987', '33': '791842987', '34': '791842987', '35': '791842987', '36': '791842987', '37': '791842987', '38': '791842987', '39': '791842987', '40': '791842987', '41': '791842987', '42': '791842987', '43': '791842987', '44': '791842987', '45': '791842987', '46': '791842987', '47': '791842987', '48': '791842987', '49': '791842987', '50': '778473538791842987', '51': '791842987', '52': '791842987', '53': '791842987', '54': '791842987', '55': '791842987', '56': '791842987', '57': '791842987', '58': '791842987', '59': '791842987', '60': '791842987', '61': '791842987', '62': '791842987', '63': '791842987', '64': '791842987', '65': '791842987', '66': '791842987', '67': '791842987', '68': '791842987', '69': '791842987', '70': '791842987', '71': '791842987,792262192', '72': '791842987', '73': '791842987', '74': '791842987', '75': '756836914,774653652,782721491,790157522,791842987,792262192', '76': '791842987', '77': '791842987', '78': '791842987', '79': '791842987', '80': '791842987', '81': '791842987', '82': '791842987', '83': '791842987', '84': '791842987', '85': '791842987', '86': '791842987', '87': '791842987', '88': '791842987', '89': '791842987', '90': '791842987', '91': '791842987', '92': '791842987', '93': '791842987', '94': '791842987', '95': '791842987', '96': '791842987', '97': '756836914,774653652,782721491,790157522,791842987,792262192', '98': '791842987', '99': '791842987', '100': '791842987', '101': '791842987', '102': '791842987', '103': '791842987', '104': '791842987', '105': '791842987', '106': '791842987', '107': '791842987', '108': '791842987', '109': '791842987', '110': '791842987', '111': '791842987', '112': '791842987', '113': '791842987', '114': '791842987', '115': '791842987', '116': '791842987', '117': '791842987', '118': '790157522,791842987', '119': '791842987', '120': '791842987', '121': '791842987', '122': '791842987', '123': '791842987', '124': '791842987', '125': '791842987', '126': '791842987', '127': '791842987', '128': '791842987', '129': '791842987', '130': '791842987', '131': '791842987', '132': '791842987', '133': '791842987', '134': '791842987', '135': '791842987', '136': '791842987', '137': '791842987', '138': '791842987', '139': '701341459,791842987', '140': '791842987', '141': '791842987', '142': '791842987', '143': '791842987', '144': '791842987', '145': '791842987', '146': '791842987', '147': '791842987', '148': '791842987', '149': '791842987', '150': '791842987', '151': '791842987', '152': '791842987', '153': '791842987', '154': '791842987', '155': '701373265791842987', '156': '791842987', '157': '791842987', '158': '791842987', '159': '791842987', '160': '791842987', '161': '791842987', '162': '791842987', '163': '790157522,791842987', '164': '791842987', '165': '791842987', '166': '791842987', '167': '791842987', '168': '791842987', '169': '791842987', '170': '791842987', '171': '701373265,790157522,791842987', '172': '791842987', '173': '791842987', '174': '791842987', '175': '791842987', '176': '791842987', '177': '791842987', '178': '791842987,792262192', '179': '791842987,792262192', '180': '791842987', '181': '791842987', '182': '791842987', '183': '791842987', '184': '791842987', '185': '791842987', '186': '791842987', '187': '791842987', '188': '791842987', '189': '791842987', '190': '791842987', '191': '791842987', '192': '791842987', '193': '791842987', '194': '791842987', '195': '791842987', '196': '791842987', '197': '791842987', '198': '791842987', '199': '791842987', '200': '791842987', '201': '791842987', '202': '791842987', '203': '791842987', '204': '791842987', '205': '791842987', '206': '791842987', '207': '791842987', '208': '791842987', '209': '791842987', '210': '791842987'}, 'Task Delay Time': {'0': 3.0, '1': 6.0, '2': 3.0, '3': 18.0, '4': 7.0, '5': 10.0, '6': 11.0, '7': 0.0, '8': 17.0, '9': 17.0, '10': 17.0, '11': 17.0, '12': 21.0, '13': 0.0, '14': 26.0, '15': 18.0, '16': 25.0, '17': 7.0, '18': 11.0, '19': 33.0, '20': 109.0, '21': 18.0, '22': 11.0, '23': 18.0, '24': 18.0, '25': 45.0, '26': 0.0, '27': 3.0, '28': 21.0, '29': 55.0, '30': 0.0, '31': 1.0, '32': 5.0, '33': 1.0, '34': 2.0, '35': 2.0, '36': 3.0, '37': 0.0, '38': 20.0, '39': 22.0, '40': 26.0, '41': 31.0, '42': 33.0, '43': 33.0, '44': 53.0, '45': 66.0, '46': 66.0, '47': 0.0, '48': 1.0, '49': 47.0, '50': 6.0, '51': 3.0, '52': 5.0, '53': 6.0, '54': 21.0, '55': 12.0, '56': 1.0, '57': 13.0, '58': 14.0, '59': 17.0, '60': 17.0, '61': 17.0, '62': 21.0, '63': 21.0, '64': 0.0, '65': 24.0, '66': 31.0, '67': 24.0, '68': 9.0, '69': 11.0, '70': 17.0, '71': 39.0, '72': 18.0, '73': 17.0, '74': 19.0, '75': 14.0, '76': 22.0, '77': 29.0, '78': 48.0, '79': 49.0, '80': 10.0, '81': 0.0, '82': 31.0, '83': 8.0, '84': 0.0, '85': 0.0, '86': 20.0, '87': 21.0, '88': 25.0, '89': 31.0, '90': 31.0, '91': 61.0, '92': 52.0, '93': 66.0, '94': 66.0, '95': 67.0, '96': 0.0, '97': 4.0, '98': 3.0, '99': 31.0, '100': 11.0, '101': 34.0, '102': 6.0, '103': 6.0, '104': 21.0, '105': 0.0, '106': 0.0, '107': 14.0, '108': 14.0, '109': 14.0, '110': 17.0, '111': 18.0, '112': 17.0, '113': 17.0, '114': 17.0, '115': 10.0, '116': -11.0, '117': None, '118': 5.0, '119': 24.0, '120': 26.0, '121': 15.0, '122': 27.0, '123': 24.0, '124': 31.0, '125': 33.0, '126': 10.0, '127': 20.0, '128': 17.0, '129': 10.0, '130': 13.0, '131': 18.0, '132': 46.0, '133': 1.0, '134': 48.0, '135': None, '136': 0.0, '137': 4.0, '138': 34.0, '139': 0.0, '140': 2.0, '141': 2.0, '142': 11.0, '143': 21.0, '144': 26.0, '145': 26.0, '146': 31.0, '147': 61.0, '148': 69.0, '149': 67.0, '150': 67.0, '151': 67.0, '152': 0.0, '153': 0.0, '154': 4.0, '155': 6.0, '156': 4.0, '157': 4.0, '158': 34.0, '159': 6.0, '160': 6.0, '161': 14.0, '162': 0.0, '163': 13.0, '164': 13.0, '165': 17.0, '166': 17.0, '167': 17.0, '168': 19.0, '169': -11.0, '170': 24.0, '171': 20.0, '172': 25.0, '173': 27.0, '174': 3.0, '175': 48.0, '176': 13.0, '177': 31.0, '178': 39.0, '179': 11.0, '180': 14.0, '181': 18.0, '182': 21.0, '183': 20.0, '184': 47.0, '185': 19.0, '186': 24.0, '187': 25.0, '188': 55.0, '189': 0.0, '190': 2.0, '191': 0.0, '192': 1.0, '193': 2.0, '194': 0.0, '195': 3.0, '196': 0.0, '197': 21.0, '198': 22.0, '199': 26.0, '200': 31.0, '201': 34.0, '202': 35.0, '203': 55.0, '204': 62.0, '205': 67.0, '206': 74.0, '207': 0.0, '208': 0.0, '209': 0.0, '210': 1.0}, 'Task Completion Mode': {'0': 'Late', '1': 'Late', '2': 'Late', '3': 'Late', '4': 'Late', '5': 'Late', '6': 'Late', '7': 'Late', '8': 'Late', '9': 'Late', '10': 'Late', '11': 'Late', '12': 'Late', '13': 'Late', '14': 'Late', '15': 'Late', '16': 'Late', '17': 'Late', '18': 'Late', '19': 'Late', '20': 'Late', '21': 'Late', '22': 'Late', '23': 'Late', '24': 'Late', '25': 'Late', '26': 'Late', '27': 'Late', '28': 'Late', '29': 'Late', '30': 'Late', '31': 'Late', '32': 'Late', '33': 'Late', '34': 'Late', '35': 'Late', '36': 'Late', '37': 'Late', '38': 'Late', '39': 'Late', '40': 'Late', '41': 'Late', '42': 'Late', '43': 'Late', '44': 'Late', '45': 'Late', '46': 'Late', '47': 'Late', '48': 'Late', '49': 'Late', '50': 'Late', '51': 'Late', '52': 'Late', '53': 'Late', '54': 'Late', '55': 'Late', '56': 'Late', '57': 'Late', '58': 'Late', '59': 'Late', '60': 'Late', '61': 'Late', '62': 'Late', '63': 'Late', '64': 'Late', '65': 'Late', '66': 'Late', '67': 'Late', '68': 'Late', '69': 'Late', '70': 'Late', '71': 'Late', '72': 'Late', '73': 'Late', '74': 'Late', '75': 'Late', '76': 'Late', '77': 'Late', '78': 'Late', '79': 'Late', '80': 'Late', '81': 'Late', '82': 'Late', '83': 'Late', '84': 'Late', '85': 'Late', '86': 'Late', '87': 'Late', '88': 'Late', '89': 'Late', '90': 'Late', '91': 'Late', '92': 'Late', '93': 'Late', '94': 'Late', '95': 'Late', '96': 'Late', '97': 'Late', '98': 'Late', '99': 'Late', '100': 'Late', '101': 'Late', '102': 'Late', '103': 'Late', '104': 'Late', '105': 'Late', '106': 'Late', '107': 'Late', '108': 'Late', '109': 'Late', '110': 'Late', '111': 'Late', '112': 'Late', '113': 'Late', '114': 'Late', '115': 'Late', '116': 'On Time', '117': 'On Time', '118': 'Late', '119': 'Late', '120': 'Late', '121': 'Late', '122': 'Late', '123': 'Late', '124': 'Late', '125': 'Late', '126': 'Late', '127': 'Late', '128': 'Late', '129': 'Late', '130': 'Late', '131': 'Late', '132': 'Late', '133': 'Late', '134': 'Late', '135': 'On Time', '136': 'Late', '137': 'Late', '138': 'Late', '139': 'Late', '140': 'Late', '141': 'Late', '142': 'Late', '143': 'Late', '144': 'Late', '145': 'Late', '146': 'Late', '147': 'Late', '148': 'Late', '149': 'Late', '150': 'Late', '151': 'Late', '152': 'Late', '153': 'Late', '154': 'Late', '155': 'Late', '156': 'Late', '157': 'Late', '158': 'Late', '159': 'Late', '160': 'Late', '161': 'Late', '162': 'Late', '163': 'Late', '164': 'Late', '165': 'Late', '166': 'Late', '167': 'Late', '168': 'Late', '169': 'On Time', '170': 'Late', '171': 'Late', '172': 'Late', '173': 'Late', '174': 'Late', '175': 'Late', '176': 'Late', '177': 'Late', '178': 'Late', '179': 'Late', '180': 'Late', '181': 'Late', '182': 'Late', '183': 'Late', '184': 'Late', '185': 'Late', '186': 'Late', '187': 'Late', '188': 'Late', '189': 'Late', '190': 'Late', '191': 'Late', '192': 'Late', '193': 'Late', '194': 'Late', '195': 'Late', '196': 'Late', '197': 'Late', '198': 'Late', '199': 'Late', '200': 'Late', '201': 'Late', '202': 'Late', '203': 'Late', '204': 'Late', '205': 'Late', '206': 'Late', '207': 'Late', '208': 'Late', '209': 'Late', '210': 'Late'}, 'Actual Time Taken': {'0': 4.0, '1': 7.0, '2': 5.0, '3': 28.0, '4': 11.0, '5': 11.0, '6': 13.0, '7': 1.0, '8': 19.0, '9': 19.0, '10': 19.0, '11': 21.0, '12': 22.0, '13': 1.0, '14': 27.0, '15': 28.0, '16': 29.0, '17': 8.0, '18': 12.0, '19': 34.0, '20': 110.0, '21': 40.0, '22': 12.0, '23': 19.0, '24': 19.0, '25': 46.0, '26': 1.0, '27': 4.0, '28': 22.0, '29': 57.0, '30': 1.0, '31': 2.0, '32': 6.0, '33': 2.0, '34': 4.0, '35': 3.0, '36': 4.0, '37': 1.0, '38': 21.0, '39': 23.0, '40': 29.0, '41': 34.0, '42': 36.0, '43': 36.0, '44': 61.0, '45': 67.0, '46': 67.0, '47': 1.0, '48': 2.0, '49': 49.0, '50': 7.0, '51': 4.0, '52': 6.0, '53': 7.0, '54': 22.0, '55': 13.0, '56': 2.0, '57': 14.0, '58': 15.0, '59': 19.0, '60': 19.0, '61': 19.0, '62': 22.0, '63': 22.0, '64': 1.0, '65': 29.0, '66': 32.0, '67': 25.0, '68': 10.0, '69': 12.0, '70': 18.0, '71': 40.0, '72': 19.0, '73': 18.0, '74': 20.0, '75': 43.0, '76': 23.0, '77': 30.0, '78': 49.0, '79': 50.0, '80': 12.0, '81': 1.0, '82': 32.0, '83': 9.0, '84': 1.0, '85': 1.0, '86': 21.0, '87': 22.0, '88': 27.0, '89': 34.0, '90': 36.0, '91': 64.0, '92': 55.0, '93': 68.0, '94': 67.0, '95': 68.0, '96': 1.0, '97': 34.0, '98': 4.0, '99': 32.0, '100': 13.0, '101': 35.0, '102': 7.0, '103': 7.0, '104': 22.0, '105': 1.0, '106': 1.0, '107': 15.0, '108': 15.0, '109': 15.0, '110': 18.0, '111': 20.0, '112': 19.0, '113': 19.0, '114': 19.0, '115': 21.0, '116': 25.0, '117': None, '118': 6.0, '119': 27.0, '120': 27.0, '121': 16.0, '122': 28.0, '123': 29.0, '124': 50.0, '125': 34.0, '126': 11.0, '127': 21.0, '128': 18.0, '129': 11.0, '130': 14.0, '131': 19.0, '132': 47.0, '133': 2.0, '134': 49.0, '135': None, '136': 1.0, '137': 5.0, '138': 56.0, '139': 1.0, '140': 3.0, '141': 4.0, '142': 12.0, '143': 22.0, '144': 27.0, '145': 29.0, '146': 36.0, '147': 64.0, '148': 71.0, '149': 68.0, '150': 68.0, '151': 68.0, '152': 1.0, '153': 2.0, '154': 5.0, '155': 7.0, '156': 5.0, '157': 5.0, '158': 35.0, '159': 7.0, '160': 7.0, '161': 15.0, '162': 1.0, '163': 14.0, '164': 14.0, '165': 19.0, '166': 19.0, '167': 19.0, '168': 20.0, '169': 21.0, '170': 25.0, '171': 21.0, '172': 26.0, '173': 28.0, '174': 4.0, '175': 49.0, '176': 14.0, '177': 34.0, '178': 40.0, '179': 12.0, '180': 15.0, '181': 19.0, '182': 22.0, '183': 21.0, '184': 48.0, '185': 21.0, '186': 25.0, '187': 29.0, '188': 56.0, '189': 1.0, '190': 4.0, '191': 1.0, '192': 2.0, '193': 3.0, '194': 1.0, '195': 4.0, '196': 1.0, '197': 22.0, '198': 26.0, '199': 29.0, '200': 36.0, '201': 35.0, '202': 36.0, '203': 62.0, '204': 64.0, '205': 68.0, '206': 75.0, '207': 1.0, '208': 2.0, '209': 1.0, '210': 4.0}, 'Time Spent So Far': {'0': 4, '1': 7, '2': 5, '3': 28, '4': 11, '5': 11, '6': 13, '7': 1, '8': 19, '9': 19, '10': 19, '11': 21, '12': 22, '13': 1, '14': 27, '15': 28, '16': 29, '17': 8, '18': 12, '19': 34, '20': 110, '21': 40, '22': 12, '23': 19, '24': 19, '25': 46, '26': 1, '27': 4, '28': 22, '29': 57, '30': 1, '31': 2, '32': 6, '33': 2, '34': 4, '35': 3, '36': 4, '37': 1, '38': 21, '39': 23, '40': 29, '41': 34, '42': 36, '43': 36, '44': 61, '45': 67, '46': 67, '47': 1, '48': 2, '49': 49, '50': 7, '51': 4, '52': 6, '53': 7, '54': 22, '55': 13, '56': 2, '57': 14, '58': 15, '59': 19, '60': 19, '61': 19, '62': 22, '63': 22, '64': 1, '65': 29, '66': 32, '67': 25, '68': 10, '69': 12, '70': 18, '71': 40, '72': 19, '73': 18, '74': 20, '75': 43, '76': 23, '77': 30, '78': 49, '79': 50, '80': 12, '81': 1, '82': 32, '83': 9, '84': 1, '85': 1, '86': 21, '87': 22, '88': 27, '89': 34, '90': 36, '91': 64, '92': 55, '93': 68, '94': 67, '95': 68, '96': 1, '97': 34, '98': 4, '99': 32, '100': 13, '101': 35, '102': 7, '103': 7, '104': 22, '105': 1, '106': 1, '107': 15, '108': 15, '109': 15, '110': 18, '111': 20, '112': 19, '113': 19, '114': 19, '115': 21, '116': 25, '117': 0, '118': 6, '119': 27, '120': 27, '121': 16, '122': 28, '123': 29, '124': 50, '125': 34, '126': 11, '127': 21, '128': 18, '129': 11, '130': 14, '131': 19, '132': 47, '133': 2, '134': 49, '135': 0, '136': 1, '137': 5, '138': 56, '139': 1, '140': 3, '141': 4, '142': 12, '143': 22, '144': 27, '145': 29, '146': 36, '147': 64, '148': 71, '149': 68, '150': 68, '151': 68, '152': 1, '153': 2, '154': 5, '155': 7, '156': 5, '157': 5, '158': 35, '159': 7, '160': 7, '161': 15, '162': 1, '163': 14, '164': 14, '165': 19, '166': 19, '167': 19, '168': 20, '169': 21, '170': 25, '171': 21, '172': 26, '173': 28, '174': 4, '175': 49, '176': 14, '177': 34, '178': 40, '179': 12, '180': 15, '181': 19, '182': 22, '183': 21, '184': 48, '185': 21, '186': 25, '187': 29, '188': 56, '189': 1, '190': 4, '191': 1, '192': 2, '193': 3, '194': 1, '195': 4, '196': 1, '197': 22, '198': 26, '199': 29, '200': 36, '201': 35, '202': 36, '203': 62, '204': 64, '205': 68, '206': 75, '207': 1, '208': 2, '209': 1, '210': 4}, 'Duration_1': {'0': 1.0, '1': 1.0, '2': 2.0, '3': 8.0, '4': 2.0, '5': 1.0, '6': 2.0, '7': 1.0, '8': 2.0, '9': 2.0, '10': 2.0, '11': 4.0, '12': 1.0, '13': 1.0, '14': 1.0, '15': 8.0, '16': 4.0, '17': 1.0, '18': 1.0, '19': 1.0, '20': 1.0, '21': 16.0, '22': 1.0, '23': 1.0, '24': 1.0, '25': 1.0, '26': 1.0, '27': 1.0, '28': 1.0, '29': 2.0, '30': 1.0, '31': 1.0, '32': 1.0, '33': 1.0, '34': 2.0, '35': 1.0, '36': 1.0, '37': 1.0, '38': 1.0, '39': 1.0, '40': 3.0, '41': 3.0, '42': 3.0, '43': 3.0, '44': 6.0, '45': 1.0, '46': 1.0, '47': 1.0, '48': 1.0, '49': 2.0, '50': 1.0, '51': 1.0, '52': 1.0, '53': 1.0, '54': 1.0, '55': 1.0, '56': 1.0, '57': 1.0, '58': 1.0, '59': 2.0, '60': 2.0, '61': 2.0, '62': 1.0, '63': 1.0, '64': 1.0, '65': 5.0, '66': 1.0, '67': 1.0, '68': 1.0, '69': 1.0, '70': 1.0, '71': 1.0, '72': 1.0, '73': 1.0, '74': 1.0, '75': 21.0, '76': 1.0, '77': 1.0, '78': 1.0, '79': 1.0, '80': 2.0, '81': 1.0, '82': 1.0, '83': 1.0, '84': 1.0, '85': 1.0, '86': 1.0, '87': 1.0, '88': 2.0, '89': 3.0, '90': 5.0, '91': 3.0, '92': 3.0, '93': 2.0, '94': 1.0, '95': 1.0, '96': 1.0, '97': 22.0, '98': 1.0, '99': 1.0, '100': 2.0, '101': 1.0, '102': 1.0, '103': 1.0, '104': 1.0, '105': 1.0, '106': 1.0, '107': 1.0, '108': 1.0, '109': 1.0, '110': 1.0, '111': 2.0, '112': 2.0, '113': 2.0, '114': 2.0, '115': 9.0, '116': 26.0, '117': 0.0, '118': 1.0, '119': 3.0, '120': 1.0, '121': 1.0, '122': 1.0, '123': 5.0, '124': 15.0, '125': 1.0, '126': 1.0, '127': 1.0, '128': 1.0, '129': 1.0, '130': 1.0, '131': 1.0, '132': 1.0, '133': 1.0, '134': 1.0, '135': 0.0, '136': 1.0, '137': 1.0, '138': 16.0, '139': 1.0, '140': 1.0, '141': 2.0, '142': 1.0, '143': 1.0, '144': 1.0, '145': 3.0, '146': 5.0, '147': 3.0, '148': 2.0, '149': 1.0, '150': 1.0, '151': 1.0, '152': 2.0, '153': 2.0, '154': 1.0, '155': 1.0, '156': 1.0, '157': 1.0, '158': 1.0, '159': 1.0, '160': 1.0, '161': 1.0, '162': 1.0, '163': 1.0, '164': 1.0, '165': 2.0, '166': 2.0, '167': 2.0, '168': 1.0, '169': 24.0, '170': 1.0, '171': 1.0, '172': 1.0, '173': 1.0, '174': 1.0, '175': 1.0, '176': 1.0, '177': 3.0, '178': 1.0, '179': 1.0, '180': 1.0, '181': 1.0, '182': 1.0, '183': 1.0, '184': 1.0, '185': 2.0, '186': 1.0, '187': 4.0, '188': 1.0, '189': 1.0, '190': 2.0, '191': 1.0, '192': 1.0, '193': 1.0, '194': 1.0, '195': 1.0, '196': 1.0, '197': 1.0, '198': 2.0, '199': 3.0, '200': 5.0, '201': 1.0, '202': 1.0, '203': 5.0, '204': 2.0, '205': 1.0, '206': 1.0, '207': 1.0, '208': 2.0, '209': 1.0, '210': 3.0}, 'Duration Unit': {'0': 'days', '1': 'days', '2': 'days', '3': 'days', '4': 'days', '5': 'days', '6': 'days', '7': 'days', '8': 'days', '9': 'days', '10': 'days', '11': 'days', '12': 'days', '13': 'days', '14': 'days', '15': 'days', '16': 'days', '17': 'days', '18': 'days', '19': 'days', '20': 'days', '21': 'days', '22': 'days', '23': 'days', '24': 'days', '25': 'days', '26': 'days', '27': 'days', '28': 'days', '29': 'days', '30': 'days', '31': 'days', '32': 'days', '33': 'days', '34': 'days', '35': 'days', '36': 'days', '37': 'days', '38': 'days', '39': 'days', '40': 'days', '41': 'days', '42': 'days', '43': 'days', '44': 'days', '45': 'days', '46': 'days', '47': 'days', '48': 'days', '49': 'days', '50': 'days', '51': 'days', '52': 'days', '53': 'days', '54': 'days', '55': 'days', '56': 'days', '57': 'days', '58': 'days', '59': 'days', '60': 'days', '61': 'days', '62': 'days', '63': 'days', '64': 'days', '65': 'days', '66': 'days', '67': 'days', '68': 'days', '69': 'days', '70': 'days', '71': 'days', '72': 'days', '73': 'days', '74': 'days', '75': 'days', '76': 'days', '77': 'days', '78': 'days', '79': 'days', '80': 'days', '81': 'days', '82': 'days', '83': 'days', '84': 'days', '85': 'days', '86': 'days', '87': 'days', '88': 'days', '89': 'days', '90': 'days', '91': 'days', '92': 'days', '93': 'days', '94': 'days', '95': 'days', '96': 'days', '97': 'days', '98': 'days', '99': 'days', '100': 'days', '101': 'days', '102': 'days', '103': 'days', '104': 'days', '105': 'days', '106': 'days', '107': 'days', '108': 'days', '109': 'days', '110': 'days', '111': 'days', '112': 'days', '113': 'days', '114': 'days', '115': 'days', '116': 'days', '117': 'days', '118': 'days', '119': 'days', '120': 'days', '121': 'days', '122': 'days', '123': 'days', '124': 'days', '125': 'days', '126': 'days', '127': 'days', '128': 'days', '129': 'days', '130': 'days', '131': 'days', '132': 'days', '133': 'days', '134': 'days', '135': 'days', '136': 'days', '137': 'days', '138': 'days', '139': 'days', '140': 'days', '141': 'days', '142': 'days', '143': 'days', '144': 'days', '145': 'days', '146': 'days', '147': 'days', '148': 'days', '149': 'days', '150': 'days', '151': 'days', '152': 'hrs', '153': 'days', '154': 'days', '155': 'days', '156': 'days', '157': 'days', '158': 'days', '159': 'days', '160': 'days', '161': 'days', '162': 'days', '163': 'days', '164': 'days', '165': 'days', '166': 'days', '167': 'days', '168': 'days', '169': 'days', '170': 'days', '171': 'days', '172': 'days', '173': 'days', '174': 'days', '175': 'days', '176': 'days', '177': 'days', '178': 'days', '179': 'days', '180': 'days', '181': 'days', '182': 'days', '183': 'days', '184': 'days', '185': 'days', '186': 'days', '187': 'days', '188': 'days', '189': 'days', '190': 'days', '191': 'days', '192': 'days', '193': 'days', '194': 'days', '195': 'days', '196': 'days', '197': 'days', '198': 'days', '199': 'days', '200': 'days', '201': 'days', '202': 'days', '203': 'days', '204': 'days', '205': 'days', '206': 'days', '207': 'days', '208': 'days', '209': 'days', '210': 'days'}, 'Rate Per Hour': {'0': None, '1': None, '2': None, '3': None, '4': None, '5': None, '6': None, '7': None, '8': None, '9': None, '10': None, '11': None, '12': None, '13': None, '14': None, '15': None, '16': None, '17': None, '18': None, '19': None, '20': None, '21': None, '22': None, '23': None, '24': None, '25': None, '26': None, '27': None, '28': None, '29': None, '30': None, '31': None, '32': None, '33': None, '34': None, '35': None, '36': None, '37': None, '38': None, '39': None, '40': None, '41': None, '42': None, '43': None, '44': None, '45': None, '46': None, '47': None, '48': None, '49': None, '50': None, '51': None, '52': None, '53': None, '54': None, '55': None, '56': None, '57': None, '58': None, '59': None, '60': None, '61': None, '62': None, '63': None, '64': None, '65': None, '66': None, '67': None, '68': None, '69': None, '70': None, '71': None, '72': None, '73': None, '74': None, '75': None, '76': None, '77': None, '78': None, '79': None, '80': None, '81': None, '82': None, '83': None, '84': None, '85': None, '86': None, '87': None, '88': None, '89': None, '90': None, '91': None, '92': None, '93': None, '94': None, '95': None, '96': None, '97': None, '98': None, '99': None, '100': None, '101': None, '102': None, '103': None, '104': None, '105': None, '106': None, '107': None, '108': None, '109': None, '110': None, '111': None, '112': None, '113': None, '114': None, '115': None, '116': None, '117': None, '118': None, '119': None, '120': None, '121': None, '122': None, '123': None, '124': None, '125': None, '126': None, '127': None, '128': None, '129': None, '130': None, '131': None, '132': None, '133': None, '134': None, '135': None, '136': None, '137': None, '138': None, '139': None, '140': None, '141': None, '142': None, '143': None, '144': None, '145': None, '146': None, '147': None, '148': None, '149': None, '150': None, '151': None, '152': None, '153': None, '154': None, '155': None, '156': None, '157': None, '158': None, '159': None, '160': None, '161': None, '162': None, '163': None, '164': None, '165': None, '166': None, '167': None, '168': None, '169': None, '170': None, '171': None, '172': None, '173': None, '174': None, '175': None, '176': None, '177': None, '178': None, '179': None, '180': None, '181': None, '182': None, '183': None, '184': None, '185': None, '186': None, '187': None, '188': None, '189': None, '190': None, '191': None, '192': None, '193': None, '194': None, '195': None, '196': None, '197': None, '198': None, '199': None, '200': None, '201': None, '202': None, '203': None, '204': None, '205': None, '206': None, '207': None, '208': None, '209': None, '210': None}, 'Clarity Level': {'0': None, '1': None, '2': None, '3': None, '4': None, '5': None, '6': None, '7': None, '8': None, '9': None, '10': None, '11': None, '12': None, '13': None, '14': None, '15': None, '16': None, '17': None, '18': None, '19': None, '20': 'Clear', '21': None, '22': None, '23': None, '24': None, '25': None, '26': None, '27': None, '28': None, '29': None, '30': None, '31': None, '32': None, '33': None, '34': None, '35': None, '36': None, '37': None, '38': None, '39': None, '40': None, '41': None, '42': None, '43': None, '44': None, '45': None, '46': None, '47': None, '48': 'Clear', '49': None, '50': None, '51': None, '52': None, '53': None, '54': None, '55': None, '56': None, '57': None, '58': None, '59': None, '60': None, '61': None, '62': None, '63': None, '64': None, '65': None, '66': None, '67': None, '68': None, '69': None, '70': None, '71': None, '72': None, '73': None, '74': None, '75': None, '76': None, '77': None, '78': None, '79': None, '80': None, '81': None, '82': None, '83': None, '84': None, '85': None, '86': None, '87': None, '88': None, '89': None, '90': None, '91': None, '92': None, '93': None, '94': None, '95': None, '96': 'Clear', '97': 'Clear', '98': 'Clear', '99': None, '100': None, '101': None, '102': None, '103': None, '104': None, '105': None, '106': None, '107': 'Clear', '108': None, '109': None, '110': None, '111': None, '112': None, '113': None, '114': None, '115': None, '116': None, '117': None, '118': None, '119': None, '120': None, '121': None, '122': None, '123': None, '124': None, '125': None, '126': None, '127': None, '128': None, '129': None, '130': None, '131': None, '132': None, '133': None, '134': None, '135': None, '136': None, '137': None, '138': None, '139': None, '140': None, '141': None, '142': None, '143': None, '144': None, '145': None, '146': None, '147': None, '148': None, '149': None, '150': None, '151': None, '152': 'Clear', '153': None, '154': None, '155': None, '156': None, '157': None, '158': None, '159': None, '160': None, '161': 'Clear', '162': None, '163': None, '164': None, '165': None, '166': None, '167': None, '168': None, '169': None, '170': None, '171': None, '172': None, '173': None, '174': None, '175': None, '176': None, '177': None, '178': None, '179': None, '180': None, '181': None, '182': None, '183': None, '184': None, '185': None, '186': None, '187': None, '188': None, '189': None, '190': None, '191': None, '192': None, '193': None, '194': None, '195': None, '196': None, '197': None, '198': None, '199': None, '200': None, '201': None, '202': None, '203': None, '204': None, '205': None, '206': None, '207': None, '208': None, '209': None, '210': None}, 'QC Owner': {'0': None, '1': None, '2': None, '3': None, '4': None, '5': None, '6': None, '7': None, '8': None, '9': None, '10': None, '11': None, '12': None, '13': None, '14': None, '15': None, '16': None, '17': None, '18': None, '19': None, '20': None, '21': None, '22': None, '23': None, '24': None, '25': None, '26': None, '27': None, '28': None, '29': None, '30': None, '31': None, '32': None, '33': None, '34': None, '35': None, '36': None, '37': None, '38': None, '39': None, '40': None, '41': None, '42': None, '43': None, '44': None, '45': None, '46': None, '47': None, '48': 'Irshad Pasha', '49': None, '50': None, '51': None, '52': None, '53': None, '54': None, '55': None, '56': None, '57': None, '58': None, '59': None, '60': None, '61': None, '62': None, '63': None, '64': None, '65': None, '66': None, '67': None, '68': None, '69': None, '70': None, '71': None, '72': None, '73': None, '74': None, '75': None, '76': None, '77': None, '78': None, '79': None, '80': None, '81': None, '82': None, '83': None, '84': None, '85': None, '86': None, '87': None, '88': None, '89': None, '90': None, '91': None, '92': None, '93': None, '94': None, '95': None, '96': 'Irshad Pasha', '97': 'Supril Jain', '98': None, '99': None, '100': None, '101': None, '102': None, '103': None, '104': None, '105': None, '106': None, '107': None, '108': None, '109': None, '110': None, '111': None, '112': None, '113': None, '114': None, '115': None, '116': None, '117': None, '118': None, '119': None, '120': None, '121': None, '122': None, '123': None, '124': None, '125': None, '126': None, '127': None, '128': None, '129': None, '130': None, '131': None, '132': None, '133': None, '134': None, '135': None, '136': None, '137': None, '138': None, '139': None, '140': None, '141': None, '142': None, '143': None, '144': None, '145': None, '146': None, '147': None, '148': None, '149': None, '150': None, '151': None, '152': None, '153': None, '154': None, '155': None, '156': None, '157': None, '158': None, '159': None, '160': None, '161': None, '162': None, '163': None, '164': None, '165': None, '166': None, '167': None, '168': None, '169': None, '170': None, '171': None, '172': None, '173': None, '174': None, '175': None, '176': None, '177': None, '178': None, '179': None, '180': None, '181': None, '182': None, '183': None, '184': None, '185': None, '186': None, '187': None, '188': None, '189': None, '190': None, '191': None, '192': None, '193': None, '194': None, '195': None, '196': None, '197': None, '198': None, '199': None, '200': None, '201': None, '202': None, '203': None, '204': None, '205': None, '206': None, '207': None, '208': None, '209': None, '210': None}}\n"
     ]
    }
   ],
   "source": [
    "import requests\n",
    "\n",
    "url = \"http://13.233.139.70:5000/query\"\n",
    "data = {\n",
    "    \"query\": \"Find tasks where the owner is Kiran Shrivastav\",\n",
    "    \"db_name\": \"tasks\"\n",
    "}\n",
    "response = requests.post(url, json=data)\n",
    "\n",
    "print(response.json())"
   ]
  }
 ],
 "metadata": {
  "kernelspec": {
   "display_name": "Python 3 (ipykernel)",
   "language": "python",
   "name": "python3"
  },
  "language_info": {
   "codemirror_mode": {
    "name": "ipython",
    "version": 3
   },
   "file_extension": ".py",
   "mimetype": "text/x-python",
   "name": "python",
   "nbconvert_exporter": "python",
   "pygments_lexer": "ipython3",
   "version": "3.10.0"
  }
 },
 "nbformat": 4,
 "nbformat_minor": 4
}
