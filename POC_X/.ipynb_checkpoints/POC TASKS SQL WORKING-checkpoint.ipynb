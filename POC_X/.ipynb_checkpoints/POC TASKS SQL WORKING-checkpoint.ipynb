{
 "cells": [
  {
   "cell_type": "code",
   "execution_count": 1,
   "metadata": {},
   "outputs": [
    {
     "name": "stdout",
     "output_type": "stream",
     "text": [
      "<class 'pandas.core.frame.DataFrame'>\n",
      "RangeIndex: 3302 entries, 0 to 3301\n",
      "Data columns (total 26 columns):\n",
      " #   Column                 Non-Null Count  Dtype         \n",
      "---  ------                 --------------  -----         \n",
      " 0   Task ID                3302 non-null   int64         \n",
      " 1   Task Name              3302 non-null   object        \n",
      " 2   Owner                  3302 non-null   object        \n",
      " 3   Priority               421 non-null    object        \n",
      " 4   Start Date             2963 non-null   datetime64[ns]\n",
      " 5   Due Date               2963 non-null   datetime64[ns]\n",
      " 6   Created Time           3302 non-null   datetime64[ns]\n",
      " 7   Status                 3302 non-null   object        \n",
      " 8   Is Overdue             3302 non-null   object        \n",
      " 9   Completion Percentage  3302 non-null   float64       \n",
      " 10  Project Name           3302 non-null   object        \n",
      " 11  Milestone Name         2935 non-null   object        \n",
      " 12  Project ID             3302 non-null   int64         \n",
      " 13  Milestone ID           3302 non-null   int64         \n",
      " 14  Parent Task ID         217 non-null    float64       \n",
      " 15  Created By ID          3302 non-null   int64         \n",
      " 16  Owner IDs              3302 non-null   object        \n",
      " 17  Task Delay Time        2963 non-null   float64       \n",
      " 18  Task Completion Mode   3302 non-null   object        \n",
      " 19  Actual Time Taken      2963 non-null   float64       \n",
      " 20  Time Spent So Far      3302 non-null   int64         \n",
      " 21  Duration_1             3302 non-null   float64       \n",
      " 22  Duration Unit          3302 non-null   object        \n",
      " 23  Rate Per Hour          0 non-null      float64       \n",
      " 24  Clarity Level          1227 non-null   object        \n",
      " 25  QC Owner               573 non-null    object        \n",
      "dtypes: datetime64[ns](3), float64(6), int64(5), object(12)\n",
      "memory usage: 670.8+ KB\n"
     ]
    }
   ],
   "source": [
    "import pandas as pd\n",
    "example=pd.read_excel(r\"C:\\Users\\HP\\Documents\\POC_X\\Tasks 1.xlsx\")\n",
    "example.info()"
   ]
  },
  {
   "cell_type": "code",
   "execution_count": null,
   "metadata": {},
   "outputs": [],
   "source": []
  },
  {
   "cell_type": "code",
   "execution_count": 3,
   "metadata": {},
   "outputs": [],
   "source": [
    "# example[\"Status\"] == \"In Progress\""
   ]
  },
  {
   "cell_type": "code",
   "execution_count": 4,
   "metadata": {},
   "outputs": [
    {
     "data": {
      "text/html": [
       "<div>\n",
       "<style scoped>\n",
       "    .dataframe tbody tr th:only-of-type {\n",
       "        vertical-align: middle;\n",
       "    }\n",
       "\n",
       "    .dataframe tbody tr th {\n",
       "        vertical-align: top;\n",
       "    }\n",
       "\n",
       "    .dataframe thead th {\n",
       "        text-align: right;\n",
       "    }\n",
       "</style>\n",
       "<table border=\"1\" class=\"dataframe\">\n",
       "  <thead>\n",
       "    <tr style=\"text-align: right;\">\n",
       "      <th></th>\n",
       "      <th>Task ID</th>\n",
       "      <th>Task Name</th>\n",
       "      <th>Owner</th>\n",
       "      <th>Priority</th>\n",
       "      <th>Start Date</th>\n",
       "      <th>Due Date</th>\n",
       "      <th>Created Time</th>\n",
       "      <th>Status</th>\n",
       "      <th>Is Overdue</th>\n",
       "      <th>Completion Percentage</th>\n",
       "      <th>...</th>\n",
       "      <th>Owner IDs</th>\n",
       "      <th>Task Delay Time</th>\n",
       "      <th>Task Completion Mode</th>\n",
       "      <th>Actual Time Taken</th>\n",
       "      <th>Time Spent So Far</th>\n",
       "      <th>Duration_1</th>\n",
       "      <th>Duration Unit</th>\n",
       "      <th>Rate Per Hour</th>\n",
       "      <th>Clarity Level</th>\n",
       "      <th>QC Owner</th>\n",
       "    </tr>\n",
       "  </thead>\n",
       "  <tbody>\n",
       "    <tr>\n",
       "      <th>0</th>\n",
       "      <td>749813000020764032</td>\n",
       "      <td>Create Partial Invoice</td>\n",
       "      <td>Shavi Thakur</td>\n",
       "      <td>not_exists</td>\n",
       "      <td>2024-03-15 09:30:00</td>\n",
       "      <td>2024-03-15 19:00:00</td>\n",
       "      <td>2024-03-15 18:26:00</td>\n",
       "      <td>To Do</td>\n",
       "      <td>Yes</td>\n",
       "      <td>0.0</td>\n",
       "      <td>...</td>\n",
       "      <td>773081417</td>\n",
       "      <td>3.0</td>\n",
       "      <td>Late</td>\n",
       "      <td>4.0</td>\n",
       "      <td>4</td>\n",
       "      <td>1.00</td>\n",
       "      <td>days</td>\n",
       "      <td>not_exists</td>\n",
       "      <td>Clear</td>\n",
       "      <td>Mohammed Yusha</td>\n",
       "    </tr>\n",
       "    <tr>\n",
       "      <th>1</th>\n",
       "      <td>749813000020764032</td>\n",
       "      <td>CEEW -Daily Team Catchup</td>\n",
       "      <td>Stuti S. Kulshrestha</td>\n",
       "      <td>not_exists</td>\n",
       "      <td>2024-03-15 09:30:00</td>\n",
       "      <td>2024-03-15 19:00:00</td>\n",
       "      <td>2024-03-15 09:41:00</td>\n",
       "      <td>In Progress</td>\n",
       "      <td>Yes</td>\n",
       "      <td>0.1</td>\n",
       "      <td>...</td>\n",
       "      <td>808004288</td>\n",
       "      <td>3.0</td>\n",
       "      <td>Late</td>\n",
       "      <td>4.0</td>\n",
       "      <td>4</td>\n",
       "      <td>1.00</td>\n",
       "      <td>days</td>\n",
       "      <td>not_exists</td>\n",
       "      <td>Clear</td>\n",
       "      <td>Stuti S. Kulshrestha</td>\n",
       "    </tr>\n",
       "    <tr>\n",
       "      <th>2</th>\n",
       "      <td>749813000020761984</td>\n",
       "      <td>Auto populate Business Description and References</td>\n",
       "      <td>Pavan S</td>\n",
       "      <td>not_exists</td>\n",
       "      <td>2024-03-16 14:15:00</td>\n",
       "      <td>2024-03-16 18:30:00</td>\n",
       "      <td>2024-03-16 14:11:00</td>\n",
       "      <td>To Do</td>\n",
       "      <td>Yes</td>\n",
       "      <td>0.0</td>\n",
       "      <td>...</td>\n",
       "      <td>845599619</td>\n",
       "      <td>2.0</td>\n",
       "      <td>Late</td>\n",
       "      <td>3.0</td>\n",
       "      <td>3</td>\n",
       "      <td>4.25</td>\n",
       "      <td>hrs</td>\n",
       "      <td>not_exists</td>\n",
       "      <td>Not Clear</td>\n",
       "      <td>not_exists</td>\n",
       "    </tr>\n",
       "    <tr>\n",
       "      <th>3</th>\n",
       "      <td>749813000020761984</td>\n",
       "      <td>OEM and Prod Category Reports</td>\n",
       "      <td>Achyuth T M</td>\n",
       "      <td>High</td>\n",
       "      <td>2024-03-15 09:30:00</td>\n",
       "      <td>2024-03-22 19:00:00</td>\n",
       "      <td>2024-03-15 10:27:00</td>\n",
       "      <td>In Progress</td>\n",
       "      <td>No</td>\n",
       "      <td>0.0</td>\n",
       "      <td>...</td>\n",
       "      <td>708853094</td>\n",
       "      <td>-4.0</td>\n",
       "      <td>On Time</td>\n",
       "      <td>4.0</td>\n",
       "      <td>4</td>\n",
       "      <td>6.00</td>\n",
       "      <td>days</td>\n",
       "      <td>not_exists</td>\n",
       "      <td>not_exists</td>\n",
       "      <td>not_exists</td>\n",
       "    </tr>\n",
       "    <tr>\n",
       "      <th>4</th>\n",
       "      <td>749813000020760960</td>\n",
       "      <td>Map App status with Zoho</td>\n",
       "      <td>Vikram Pai V</td>\n",
       "      <td>not_exists</td>\n",
       "      <td>2024-03-15 09:30:00</td>\n",
       "      <td>2024-03-15 19:00:00</td>\n",
       "      <td>2024-03-15 13:24:00</td>\n",
       "      <td>To Do</td>\n",
       "      <td>Yes</td>\n",
       "      <td>0.0</td>\n",
       "      <td>...</td>\n",
       "      <td>845596686</td>\n",
       "      <td>3.0</td>\n",
       "      <td>Late</td>\n",
       "      <td>4.0</td>\n",
       "      <td>4</td>\n",
       "      <td>1.00</td>\n",
       "      <td>days</td>\n",
       "      <td>not_exists</td>\n",
       "      <td>not_exists</td>\n",
       "      <td>not_exists</td>\n",
       "    </tr>\n",
       "    <tr>\n",
       "      <th>...</th>\n",
       "      <td>...</td>\n",
       "      <td>...</td>\n",
       "      <td>...</td>\n",
       "      <td>...</td>\n",
       "      <td>...</td>\n",
       "      <td>...</td>\n",
       "      <td>...</td>\n",
       "      <td>...</td>\n",
       "      <td>...</td>\n",
       "      <td>...</td>\n",
       "      <td>...</td>\n",
       "      <td>...</td>\n",
       "      <td>...</td>\n",
       "      <td>...</td>\n",
       "      <td>...</td>\n",
       "      <td>...</td>\n",
       "      <td>...</td>\n",
       "      <td>...</td>\n",
       "      <td>...</td>\n",
       "      <td>...</td>\n",
       "      <td>...</td>\n",
       "    </tr>\n",
       "    <tr>\n",
       "      <th>3297</th>\n",
       "      <td>749813000019883008</td>\n",
       "      <td>Fulfillment changes - HTML</td>\n",
       "      <td>Mallesh M S</td>\n",
       "      <td>not_exists</td>\n",
       "      <td>2024-01-02 09:30:00</td>\n",
       "      <td>2024-01-03 19:00:00</td>\n",
       "      <td>2024-01-02 10:26:00</td>\n",
       "      <td>Done</td>\n",
       "      <td>No</td>\n",
       "      <td>1.0</td>\n",
       "      <td>...</td>\n",
       "      <td>778475418</td>\n",
       "      <td>0.0</td>\n",
       "      <td>Late</td>\n",
       "      <td>2.0</td>\n",
       "      <td>2</td>\n",
       "      <td>2.00</td>\n",
       "      <td>days</td>\n",
       "      <td>not_exists</td>\n",
       "      <td>Clear</td>\n",
       "      <td>Dharanidharan C</td>\n",
       "    </tr>\n",
       "    <tr>\n",
       "      <th>3298</th>\n",
       "      <td>749813000019873024</td>\n",
       "      <td>Leads - Annual Revenue cannot be less than 0 -...</td>\n",
       "      <td>M S Satya</td>\n",
       "      <td>not_exists</td>\n",
       "      <td>2023-12-25 09:30:00</td>\n",
       "      <td>2023-12-29 19:00:00</td>\n",
       "      <td>2024-01-01 23:19:00</td>\n",
       "      <td>QA level 1 Completed</td>\n",
       "      <td>Yes</td>\n",
       "      <td>0.1</td>\n",
       "      <td>...</td>\n",
       "      <td>789497933</td>\n",
       "      <td>80.0</td>\n",
       "      <td>Late</td>\n",
       "      <td>85.0</td>\n",
       "      <td>85</td>\n",
       "      <td>5.00</td>\n",
       "      <td>days</td>\n",
       "      <td>not_exists</td>\n",
       "      <td>Clear</td>\n",
       "      <td>not_exists</td>\n",
       "    </tr>\n",
       "    <tr>\n",
       "      <th>3299</th>\n",
       "      <td>749813000019870976</td>\n",
       "      <td>Quote Module Automation</td>\n",
       "      <td>Mohammed Yusha,Anusuyadevi V,Tanu Gupta</td>\n",
       "      <td>not_exists</td>\n",
       "      <td>2024-01-02 09:30:00</td>\n",
       "      <td>2024-01-04 19:00:00</td>\n",
       "      <td>2024-01-02 10:35:00</td>\n",
       "      <td>Done</td>\n",
       "      <td>No</td>\n",
       "      <td>1.0</td>\n",
       "      <td>...</td>\n",
       "      <td>701373265,786479121,790157522</td>\n",
       "      <td>6.0</td>\n",
       "      <td>Late</td>\n",
       "      <td>9.0</td>\n",
       "      <td>9</td>\n",
       "      <td>3.00</td>\n",
       "      <td>days</td>\n",
       "      <td>not_exists</td>\n",
       "      <td>not_exists</td>\n",
       "      <td>not_exists</td>\n",
       "    </tr>\n",
       "    <tr>\n",
       "      <th>3300</th>\n",
       "      <td>749813000019870976</td>\n",
       "      <td>PDF Fields data fetch from the CRM Submittal a...</td>\n",
       "      <td>Ayush Singh,Mary Nisha</td>\n",
       "      <td>not_exists</td>\n",
       "      <td>2024-01-02 09:30:00</td>\n",
       "      <td>2024-01-02 19:00:00</td>\n",
       "      <td>2024-01-02 10:30:00</td>\n",
       "      <td>Development Complete</td>\n",
       "      <td>Yes</td>\n",
       "      <td>0.1</td>\n",
       "      <td>...</td>\n",
       "      <td>772908679,775643568</td>\n",
       "      <td>76.0</td>\n",
       "      <td>Late</td>\n",
       "      <td>77.0</td>\n",
       "      <td>77</td>\n",
       "      <td>1.00</td>\n",
       "      <td>days</td>\n",
       "      <td>not_exists</td>\n",
       "      <td>Clear</td>\n",
       "      <td>Dharanidharan C</td>\n",
       "    </tr>\n",
       "    <tr>\n",
       "      <th>3301</th>\n",
       "      <td>749813000019869952</td>\n",
       "      <td>Create 2 forms Subscription +Training</td>\n",
       "      <td>Aaftab Ahmad</td>\n",
       "      <td>not_exists</td>\n",
       "      <td>2023-12-29 09:30:00</td>\n",
       "      <td>2023-12-29 19:00:00</td>\n",
       "      <td>2024-01-02 09:30:00</td>\n",
       "      <td>Done</td>\n",
       "      <td>No</td>\n",
       "      <td>1.0</td>\n",
       "      <td>...</td>\n",
       "      <td>776475994</td>\n",
       "      <td>11.0</td>\n",
       "      <td>Late</td>\n",
       "      <td>12.0</td>\n",
       "      <td>12</td>\n",
       "      <td>1.00</td>\n",
       "      <td>days</td>\n",
       "      <td>not_exists</td>\n",
       "      <td>Clear</td>\n",
       "      <td>Waheeba Khan</td>\n",
       "    </tr>\n",
       "  </tbody>\n",
       "</table>\n",
       "<p>3302 rows × 26 columns</p>\n",
       "</div>"
      ],
      "text/plain": [
       "                 Task ID                                          Task Name  \\\n",
       "0     749813000020764032                             Create Partial Invoice   \n",
       "1     749813000020764032                           CEEW -Daily Team Catchup   \n",
       "2     749813000020761984  Auto populate Business Description and References   \n",
       "3     749813000020761984                      OEM and Prod Category Reports   \n",
       "4     749813000020760960                           Map App status with Zoho   \n",
       "...                  ...                                                ...   \n",
       "3297  749813000019883008                         Fulfillment changes - HTML   \n",
       "3298  749813000019873024  Leads - Annual Revenue cannot be less than 0 -...   \n",
       "3299  749813000019870976                            Quote Module Automation   \n",
       "3300  749813000019870976  PDF Fields data fetch from the CRM Submittal a...   \n",
       "3301  749813000019869952              Create 2 forms Subscription +Training   \n",
       "\n",
       "                                        Owner    Priority  \\\n",
       "0                                Shavi Thakur  not_exists   \n",
       "1                        Stuti S. Kulshrestha  not_exists   \n",
       "2                                     Pavan S  not_exists   \n",
       "3                                 Achyuth T M        High   \n",
       "4                                Vikram Pai V  not_exists   \n",
       "...                                       ...         ...   \n",
       "3297                              Mallesh M S  not_exists   \n",
       "3298                                M S Satya  not_exists   \n",
       "3299  Mohammed Yusha,Anusuyadevi V,Tanu Gupta  not_exists   \n",
       "3300                   Ayush Singh,Mary Nisha  not_exists   \n",
       "3301                             Aaftab Ahmad  not_exists   \n",
       "\n",
       "               Start Date             Due Date        Created Time  \\\n",
       "0     2024-03-15 09:30:00  2024-03-15 19:00:00 2024-03-15 18:26:00   \n",
       "1     2024-03-15 09:30:00  2024-03-15 19:00:00 2024-03-15 09:41:00   \n",
       "2     2024-03-16 14:15:00  2024-03-16 18:30:00 2024-03-16 14:11:00   \n",
       "3     2024-03-15 09:30:00  2024-03-22 19:00:00 2024-03-15 10:27:00   \n",
       "4     2024-03-15 09:30:00  2024-03-15 19:00:00 2024-03-15 13:24:00   \n",
       "...                   ...                  ...                 ...   \n",
       "3297  2024-01-02 09:30:00  2024-01-03 19:00:00 2024-01-02 10:26:00   \n",
       "3298  2023-12-25 09:30:00  2023-12-29 19:00:00 2024-01-01 23:19:00   \n",
       "3299  2024-01-02 09:30:00  2024-01-04 19:00:00 2024-01-02 10:35:00   \n",
       "3300  2024-01-02 09:30:00  2024-01-02 19:00:00 2024-01-02 10:30:00   \n",
       "3301  2023-12-29 09:30:00  2023-12-29 19:00:00 2024-01-02 09:30:00   \n",
       "\n",
       "                    Status Is Overdue  Completion Percentage  ...  \\\n",
       "0                    To Do        Yes                    0.0  ...   \n",
       "1              In Progress        Yes                    0.1  ...   \n",
       "2                    To Do        Yes                    0.0  ...   \n",
       "3              In Progress         No                    0.0  ...   \n",
       "4                    To Do        Yes                    0.0  ...   \n",
       "...                    ...        ...                    ...  ...   \n",
       "3297                  Done         No                    1.0  ...   \n",
       "3298  QA level 1 Completed        Yes                    0.1  ...   \n",
       "3299                  Done         No                    1.0  ...   \n",
       "3300  Development Complete        Yes                    0.1  ...   \n",
       "3301                  Done         No                    1.0  ...   \n",
       "\n",
       "                          Owner IDs Task Delay Time  Task Completion Mode  \\\n",
       "0                         773081417             3.0                  Late   \n",
       "1                         808004288             3.0                  Late   \n",
       "2                         845599619             2.0                  Late   \n",
       "3                         708853094            -4.0               On Time   \n",
       "4                         845596686             3.0                  Late   \n",
       "...                             ...             ...                   ...   \n",
       "3297                      778475418             0.0                  Late   \n",
       "3298                      789497933            80.0                  Late   \n",
       "3299  701373265,786479121,790157522             6.0                  Late   \n",
       "3300            772908679,775643568            76.0                  Late   \n",
       "3301                      776475994            11.0                  Late   \n",
       "\n",
       "      Actual Time Taken Time Spent So Far  Duration_1 Duration Unit  \\\n",
       "0                   4.0                 4        1.00          days   \n",
       "1                   4.0                 4        1.00          days   \n",
       "2                   3.0                 3        4.25           hrs   \n",
       "3                   4.0                 4        6.00          days   \n",
       "4                   4.0                 4        1.00          days   \n",
       "...                 ...               ...         ...           ...   \n",
       "3297                2.0                 2        2.00          days   \n",
       "3298               85.0                85        5.00          days   \n",
       "3299                9.0                 9        3.00          days   \n",
       "3300               77.0                77        1.00          days   \n",
       "3301               12.0                12        1.00          days   \n",
       "\n",
       "     Rate Per Hour Clarity Level              QC Owner  \n",
       "0       not_exists         Clear        Mohammed Yusha  \n",
       "1       not_exists         Clear  Stuti S. Kulshrestha  \n",
       "2       not_exists     Not Clear            not_exists  \n",
       "3       not_exists    not_exists            not_exists  \n",
       "4       not_exists    not_exists            not_exists  \n",
       "...            ...           ...                   ...  \n",
       "3297    not_exists         Clear       Dharanidharan C  \n",
       "3298    not_exists         Clear            not_exists  \n",
       "3299    not_exists    not_exists            not_exists  \n",
       "3300    not_exists         Clear       Dharanidharan C  \n",
       "3301    not_exists         Clear          Waheeba Khan  \n",
       "\n",
       "[3302 rows x 26 columns]"
      ]
     },
     "execution_count": 4,
     "metadata": {},
     "output_type": "execute_result"
    }
   ],
   "source": [
    "example.fillna(\"not_exists\")"
   ]
  },
  {
   "cell_type": "code",
   "execution_count": null,
   "metadata": {},
   "outputs": [],
   "source": []
  },
  {
   "cell_type": "code",
   "execution_count": 176,
   "metadata": {},
   "outputs": [
    {
     "data": {
      "text/plain": [
       "Owner\n",
       "Kiran Shrivastav                       199\n",
       "Tanu Gupta                             164\n",
       "Sachin Patil                           159\n",
       "Monik Chettiyar                        132\n",
       "Swetha K                               123\n",
       "                                      ... \n",
       "Swetha K,Aaftab Ahmad                    1\n",
       "Kris Oswold,Constance Jones              1\n",
       "Vignesh R,Mallesh M S                    1\n",
       "Waheeba Khan,Supril Jain,Tanu Gupta      1\n",
       "Supril Jain,Maninder Singh               1\n",
       "Name: count, Length: 183, dtype: int64"
      ]
     },
     "execution_count": 176,
     "metadata": {},
     "output_type": "execute_result"
    }
   ],
   "source": [
    "example.Owner.value_counts()"
   ]
  },
  {
   "cell_type": "code",
   "execution_count": 37,
   "metadata": {},
   "outputs": [
    {
     "data": {
      "text/plain": [
       "Index(['Task ID', 'Task Name', 'Owner', 'Priority', 'Start Date', 'Due Date',\n",
       "       'Created Time', 'Status', 'Is Overdue', 'Completion Percentage',\n",
       "       'Project Name', 'Milestone Name', 'Project ID', 'Milestone ID',\n",
       "       'Parent Task ID', 'Created By ID', 'Owner IDs', 'Task Delay Time',\n",
       "       'Task Completion Mode', 'Actual Time Taken', 'Time Spent So Far',\n",
       "       'Duration_1', 'Duration Unit', 'Rate Per Hour', 'Clarity Level',\n",
       "       'QC Owner'],\n",
       "      dtype='object')"
      ]
     },
     "execution_count": 37,
     "metadata": {},
     "output_type": "execute_result"
    }
   ],
   "source": [
    "example.columns"
   ]
  },
  {
   "cell_type": "code",
   "execution_count": 5,
   "metadata": {},
   "outputs": [],
   "source": [
    "import pandas as pd\n",
    "\n",
    "# Load the Excel file\n",
    "# file_path = 'your_excel_file.xlsx'  # Replace with your file path\n",
    "df = example\n",
    "\n",
    "# Function to format a single row into the desired string\n",
    "def format_task(row):\n",
    "    return (f\"Task ID: {row['Task ID']}\\n\"\n",
    "            f\"Task Name: {row['Task Name']}\\n\"\n",
    "            f\"Task Creation Time: {row['Created Time']}\\n\"\n",
    "            f\"Task Ending Time: {row['Due Date']}\\n\"\n",
    "            f\"Status: {row['Status']}\\n\"\n",
    "            f\"Created By: {row['Created By ID']}\\n\"\n",
    "            f\"Owner: {row['Owner']}\\n\"\n",
    "            f\"Project Details:\\n\"\n",
    "            f\"    Priority: {row['Priority']}\\n\"\n",
    "            f\"    Description: {row.get('Description', 'N/A')}\\n\"  # Ensure Description exists in your data\n",
    "            f\"    Dependencies: {row.get('Dependencies', 'N/A')}\\n\"  # Ensure Dependencies exists in your data\n",
    "            f\"    Estimated Hours: {row.get('Estimated Hours', 'N/A')}\\n\"  # Ensure Estimated Hours exists in your data\n",
    "            f\"    Actual Hours: {row.get('Actual Time Taken', 'N/A')}\\n\"\n",
    "            f\"    Notes: {row.get('Notes', 'N/A')}\\n\")  # Ensure Notes exists in your data\n",
    "\n",
    "# Apply the formatting function to each row\n",
    "formatted_tasks = df.apply(format_task, axis=1).tolist()\n",
    "\n",
    "final_lis=[]\n",
    "# Output formatted tasks\n",
    "for task in formatted_tasks:\n",
    "    # print(task)\n",
    "    final_lis.append(task)\n",
    "    # print('-' * 80)  # Separator for clarity\n"
   ]
  },
  {
   "cell_type": "code",
   "execution_count": null,
   "metadata": {},
   "outputs": [],
   "source": []
  },
  {
   "cell_type": "code",
   "execution_count": null,
   "metadata": {},
   "outputs": [],
   "source": []
  },
  {
   "cell_type": "code",
   "execution_count": 49,
   "metadata": {},
   "outputs": [],
   "source": [
    "# from datetime import datetime\n",
    "\n",
    "# # Sample JSON task\n",
    "# task_json = [{\n",
    "#   \"task_id\": \"T001\",\n",
    "#   \"task_name\": \"Design Circuit Board\",\n",
    "#   \"task_creation_time\": \"2024-07-25T09:00:00Z\",\n",
    "#   \"task_ending_time\": \"2024-08-01T17:00:00Z\",\n",
    "#   \"status\": \"inprogress\",\n",
    "#   \"created_by\": \"John Doe\",\n",
    "#   \"owner\": \"Jane Smith\",\n",
    "#   \"project_details\": {\n",
    "#     \"priority\": \"High\",\n",
    "#     \"description\": \"Designing the main circuit board for the new product line.\",\n",
    "#     \"dependencies\": [\"T002\", \"T003\"],\n",
    "#     \"estimated_hours\": 40,\n",
    "#     \"actual_hours\": 20,\n",
    "#     \"notes\": \"Ensure compliance with all regulatory standards.\"\n",
    "#   }},\n",
    "#   {\n",
    "#   \"task_id\": \"T002\",\n",
    "#   \"task_name\": \"Develop Firmware\",\n",
    "#   \"task_creation_time\": \"2024-07-26T10:00:00Z\",\n",
    "#   \"task_ending_time\": \"2024-08-10T18:00:00Z\",\n",
    "#   \"status\": \"pending\",\n",
    "#   \"created_by\": \"Alice Johnson\",\n",
    "#   \"owner\": \"Bob Brown\",\n",
    "#   \"project_details\": {\n",
    "#     \"priority\": \"Medium\",\n",
    "#     \"description\": \"Developing the firmware for the new circuit board.\",\n",
    "#     \"dependencies\": [\"T001\"],\n",
    "#     \"estimated_hours\": 60,\n",
    "#     \"actual_hours\": 0,\n",
    "#     \"notes\": \"Firmware must be compatible with all existing systems.\"\n",
    "# }\n",
    "# },\n",
    "\n",
    "# {\n",
    "#   \"task_id\": \"T003\",\n",
    "#   \"task_name\": \"Test Circuit Board\",\n",
    "#   \"task_creation_time\": \"2024-07-27T11:00:00Z\",\n",
    "#   \"task_ending_time\": \"2024-08-15T16:00:00Z\",\n",
    "#   \"status\": \"pending\",\n",
    "#   \"created_by\": \"Charlie Davis\",\n",
    "#   \"owner\": \"Dana White\",\n",
    "#   \"project_details\": {\n",
    "#     \"priority\": \"High\",\n",
    "#     \"description\": \"Testing the newly designed circuit board for functionality and durability.\",\n",
    "#     \"dependencies\": [\"T001\"],\n",
    "#     \"estimated_hours\": 50,\n",
    "#     \"actual_hours\": 0,\n",
    "#     \"notes\": \"Include stress testing and temperature variations.\"\n",
    "#   }\n",
    "# }\n",
    "# ]\n",
    "\n",
    "# table_to_text= []\n",
    "\n",
    "# for task in task_json:\n",
    "#     # Convert datetime strings to datetime objects\n",
    "#     task_creation_time = datetime.fromisoformat(task['task_creation_time'].replace('Z', '+00:00'))\n",
    "#     task_ending_time = datetime.fromisoformat(task['task_ending_time'].replace('Z', '+00:00'))\n",
    "\n",
    "#     # Initialize description\n",
    "#     description = \"\"\n",
    "\n",
    "#     # Append task details\n",
    "#     description += f\"Task ID: {task['task_id']}\\n\"\n",
    "#     description += f\"Task Name: {task['task_name']}\\n\"\n",
    "#     description += f\"Task Creation Time: {task_creation_time.strftime('%Y-%m-%d %H:%M:%S')}\\n\"\n",
    "#     description += f\"Task Ending Time: {task_ending_time.strftime('%Y-%m-%d %H:%M:%S')}\\n\"\n",
    "#     description += f\"Status: {task['status']}\\n\"\n",
    "#     description += f\"Created By: {task['created_by']}\\n\"\n",
    "#     description += f\"Owner: {task['owner']}\\n\"\n",
    "\n",
    "#     # Append project details\n",
    "#     description += \"Project Details:\\n\"\n",
    "#     description += f\"    Priority: {task['project_details']['priority']}\\n\"\n",
    "#     description += f\"    Description: {task['project_details']['description']}\\n\"\n",
    "#     description += f\"    Dependencies: {', '.join(task['project_details']['dependencies'])}\\n\"\n",
    "#     description += f\"    Estimated Hours: {task['project_details']['estimated_hours']}\\n\"\n",
    "#     description += f\"    Actual Hours: {task['project_details']['actual_hours']}\\n\"\n",
    "#     description += f\"    Notes: {task['project_details']['notes']}\\n\"\n",
    "\n",
    "#     # Print the description\n",
    "#     table_to_text.append(description)\n"
   ]
  },
  {
   "cell_type": "code",
   "execution_count": 6,
   "metadata": {},
   "outputs": [],
   "source": [
    "table_to_text=final_lis"
   ]
  },
  {
   "cell_type": "code",
   "execution_count": 2,
   "metadata": {},
   "outputs": [],
   "source": [
    "# from langchain_huggingface import HuggingFaceEmbeddings\n",
    "# model_name = \"BAAI/bge-small-en-v1.5\"\n",
    "# model_kwargs = {'device': 'cpu'}\n",
    "# encode_kwargs = {'normalize_embeddings': True}\n",
    "# hf = HuggingFaceEmbeddings(\n",
    "# model_name=model_name,\n",
    "# model_kwargs=model_kwargs,\n",
    "# encode_kwargs=encode_kwargs\n",
    "# )"
   ]
  },
  {
   "cell_type": "code",
   "execution_count": 7,
   "metadata": {},
   "outputs": [
    {
     "name": "stderr",
     "output_type": "stream",
     "text": [
      "C:\\Users\\HP\\anaconda3\\envs\\poc\\lib\\site-packages\\sentence_transformers\\cross_encoder\\CrossEncoder.py:11: TqdmWarning: IProgress not found. Please update jupyter and ipywidgets. See https://ipywidgets.readthedocs.io/en/stable/user_install.html\n",
      "  from tqdm.autonotebook import tqdm, trange\n"
     ]
    }
   ],
   "source": [
    "from sentence_transformers import SentenceTransformer\n",
    "\n",
    "hf = SentenceTransformer(\"all-MiniLM-L6-v2\")\n",
    "embeddings = hf.encode(table_to_text)"
   ]
  },
  {
   "cell_type": "code",
   "execution_count": 8,
   "metadata": {},
   "outputs": [
    {
     "name": "stderr",
     "output_type": "stream",
     "text": [
      "C:\\Users\\HP\\AppData\\Local\\Temp\\ipykernel_7308\\134676484.py:8: DeprecationWarning: `recreate_collection` method is deprecated and will be removed in the future. Use `collection_exists` to check collection existence and `create_collection` instead.\n",
      "  client.recreate_collection(\n"
     ]
    }
   ],
   "source": [
    "from qdrant_client.models import PointStruct\n",
    "from qdrant_client import QdrantClient\n",
    "from qdrant_client.models import Distance, VectorParams\n",
    "from dspy.retrieve.qdrant_rm import QdrantRM\n",
    "\n",
    "client = QdrantClient(\":memory:\")\n",
    "\n",
    "client.recreate_collection(\n",
    "    collection_name=\"temp\",\n",
    "    vectors_config=VectorParams(size=384, distance=Distance.COSINE),\n",
    ")\n",
    "\n",
    "# NOTE: consider splitting the data into chunks to avoid hitting the server's payload size limit\n",
    "# or use `upload_collection` or `upload_points` methods which handle this for you\n",
    "# WARNING: uploading points one-by-one is not recommended due to requests overhead\n",
    "client.upsert(\n",
    "    collection_name=\"temp\",\n",
    "    points=[\n",
    "        PointStruct(\n",
    "            id=idx,\n",
    "            # vector=hf.encode(element),\n",
    "            vector=embeddings[idx]\n",
    "            # payload=element['metadata']\n",
    "        )\n",
    "        for idx, element in enumerate(table_to_text)\n",
    "    ]\n",
    ")\n",
    "\n",
    "qdrant_retriever_model = QdrantRM(\"temp\", client, k=1)"
   ]
  },
  {
   "cell_type": "code",
   "execution_count": 6,
   "metadata": {},
   "outputs": [],
   "source": [
    "# !pip install dspy-ai==2.4.11"
   ]
  },
  {
   "cell_type": "code",
   "execution_count": 10,
   "metadata": {},
   "outputs": [],
   "source": [
    "import dspy\n",
    "lm = dspy.OpenAI(model=\"gpt-3.5-turbo\",api_key=\"sk-proj-3LVGYHGnw9IROwA0iTDJT3BlbkFJXATZkpZ9vYk2Est8JjCq\")\n",
    "# lm = dspy.GROQ(model='llama3-70b-8192', api_key =\"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\" )\n",
    "dspy.settings.configure(lm=lm, rm=qdrant_retriever_model)"
   ]
  },
  {
   "cell_type": "code",
   "execution_count": 148,
   "metadata": {},
   "outputs": [
    {
     "data": {
      "text/plain": [
       "['Hello! How can I assist you today?']"
      ]
     },
     "execution_count": 148,
     "metadata": {},
     "output_type": "execute_result"
    }
   ],
   "source": [
    "turbo(\"hi\")"
   ]
  },
  {
   "cell_type": "code",
   "execution_count": 122,
   "metadata": {},
   "outputs": [],
   "source": [
    "class RAGSignature(dspy.Signature):\n",
    "    \"\"\"INSTRUCTION: You are a SQL god, Provide SQL queries based on given question and only give CODE and NO MARKDOWN like ```sql or else huge penalty\n",
    "    if you encounter any human name try to find a substring match also, if you get dates data then format it to sql format and then answer,\n",
    "    make sure you follow the given column names EXACTLY Do not merge them, limit the use of limiters like top and limit\"\"\"\n",
    "\n",
    "    context = dspy.InputField(desc=\"You will be given a sample row which will contain flattened values of table in the format column name: Value lookout for synonyms as well\")\n",
    "    question = dspy.InputField()\n",
    "    answer = dspy.OutputField(desc=\"SQL code only ensuring you follow strict SQL guidelines and syntax\")"
   ]
  },
  {
   "cell_type": "code",
   "execution_count": 123,
   "metadata": {},
   "outputs": [],
   "source": [
    "def generate_context(question, k):\n",
    "    hits = client.search(query_vector=hf.encode(question) ,collection_name=\"temp\")\n",
    "    ranking = [table_to_text[h.id] for h in hits][:k]\n",
    "    return ranking"
   ]
  },
  {
   "cell_type": "code",
   "execution_count": 124,
   "metadata": {},
   "outputs": [
    {
     "data": {
      "text/plain": [
       "Index(['Task ID', 'Task Name', 'Owner', 'Priority', 'Start Date', 'Due Date',\n",
       "       'Created Time', 'Status', 'Is Overdue', 'Completion Percentage',\n",
       "       'Project Name', 'Milestone Name', 'Project ID', 'Milestone ID',\n",
       "       'Parent Task ID', 'Created By ID', 'Owner IDs', 'Task Delay Time',\n",
       "       'Task Completion Mode', 'Actual Time Taken', 'Time Spent So Far',\n",
       "       'Duration_1', 'Duration Unit', 'Rate Per Hour', 'Clarity Level',\n",
       "       'QC Owner'],\n",
       "      dtype='object')"
      ]
     },
     "execution_count": 124,
     "metadata": {},
     "output_type": "execute_result"
    }
   ],
   "source": [
    "example.columns"
   ]
  },
  {
   "cell_type": "code",
   "execution_count": 125,
   "metadata": {},
   "outputs": [],
   "source": [
    "dummy_context = \"\"\"table name: tasks\n",
    "Column name Status : ['To Do', 'In Progress', 'Terminated/Cancelled', 'Development',\n",
    "       'Development Complete', 'Done', 'Ready for QC', 'Discovery Phase',\n",
    "       'QA level 1 Completed', 'QC Passed', 'QA Completed', 'Hold',\n",
    "       'QA level 2 in progress']\n",
    "Other column name are: ['Task ID', 'Task Name', 'Owner', 'Priority', 'Start Date', 'Due Date',\n",
    "       'Created Time', 'Status', 'Is Overdue', 'Completion Percentage',\n",
    "       'Project Name', 'Milestone Name', 'Project ID', 'Milestone ID',\n",
    "       'Parent Task ID', 'Created By ID', 'Owner IDs', 'Task Delay Time',\n",
    "       'Task Completion Mode', 'Actual Time Taken', 'Time Spent So Far',\n",
    "       'Duration_1', 'Duration Unit', 'Rate Per Hour', 'Clarity Level',\n",
    "       'QC Owner']\n",
    "\"\"\""
   ]
  },
  {
   "cell_type": "code",
   "execution_count": 126,
   "metadata": {},
   "outputs": [],
   "source": [
    "class ChainOfThoughtRAG(dspy.Module):\n",
    "    \n",
    "    def __init__(self, context_length):\n",
    "        super().__init__()\n",
    "        self.retrieve = dspy.Retrieve(k=context_length)\n",
    "        self.generate_answer = dspy.ChainOfThought(RAGSignature)\n",
    "        self.k = context_length\n",
    "\n",
    "    def forward(self, question):\n",
    "        context = dummy_context #str(list(df.columns))\n",
    "        # context = generate_context(question, k=self.k) df.columns\n",
    "        prediction = self.generate_answer(context=context, question=question)\n",
    "        return dspy.Prediction(context=context, answer=prediction.answer)"
   ]
  },
  {
   "cell_type": "code",
   "execution_count": 127,
   "metadata": {},
   "outputs": [],
   "source": [
    "cot=ChainOfThoughtRAG(1)"
   ]
  },
  {
   "cell_type": "code",
   "execution_count": 128,
   "metadata": {},
   "outputs": [
    {
     "name": "stdout",
     "output_type": "stream",
     "text": [
      "SELECT * FROM tasks WHERE Owner LIKE '%Kiran Shrivatsva%'\n"
     ]
    }
   ],
   "source": [
    "print(cot(\"which task where ownwer is Kiran Shrivatsva\").answer)"
   ]
  },
  {
   "cell_type": "code",
   "execution_count": 129,
   "metadata": {},
   "outputs": [
    {
     "name": "stdout",
     "output_type": "stream",
     "text": [
      "SELECT COUNT(*) FROM tasks WHERE Status IN ('In Progress', 'Development', 'Development Complete', 'Ready for QC', 'Discovery Phase', 'QA level 1 Completed', 'QA Completed', 'QA level 2 in progress')\n"
     ]
    }
   ],
   "source": [
    "print(cot(\"what is the count of tasks which are ongoing\").answer)"
   ]
  },
  {
   "cell_type": "code",
   "execution_count": 130,
   "metadata": {},
   "outputs": [
    {
     "name": "stdout",
     "output_type": "stream",
     "text": [
      "SELECT * FROM tasks WHERE \"Task Delay Time\" > 30;\n"
     ]
    }
   ],
   "source": [
    "print(cot(\"give me records where task delay is more than 30\").answer)"
   ]
  },
  {
   "cell_type": "code",
   "execution_count": 131,
   "metadata": {},
   "outputs": [
    {
     "name": "stdout",
     "output_type": "stream",
     "text": [
      "SELECT \"Task Name\", COUNT(\"Task ID\") AS Revoked_Task_Count FROM tasks WHERE Status = 'Terminated/Cancelled' AND Owner LIKE '%Kiran%';\n"
     ]
    }
   ],
   "source": [
    "print(cot(\"which task are revoked and their count, where founder is Kiran\").answer)"
   ]
  },
  {
   "cell_type": "code",
   "execution_count": null,
   "metadata": {},
   "outputs": [],
   "source": []
  },
  {
   "cell_type": "code",
   "execution_count": 132,
   "metadata": {},
   "outputs": [
    {
     "name": "stdout",
     "output_type": "stream",
     "text": [
      "SELECT [Task Name], [Parent Task ID] FROM tasks ORDER BY [Time Spent So Far] DESC\n"
     ]
    }
   ],
   "source": [
    "print(cot(\"which task has the max time expenditure and give me the parent task id\").answer)"
   ]
  },
  {
   "cell_type": "code",
   "execution_count": null,
   "metadata": {},
   "outputs": [],
   "source": []
  },
  {
   "cell_type": "code",
   "execution_count": 127,
   "metadata": {},
   "outputs": [],
   "source": [
    "abandoned_tasks = df[df['Status'].isin(['Terminated/Cancelled', 'Hold'])]"
   ]
  },
  {
   "cell_type": "code",
   "execution_count": null,
   "metadata": {},
   "outputs": [],
   "source": []
  },
  {
   "cell_type": "code",
   "execution_count": 120,
   "metadata": {},
   "outputs": [
    {
     "data": {
      "text/plain": [
       "\"['Task ID', 'Task Name', 'Owner', 'Priority', 'Start Date', 'Due Date', 'Created Time', 'Status', 'Is Overdue', 'Completion Percentage', 'Project Name', 'Milestone Name', 'Project ID', 'Milestone ID', 'Parent Task ID', 'Created By ID', 'Owner IDs', 'Task Delay Time', 'Task Completion Mode', 'Actual Time Taken', 'Time Spent So Far', 'Duration_1', 'Duration Unit', 'Rate Per Hour', 'Clarity Level', 'QC Owner']\""
      ]
     },
     "execution_count": 120,
     "metadata": {},
     "output_type": "execute_result"
    }
   ],
   "source": [
    "str(list(df.columns))"
   ]
  },
  {
   "cell_type": "code",
   "execution_count": 121,
   "metadata": {},
   "outputs": [
    {
     "data": {
      "text/plain": [
       "array(['To Do', 'In Progress', 'Terminated/Cancelled', 'Development',\n",
       "       'Development Complete', 'Done', 'Ready for QC', 'Discovery Phase',\n",
       "       'QA level 1 Completed', 'QC Passed', 'QA Completed', 'Hold',\n",
       "       'QA level 2 in progress'], dtype=object)"
      ]
     },
     "execution_count": 121,
     "metadata": {},
     "output_type": "execute_result"
    }
   ],
   "source": [
    "df['Status'].unique()"
   ]
  },
  {
   "cell_type": "code",
   "execution_count": 105,
   "metadata": {},
   "outputs": [
    {
     "ename": "KeyError",
     "evalue": "'Task Ending Time'",
     "output_type": "error",
     "traceback": [
      "\u001b[1;31m---------------------------------------------------------------------------\u001b[0m",
      "\u001b[1;31mKeyError\u001b[0m                                  Traceback (most recent call last)",
      "File \u001b[1;32m~\\anaconda3\\envs\\poc\\lib\\site-packages\\pandas\\core\\indexes\\base.py:3805\u001b[0m, in \u001b[0;36mIndex.get_loc\u001b[1;34m(self, key)\u001b[0m\n\u001b[0;32m   3804\u001b[0m \u001b[38;5;28;01mtry\u001b[39;00m:\n\u001b[1;32m-> 3805\u001b[0m     \u001b[38;5;28;01mreturn\u001b[39;00m \u001b[38;5;28;43mself\u001b[39;49m\u001b[38;5;241;43m.\u001b[39;49m\u001b[43m_engine\u001b[49m\u001b[38;5;241;43m.\u001b[39;49m\u001b[43mget_loc\u001b[49m\u001b[43m(\u001b[49m\u001b[43mcasted_key\u001b[49m\u001b[43m)\u001b[49m\n\u001b[0;32m   3806\u001b[0m \u001b[38;5;28;01mexcept\u001b[39;00m \u001b[38;5;167;01mKeyError\u001b[39;00m \u001b[38;5;28;01mas\u001b[39;00m err:\n",
      "File \u001b[1;32mindex.pyx:167\u001b[0m, in \u001b[0;36mpandas._libs.index.IndexEngine.get_loc\u001b[1;34m()\u001b[0m\n",
      "File \u001b[1;32mindex.pyx:196\u001b[0m, in \u001b[0;36mpandas._libs.index.IndexEngine.get_loc\u001b[1;34m()\u001b[0m\n",
      "File \u001b[1;32mpandas\\\\_libs\\\\hashtable_class_helper.pxi:7081\u001b[0m, in \u001b[0;36mpandas._libs.hashtable.PyObjectHashTable.get_item\u001b[1;34m()\u001b[0m\n",
      "File \u001b[1;32mpandas\\\\_libs\\\\hashtable_class_helper.pxi:7089\u001b[0m, in \u001b[0;36mpandas._libs.hashtable.PyObjectHashTable.get_item\u001b[1;34m()\u001b[0m\n",
      "\u001b[1;31mKeyError\u001b[0m: 'Task Ending Time'",
      "\nThe above exception was the direct cause of the following exception:\n",
      "\u001b[1;31mKeyError\u001b[0m                                  Traceback (most recent call last)",
      "Cell \u001b[1;32mIn[105], line 1\u001b[0m\n\u001b[1;32m----> 1\u001b[0m df[(df[\u001b[38;5;124m'\u001b[39m\u001b[38;5;124mStatus\u001b[39m\u001b[38;5;124m'\u001b[39m] \u001b[38;5;241m!=\u001b[39m \u001b[38;5;124m'\u001b[39m\u001b[38;5;124mDone\u001b[39m\u001b[38;5;124m'\u001b[39m) \u001b[38;5;241m&\u001b[39m (\u001b[43mdf\u001b[49m\u001b[43m[\u001b[49m\u001b[38;5;124;43m'\u001b[39;49m\u001b[38;5;124;43mTask Ending Time\u001b[39;49m\u001b[38;5;124;43m'\u001b[39;49m\u001b[43m]\u001b[49m\u001b[38;5;241m.\u001b[39mnotna())]\u001b[38;5;241m.\u001b[39mshape[\u001b[38;5;241m0\u001b[39m]\n",
      "File \u001b[1;32m~\\anaconda3\\envs\\poc\\lib\\site-packages\\pandas\\core\\frame.py:4102\u001b[0m, in \u001b[0;36mDataFrame.__getitem__\u001b[1;34m(self, key)\u001b[0m\n\u001b[0;32m   4100\u001b[0m \u001b[38;5;28;01mif\u001b[39;00m \u001b[38;5;28mself\u001b[39m\u001b[38;5;241m.\u001b[39mcolumns\u001b[38;5;241m.\u001b[39mnlevels \u001b[38;5;241m>\u001b[39m \u001b[38;5;241m1\u001b[39m:\n\u001b[0;32m   4101\u001b[0m     \u001b[38;5;28;01mreturn\u001b[39;00m \u001b[38;5;28mself\u001b[39m\u001b[38;5;241m.\u001b[39m_getitem_multilevel(key)\n\u001b[1;32m-> 4102\u001b[0m indexer \u001b[38;5;241m=\u001b[39m \u001b[38;5;28;43mself\u001b[39;49m\u001b[38;5;241;43m.\u001b[39;49m\u001b[43mcolumns\u001b[49m\u001b[38;5;241;43m.\u001b[39;49m\u001b[43mget_loc\u001b[49m\u001b[43m(\u001b[49m\u001b[43mkey\u001b[49m\u001b[43m)\u001b[49m\n\u001b[0;32m   4103\u001b[0m \u001b[38;5;28;01mif\u001b[39;00m is_integer(indexer):\n\u001b[0;32m   4104\u001b[0m     indexer \u001b[38;5;241m=\u001b[39m [indexer]\n",
      "File \u001b[1;32m~\\anaconda3\\envs\\poc\\lib\\site-packages\\pandas\\core\\indexes\\base.py:3812\u001b[0m, in \u001b[0;36mIndex.get_loc\u001b[1;34m(self, key)\u001b[0m\n\u001b[0;32m   3807\u001b[0m     \u001b[38;5;28;01mif\u001b[39;00m \u001b[38;5;28misinstance\u001b[39m(casted_key, \u001b[38;5;28mslice\u001b[39m) \u001b[38;5;129;01mor\u001b[39;00m (\n\u001b[0;32m   3808\u001b[0m         \u001b[38;5;28misinstance\u001b[39m(casted_key, abc\u001b[38;5;241m.\u001b[39mIterable)\n\u001b[0;32m   3809\u001b[0m         \u001b[38;5;129;01mand\u001b[39;00m \u001b[38;5;28many\u001b[39m(\u001b[38;5;28misinstance\u001b[39m(x, \u001b[38;5;28mslice\u001b[39m) \u001b[38;5;28;01mfor\u001b[39;00m x \u001b[38;5;129;01min\u001b[39;00m casted_key)\n\u001b[0;32m   3810\u001b[0m     ):\n\u001b[0;32m   3811\u001b[0m         \u001b[38;5;28;01mraise\u001b[39;00m InvalidIndexError(key)\n\u001b[1;32m-> 3812\u001b[0m     \u001b[38;5;28;01mraise\u001b[39;00m \u001b[38;5;167;01mKeyError\u001b[39;00m(key) \u001b[38;5;28;01mfrom\u001b[39;00m \u001b[38;5;21;01merr\u001b[39;00m\n\u001b[0;32m   3813\u001b[0m \u001b[38;5;28;01mexcept\u001b[39;00m \u001b[38;5;167;01mTypeError\u001b[39;00m:\n\u001b[0;32m   3814\u001b[0m     \u001b[38;5;66;03m# If we have a listlike key, _check_indexing_error will raise\u001b[39;00m\n\u001b[0;32m   3815\u001b[0m     \u001b[38;5;66;03m#  InvalidIndexError. Otherwise we fall through and re-raise\u001b[39;00m\n\u001b[0;32m   3816\u001b[0m     \u001b[38;5;66;03m#  the TypeError.\u001b[39;00m\n\u001b[0;32m   3817\u001b[0m     \u001b[38;5;28mself\u001b[39m\u001b[38;5;241m.\u001b[39m_check_indexing_error(key)\n",
      "\u001b[1;31mKeyError\u001b[0m: 'Task Ending Time'"
     ]
    }
   ],
   "source": [
    "df[(df['Status'] != 'Done') & (df['Task Ending Time'].notna())].shape[0]"
   ]
  },
  {
   "cell_type": "code",
   "execution_count": null,
   "metadata": {},
   "outputs": [],
   "source": []
  },
  {
   "cell_type": "code",
   "execution_count": 94,
   "metadata": {},
   "outputs": [
    {
     "data": {
      "text/plain": [
       "1928"
      ]
     },
     "execution_count": 94,
     "metadata": {},
     "output_type": "execute_result"
    }
   ],
   "source": [
    "df=example\n",
    "df[df['Status'] != 'Done'].shape[0]"
   ]
  },
  {
   "cell_type": "code",
   "execution_count": 203,
   "metadata": {},
   "outputs": [],
   "source": [
    "class GenerateSearchQuery(dspy.Signature):\n",
    "    \"\"\"Break the question into managable queries.\"\"\"\n",
    "\n",
    "    context = dspy.InputField(desc=\"may contain relevant facts\")\n",
    "    question = dspy.InputField()\n",
    "    query = dspy.OutputField()"
   ]
  },
  {
   "cell_type": "code",
   "execution_count": 208,
   "metadata": {},
   "outputs": [],
   "source": [
    "from dsp.utils import deduplicate\n",
    "\n",
    "class MultiHopChainOfThoughtRAG(dspy.Module):\n",
    "    def __init__(self, passages_per_hop=3, max_hops=2):\n",
    "        super().__init__()\n",
    "\n",
    "        self.generate_query = [dspy.ChainOfThought(GenerateSearchQuery) for _ in range(max_hops)]\n",
    "        self.retrieve = dspy.Retrieve(k=passages_per_hop)\n",
    "        self.generate_answer = dspy.ChainOfThought(RAGSignature)\n",
    "        self.max_hops = max_hops\n",
    "        self.k = passages_per_hop\n",
    "    \n",
    "    def forward(self, question):\n",
    "        context = []\n",
    "        \n",
    "        for hop in range(self.max_hops):\n",
    "            query = self.generate_query[hop](context=context, question=question).query\n",
    "            # print(query)\n",
    "            passages = [dummy_context]#generate_context(query, k=self.k)\n",
    "            context = deduplicate(context + passages)\n",
    "        pred = self.generate_answer(context=context, question=question)\n",
    "        return dspy.Prediction(context=context, answer=pred.answer)"
   ]
  },
  {
   "cell_type": "code",
   "execution_count": 209,
   "metadata": {},
   "outputs": [],
   "source": [
    "rag = MultiHopChainOfThoughtRAG()\n"
   ]
  },
  {
   "cell_type": "code",
   "execution_count": 244,
   "metadata": {},
   "outputs": [],
   "source": [
    "original_question = \"get count of all the tasks with open status\"\n",
    "ques=lm(f\"break this into managable small questions if its simple dont break ita and dont club the questions: {original_question}\")[0].split('?')"
   ]
  },
  {
   "cell_type": "code",
   "execution_count": 245,
   "metadata": {},
   "outputs": [
    {
     "data": {
      "text/plain": [
       "['What is the total count of tasks with an open status', '']"
      ]
     },
     "execution_count": 245,
     "metadata": {},
     "output_type": "execute_result"
    }
   ],
   "source": [
    "ques"
   ]
  },
  {
   "cell_type": "code",
   "execution_count": 237,
   "metadata": {},
   "outputs": [],
   "source": [
    "answers = []\n",
    "for q in ques:\n",
    "   answers.append(cot(q).answer)"
   ]
  },
  {
   "cell_type": "code",
   "execution_count": 238,
   "metadata": {},
   "outputs": [
    {
     "data": {
      "text/plain": [
       "[\"SELECT Status FROM table_name WHERE Task ID = 'task_id';\",\n",
       " \"```sql\\nSELECT * FROM table_name WHERE Status = 'To Do' OR Status = 'In Progress' OR Status = 'Development' OR Status = 'Development Complete' OR Status = 'Ready for QC' OR Status = 'Discovery Phase' OR Status = 'QA level 1 Completed' OR Status = 'QA level 2 in progress'\\n```\",\n",
       " \"```sql\\nSELECT COUNT(*) FROM table_name WHERE Status IN ('To Do', 'In Progress', 'Development', 'Development Complete', 'Ready for QC', 'Discovery Phase', 'QA level 1 Completed', 'QA level 2 in progress')\\n```\",\n",
       " \"```sql\\nSELECT *\\nFROM tasks\\nWHERE Status = 'In Progress';\\n```\"]"
      ]
     },
     "execution_count": 238,
     "metadata": {},
     "output_type": "execute_result"
    }
   ],
   "source": [
    "answers"
   ]
  },
  {
   "cell_type": "code",
   "execution_count": 240,
   "metadata": {},
   "outputs": [],
   "source": [
    "possible_answers = \"\"\"\"SELECT Status FROM table_name WHERE Task ID = 'task_id';\",\n",
    " \"```sql\\nSELECT * FROM table_name WHERE Status = 'To Do' OR Status = 'In Progress' OR Status = 'Development' OR Status = 'Development Complete' OR Status = 'Ready for QC' OR Status = 'Discovery Phase' OR Status = 'QA level 1 Completed' OR Status = 'QA level 2 in progress'\\n```\",\n",
    " \"```sql\\nSELECT COUNT(*) FROM table_name WHERE Status IN ('To Do', 'In Progress', 'Development', 'Development Complete', 'Ready for QC', 'Discovery Phase', 'QA level 1 Completed', 'QA level 2 in progress')\\n```\",\n",
    " \"```sql\\nSELECT *\\nFROM tasks\\nWHERE Status = 'In Progress';\\n```\"\"\""
   ]
  },
  {
   "cell_type": "code",
   "execution_count": 243,
   "metadata": {},
   "outputs": [
    {
     "data": {
      "text/plain": [
       "[\"SELECT * FROM table_name WHERE Status = 'In Progress';\"]"
      ]
     },
     "execution_count": 243,
     "metadata": {},
     "output_type": "execute_result"
    }
   ],
   "source": [
    "lm(f\"which of the query sumarizes the best provide it and correct if any mistakes and only give an sql query{possible_answers}\")"
   ]
  },
  {
   "cell_type": "code",
   "execution_count": 212,
   "metadata": {},
   "outputs": [],
   "source": [
    "response = rag(\"which task are abandoned and their count, where is Kiran %\")"
   ]
  },
  {
   "cell_type": "code",
   "execution_count": null,
   "metadata": {},
   "outputs": [],
   "source": []
  },
  {
   "cell_type": "code",
   "execution_count": 220,
   "metadata": {},
   "outputs": [
    {
     "name": "stdout",
     "output_type": "stream",
     "text": [
      "```sql\n",
      "SELECT * FROM table_name WHERE Status IN ('Terminated/Cancelled', 'Hold');\n",
      "```\n"
     ]
    }
   ],
   "source": [
    "print(cot(\"Find all tasks that are abandoned\").answer)"
   ]
  },
  {
   "cell_type": "code",
   "execution_count": 219,
   "metadata": {},
   "outputs": [
    {
     "name": "stdout",
     "output_type": "stream",
     "text": [
      "```sql\n",
      "SELECT COUNT(*) FROM table_name WHERE Status IN ('Terminated/Cancelled', 'Hold');\n",
      "```\n"
     ]
    }
   ],
   "source": [
    "print(cot(\"Count the number of abandoned tasks\").answer)"
   ]
  },
  {
   "cell_type": "code",
   "execution_count": 222,
   "metadata": {},
   "outputs": [
    {
     "name": "stdout",
     "output_type": "stream",
     "text": [
      "```sql\n",
      "SELECT * FROM table_name WHERE Owner = 'Kiran Shrivastav';\n",
      "```\n"
     ]
    }
   ],
   "source": [
    "print(cot(\"Find tasks where the owner is Kiran Shrivastav\").answer)"
   ]
  },
  {
   "cell_type": "code",
   "execution_count": 213,
   "metadata": {},
   "outputs": [
    {
     "name": "stdout",
     "output_type": "stream",
     "text": [
      "```sql\n",
      "SELECT TaskName, COUNT(*) AS AbandonedCount \n",
      "FROM table_name \n",
      "WHERE Status IN ('Terminated/Cancelled', 'Hold') AND Owner = 'Kiran' \n",
      "GROUP BY TaskName\n",
      "```\n"
     ]
    }
   ],
   "source": [
    "print(response.answer)"
   ]
  },
  {
   "cell_type": "code",
   "execution_count": null,
   "metadata": {},
   "outputs": [],
   "source": []
  },
  {
   "cell_type": "code",
   "execution_count": 193,
   "metadata": {},
   "outputs": [
    {
     "name": "stdout",
     "output_type": "stream",
     "text": [
      "\n",
      "\n",
      "\n",
      "INSTRUCTION: You are a SQL god, Provide SQL queries based on given question and only give CODE or else huge penalty.\n",
      "\n",
      "---\n",
      "\n",
      "Follow the following format.\n",
      "\n",
      "Context: You will be given a sample row which will contain flattened values of table in the format column name: Value lookout for synonyms as well\n",
      "\n",
      "Question: ${question}\n",
      "\n",
      "Reasoning: Let's think step by step in order to ${produce the answer}. We ...\n",
      "\n",
      "Answer: SQL code only\n",
      "\n",
      "---\n",
      "\n",
      "Context:\n",
      "[1] «Task ID: 749813000020466048\n",
      "Task Name: Support request on Re: Appraisee View\n",
      "Task Creation Time: 2024-02-20 13:57:00\n",
      "Task Ending Time: 2024-02-20 19:00:00\n",
      "Status: To Do\n",
      "Created By: 791842987\n",
      "Owner: Kiran Shrivastav\n",
      "Project Details:\n",
      "    Priority: nan\n",
      "    Description: N/A\n",
      "    Dependencies: N/A\n",
      "    Estimated Hours: N/A\n",
      "    Actual Hours: 28.0\n",
      "    Notes: N/A\n",
      "»\n",
      "[2] «Task ID: 749813000020024064\n",
      "Task Name: Call with Bhavani\n",
      "Task Creation Time: 2024-01-10 19:14:00\n",
      "Task Ending Time: 2024-01-10 19:00:00\n",
      "Status: Done\n",
      "Created By: 791842987\n",
      "Owner: Kiran Shrivastav\n",
      "Project Details:\n",
      "    Priority: nan\n",
      "    Description: N/A\n",
      "    Dependencies: N/A\n",
      "    Estimated Hours: N/A\n",
      "    Actual Hours: 2.0\n",
      "    Notes: N/A\n",
      "»\n",
      "[3] «Task ID: 749813000019943040\n",
      "Task Name: Statutory details\n",
      "Task Creation Time: 2024-01-04 14:17:00\n",
      "Task Ending Time: 2024-01-25 19:00:00\n",
      "Status: Done\n",
      "Created By: 791842987\n",
      "Owner: Kiran Shrivastav\n",
      "Project Details:\n",
      "    Priority: nan\n",
      "    Description: N/A\n",
      "    Dependencies: N/A\n",
      "    Estimated Hours: N/A\n",
      "    Actual Hours: 27.0\n",
      "    Notes: N/A\n",
      "»\n",
      "[4] «Task ID: 749813000020558976\n",
      "Task Name: Vikram Singh self appraisal issue\n",
      "Task Creation Time: 2024-02-29 14:18:00\n",
      "Task Ending Time: 2024-03-01 19:00:00\n",
      "Status: To Do\n",
      "Created By: 791842987\n",
      "Owner: Kiran Shrivastav\n",
      "Project Details:\n",
      "    Priority: nan\n",
      "    Description: N/A\n",
      "    Dependencies: N/A\n",
      "    Estimated Hours: N/A\n",
      "    Actual Hours: 19.0\n",
      "    Notes: N/A\n",
      "»\n",
      "[5] «Task ID: 749813000019965056\n",
      "Task Name: Call on Annual appraisal form\n",
      "Task Creation Time: 2024-01-08 12:41:00\n",
      "Task Ending Time: 2024-01-08 19:00:00\n",
      "Status: Done\n",
      "Created By: 791842987\n",
      "Owner: Kiran Shrivastav\n",
      "Project Details:\n",
      "    Priority: nan\n",
      "    Description: N/A\n",
      "    Dependencies: N/A\n",
      "    Estimated Hours: N/A\n",
      "    Actual Hours: 4.0\n",
      "    Notes: N/A\n",
      "»\n",
      "[6] «Task ID: 749813000020624000\n",
      "Task Name: scheduled attendance records at the end of every month to the finance team.\n",
      "Task Creation Time: 2024-03-08 09:30:00\n",
      "Task Ending Time: 2024-02-26 19:00:00\n",
      "Status: To Do\n",
      "Created By: 791842987\n",
      "Owner: Kiran Shrivastav\n",
      "Project Details:\n",
      "    Priority: nan\n",
      "    Description: N/A\n",
      "    Dependencies: N/A\n",
      "    Estimated Hours: N/A\n",
      "    Actual Hours: 22.0\n",
      "    Notes: N/A\n",
      "»\n",
      "\n",
      "Question: which task are abandoned and their count, where is Kiran Shrivastav\n",
      "\n",
      "Reasoning: Let's think step by step in order to Answer: ```sql SELECT TaskName, COUNT(*) AS Abandoned_Count FROM Tasks WHERE Status = 'To Do' AND Owner = 'Kiran Shrivastav' GROUP BY TaskName ```\n",
      "\n",
      "Answer: ```sql\n",
      "SELECT TaskName, COUNT(*) AS Abandoned_Count \n",
      "FROM Tasks \n",
      "WHERE Status = 'To Do' AND Owner = 'Kiran Shrivastav' \n",
      "GROUP BY TaskName\n",
      "```\n",
      "\n",
      "\n",
      "\n"
     ]
    },
    {
     "data": {
      "text/plain": [
       "\"\\n\\n\\nINSTRUCTION: You are a SQL god, Provide SQL queries based on given question and only give CODE or else huge penalty.\\n\\n---\\n\\nFollow the following format.\\n\\nContext: You will be given a sample row which will contain flattened values of table in the format column name: Value lookout for synonyms as well\\n\\nQuestion: ${question}\\n\\nReasoning: Let's think step by step in order to ${produce the answer}. We ...\\n\\nAnswer: SQL code only\\n\\n---\\n\\nContext:\\n[1] «Task ID: 749813000020466048\\nTask Name: Support request on Re: Appraisee View\\nTask Creation Time: 2024-02-20 13:57:00\\nTask Ending Time: 2024-02-20 19:00:00\\nStatus: To Do\\nCreated By: 791842987\\nOwner: Kiran Shrivastav\\nProject Details:\\n    Priority: nan\\n    Description: N/A\\n    Dependencies: N/A\\n    Estimated Hours: N/A\\n    Actual Hours: 28.0\\n    Notes: N/A\\n»\\n[2] «Task ID: 749813000020024064\\nTask Name: Call with Bhavani\\nTask Creation Time: 2024-01-10 19:14:00\\nTask Ending Time: 2024-01-10 19:00:00\\nStatus: Done\\nCreated By: 791842987\\nOwner: Kiran Shrivastav\\nProject Details:\\n    Priority: nan\\n    Description: N/A\\n    Dependencies: N/A\\n    Estimated Hours: N/A\\n    Actual Hours: 2.0\\n    Notes: N/A\\n»\\n[3] «Task ID: 749813000019943040\\nTask Name: Statutory details\\nTask Creation Time: 2024-01-04 14:17:00\\nTask Ending Time: 2024-01-25 19:00:00\\nStatus: Done\\nCreated By: 791842987\\nOwner: Kiran Shrivastav\\nProject Details:\\n    Priority: nan\\n    Description: N/A\\n    Dependencies: N/A\\n    Estimated Hours: N/A\\n    Actual Hours: 27.0\\n    Notes: N/A\\n»\\n[4] «Task ID: 749813000020558976\\nTask Name: Vikram Singh self appraisal issue\\nTask Creation Time: 2024-02-29 14:18:00\\nTask Ending Time: 2024-03-01 19:00:00\\nStatus: To Do\\nCreated By: 791842987\\nOwner: Kiran Shrivastav\\nProject Details:\\n    Priority: nan\\n    Description: N/A\\n    Dependencies: N/A\\n    Estimated Hours: N/A\\n    Actual Hours: 19.0\\n    Notes: N/A\\n»\\n[5] «Task ID: 749813000019965056\\nTask Name: Call on Annual appraisal form\\nTask Creation Time: 2024-01-08 12:41:00\\nTask Ending Time: 2024-01-08 19:00:00\\nStatus: Done\\nCreated By: 791842987\\nOwner: Kiran Shrivastav\\nProject Details:\\n    Priority: nan\\n    Description: N/A\\n    Dependencies: N/A\\n    Estimated Hours: N/A\\n    Actual Hours: 4.0\\n    Notes: N/A\\n»\\n[6] «Task ID: 749813000020624000\\nTask Name: scheduled attendance records at the end of every month to the finance team.\\nTask Creation Time: 2024-03-08 09:30:00\\nTask Ending Time: 2024-02-26 19:00:00\\nStatus: To Do\\nCreated By: 791842987\\nOwner: Kiran Shrivastav\\nProject Details:\\n    Priority: nan\\n    Description: N/A\\n    Dependencies: N/A\\n    Estimated Hours: N/A\\n    Actual Hours: 22.0\\n    Notes: N/A\\n»\\n\\nQuestion: which task are abandoned and their count, where is Kiran Shrivastav\\n\\nReasoning: Let's think step by step in order to Answer: ```sql SELECT TaskName, COUNT(*) AS Abandoned_Count FROM Tasks WHERE Status = 'To Do' AND Owner = 'Kiran Shrivastav' GROUP BY TaskName ```\\n\\nAnswer:\\x1b[32m ```sql\\nSELECT TaskName, COUNT(*) AS Abandoned_Count \\nFROM Tasks \\nWHERE Status = 'To Do' AND Owner = 'Kiran Shrivastav' \\nGROUP BY TaskName\\n```\\x1b[0m\\n\\n\\n\""
      ]
     },
     "execution_count": 193,
     "metadata": {},
     "output_type": "execute_result"
    }
   ],
   "source": [
    "lm.inspect_history(1)"
   ]
  },
  {
   "cell_type": "code",
   "execution_count": 6,
   "metadata": {},
   "outputs": [
    {
     "name": "stdout",
     "output_type": "stream",
     "text": [
      "[{'milestone_task_count': 3856}]\n"
     ]
    }
   ],
   "source": [
    "import requests\n",
    "\n",
    "url = \"http://127.0.0.1:5000/query\"\n",
    "data = {\n",
    "    \"query\": \"give me count of milestones task\",\n",
    "    \"db_name\": \"postgres\"\n",
    "}\n",
    "response = requests.post(url, json=data)\n",
    "\n",
    "print(response.json())"
   ]
  }
 ],
 "metadata": {
  "kernelspec": {
   "display_name": "Python 3 (ipykernel)",
   "language": "python",
   "name": "python3"
  },
  "language_info": {
   "codemirror_mode": {
    "name": "ipython",
    "version": 3
   },
   "file_extension": ".py",
   "mimetype": "text/x-python",
   "name": "python",
   "nbconvert_exporter": "python",
   "pygments_lexer": "ipython3",
   "version": "3.10.12"
  }
 },
 "nbformat": 4,
 "nbformat_minor": 4
}
