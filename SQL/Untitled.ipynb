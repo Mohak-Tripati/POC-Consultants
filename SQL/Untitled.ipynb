{
 "cells": [
  {
   "cell_type": "code",
   "execution_count": 2,
   "id": "cd51a9b2-2efd-4668-90d5-f867f992285f",
   "metadata": {},
   "outputs": [
    {
     "name": "stderr",
     "output_type": "stream",
     "text": [
      "ERROR: pip's dependency resolver does not currently take into account all the packages that are installed. This behaviour is the source of the following dependency conflicts.\n",
      "langchain 0.2.11 requires langchain-core<0.3.0,>=0.2.23, but you have langchain-core 0.2.9 which is incompatible.\n",
      "langchain-text-splitters 0.2.2 requires langchain-core<0.3.0,>=0.2.10, but you have langchain-core 0.2.9 which is incompatible.\n"
     ]
    }
   ],
   "source": [
    "!pip install -qU  langchain-core==0.2.9\n",
    "!pip install -qU langchain-community==0.2.5\n",
    "!pip install -qU  crewai[tools]==0.32.0\n",
    "!pip install -qU langchain-groq==0.1.5"
   ]
  },
  {
   "cell_type": "code",
   "execution_count": 5,
   "id": "27a0d148-7c23-431c-b332-f45ee80ffed3",
   "metadata": {},
   "outputs": [],
   "source": [
    "import pandas as pd"
   ]
  },
  {
   "cell_type": "code",
   "execution_count": 16,
   "id": "e0c2c46c-e4f7-4913-8e75-e46417293c62",
   "metadata": {},
   "outputs": [],
   "source": [
    "import json\n",
    "import os\n",
    "import sqlite3\n",
    "from dataclasses import asdict, dataclass\n",
    "from datetime import datetime, timezone\n",
    "from pathlib import Path\n",
    "from textwrap import dedent\n",
    "from typing import Any, Dict, List, Tuple, Union\n",
    "\n",
    "import pandas as pd\n",
    "from crewai import Agent, Crew, Process, Task\n",
    "from crewai_tools import tool\n",
    "# from google.colab import userdata\n",
    "from langchain.schema import AgentFinish\n",
    "from langchain.schema.output import LLMResult\n",
    "from langchain_community.tools.sql_database.tool import (\n",
    "    InfoSQLDatabaseTool,\n",
    "    ListSQLDatabaseTool,\n",
    "    QuerySQLCheckerTool,\n",
    "    QuerySQLDataBaseTool,\n",
    ")\n",
    "from langchain_community.utilities.sql_database import SQLDatabase\n",
    "from langchain_core.callbacks.base import BaseCallbackHandler\n",
    "from langchain_core.prompts import ChatPromptTemplate\n",
    "from langchain_groq import ChatGroq\n"
   ]
  },
  {
   "cell_type": "code",
   "execution_count": 7,
   "id": "9407463e-3eac-413c-9a51-a0e049bc413a",
   "metadata": {
    "scrolled": true
   },
   "outputs": [
    {
     "data": {
      "text/html": [
       "<div>\n",
       "<style scoped>\n",
       "    .dataframe tbody tr th:only-of-type {\n",
       "        vertical-align: middle;\n",
       "    }\n",
       "\n",
       "    .dataframe tbody tr th {\n",
       "        vertical-align: top;\n",
       "    }\n",
       "\n",
       "    .dataframe thead th {\n",
       "        text-align: right;\n",
       "    }\n",
       "</style>\n",
       "<table border=\"1\" class=\"dataframe\">\n",
       "  <thead>\n",
       "    <tr style=\"text-align: right;\">\n",
       "      <th></th>\n",
       "      <th>Task ID</th>\n",
       "      <th>Task Name</th>\n",
       "      <th>Owner</th>\n",
       "      <th>Priority</th>\n",
       "      <th>Start Date</th>\n",
       "      <th>Due Date</th>\n",
       "      <th>Created Time</th>\n",
       "      <th>Status</th>\n",
       "      <th>Is Overdue</th>\n",
       "      <th>Completion Percentage</th>\n",
       "      <th>...</th>\n",
       "      <th>Owner IDs</th>\n",
       "      <th>Task Delay Time</th>\n",
       "      <th>Task Completion Mode</th>\n",
       "      <th>Actual Time Taken</th>\n",
       "      <th>Time Spent So Far</th>\n",
       "      <th>Duration_1</th>\n",
       "      <th>Duration Unit</th>\n",
       "      <th>Rate Per Hour</th>\n",
       "      <th>Clarity Level</th>\n",
       "      <th>QC Owner</th>\n",
       "    </tr>\n",
       "  </thead>\n",
       "  <tbody>\n",
       "    <tr>\n",
       "      <th>0</th>\n",
       "      <td>749813000020764032</td>\n",
       "      <td>Create Partial Invoice</td>\n",
       "      <td>Shavi Thakur</td>\n",
       "      <td>NaN</td>\n",
       "      <td>2024-03-15 09:30:00</td>\n",
       "      <td>2024-03-15 19:00:00</td>\n",
       "      <td>2024-03-15 18:26:00</td>\n",
       "      <td>To Do</td>\n",
       "      <td>Yes</td>\n",
       "      <td>0.0</td>\n",
       "      <td>...</td>\n",
       "      <td>773081417</td>\n",
       "      <td>3.0</td>\n",
       "      <td>Late</td>\n",
       "      <td>4.0</td>\n",
       "      <td>4</td>\n",
       "      <td>1.00</td>\n",
       "      <td>days</td>\n",
       "      <td>NaN</td>\n",
       "      <td>Clear</td>\n",
       "      <td>Mohammed Yusha</td>\n",
       "    </tr>\n",
       "    <tr>\n",
       "      <th>1</th>\n",
       "      <td>749813000020764032</td>\n",
       "      <td>CEEW -Daily Team Catchup</td>\n",
       "      <td>Stuti S. Kulshrestha</td>\n",
       "      <td>NaN</td>\n",
       "      <td>2024-03-15 09:30:00</td>\n",
       "      <td>2024-03-15 19:00:00</td>\n",
       "      <td>2024-03-15 09:41:00</td>\n",
       "      <td>In Progress</td>\n",
       "      <td>Yes</td>\n",
       "      <td>0.1</td>\n",
       "      <td>...</td>\n",
       "      <td>808004288</td>\n",
       "      <td>3.0</td>\n",
       "      <td>Late</td>\n",
       "      <td>4.0</td>\n",
       "      <td>4</td>\n",
       "      <td>1.00</td>\n",
       "      <td>days</td>\n",
       "      <td>NaN</td>\n",
       "      <td>Clear</td>\n",
       "      <td>Stuti S. Kulshrestha</td>\n",
       "    </tr>\n",
       "    <tr>\n",
       "      <th>2</th>\n",
       "      <td>749813000020761984</td>\n",
       "      <td>Auto populate Business Description and References</td>\n",
       "      <td>Pavan S</td>\n",
       "      <td>NaN</td>\n",
       "      <td>2024-03-16 14:15:00</td>\n",
       "      <td>2024-03-16 18:30:00</td>\n",
       "      <td>2024-03-16 14:11:00</td>\n",
       "      <td>To Do</td>\n",
       "      <td>Yes</td>\n",
       "      <td>0.0</td>\n",
       "      <td>...</td>\n",
       "      <td>845599619</td>\n",
       "      <td>2.0</td>\n",
       "      <td>Late</td>\n",
       "      <td>3.0</td>\n",
       "      <td>3</td>\n",
       "      <td>4.25</td>\n",
       "      <td>hrs</td>\n",
       "      <td>NaN</td>\n",
       "      <td>Not Clear</td>\n",
       "      <td>NaN</td>\n",
       "    </tr>\n",
       "    <tr>\n",
       "      <th>3</th>\n",
       "      <td>749813000020761984</td>\n",
       "      <td>OEM and Prod Category Reports</td>\n",
       "      <td>Achyuth T M</td>\n",
       "      <td>High</td>\n",
       "      <td>2024-03-15 09:30:00</td>\n",
       "      <td>2024-03-22 19:00:00</td>\n",
       "      <td>2024-03-15 10:27:00</td>\n",
       "      <td>In Progress</td>\n",
       "      <td>No</td>\n",
       "      <td>0.0</td>\n",
       "      <td>...</td>\n",
       "      <td>708853094</td>\n",
       "      <td>-4.0</td>\n",
       "      <td>On Time</td>\n",
       "      <td>4.0</td>\n",
       "      <td>4</td>\n",
       "      <td>6.00</td>\n",
       "      <td>days</td>\n",
       "      <td>NaN</td>\n",
       "      <td>NaN</td>\n",
       "      <td>NaN</td>\n",
       "    </tr>\n",
       "    <tr>\n",
       "      <th>4</th>\n",
       "      <td>749813000020760960</td>\n",
       "      <td>Map App status with Zoho</td>\n",
       "      <td>Vikram Pai V</td>\n",
       "      <td>NaN</td>\n",
       "      <td>2024-03-15 09:30:00</td>\n",
       "      <td>2024-03-15 19:00:00</td>\n",
       "      <td>2024-03-15 13:24:00</td>\n",
       "      <td>To Do</td>\n",
       "      <td>Yes</td>\n",
       "      <td>0.0</td>\n",
       "      <td>...</td>\n",
       "      <td>845596686</td>\n",
       "      <td>3.0</td>\n",
       "      <td>Late</td>\n",
       "      <td>4.0</td>\n",
       "      <td>4</td>\n",
       "      <td>1.00</td>\n",
       "      <td>days</td>\n",
       "      <td>NaN</td>\n",
       "      <td>NaN</td>\n",
       "      <td>NaN</td>\n",
       "    </tr>\n",
       "  </tbody>\n",
       "</table>\n",
       "<p>5 rows × 26 columns</p>\n",
       "</div>"
      ],
      "text/plain": [
       "              Task ID                                          Task Name  \\\n",
       "0  749813000020764032                             Create Partial Invoice   \n",
       "1  749813000020764032                           CEEW -Daily Team Catchup   \n",
       "2  749813000020761984  Auto populate Business Description and References   \n",
       "3  749813000020761984                      OEM and Prod Category Reports   \n",
       "4  749813000020760960                           Map App status with Zoho   \n",
       "\n",
       "                  Owner Priority          Start Date            Due Date  \\\n",
       "0          Shavi Thakur      NaN 2024-03-15 09:30:00 2024-03-15 19:00:00   \n",
       "1  Stuti S. Kulshrestha      NaN 2024-03-15 09:30:00 2024-03-15 19:00:00   \n",
       "2               Pavan S      NaN 2024-03-16 14:15:00 2024-03-16 18:30:00   \n",
       "3           Achyuth T M     High 2024-03-15 09:30:00 2024-03-22 19:00:00   \n",
       "4          Vikram Pai V      NaN 2024-03-15 09:30:00 2024-03-15 19:00:00   \n",
       "\n",
       "         Created Time       Status Is Overdue  Completion Percentage  ...  \\\n",
       "0 2024-03-15 18:26:00        To Do        Yes                    0.0  ...   \n",
       "1 2024-03-15 09:41:00  In Progress        Yes                    0.1  ...   \n",
       "2 2024-03-16 14:11:00        To Do        Yes                    0.0  ...   \n",
       "3 2024-03-15 10:27:00  In Progress         No                    0.0  ...   \n",
       "4 2024-03-15 13:24:00        To Do        Yes                    0.0  ...   \n",
       "\n",
       "   Owner IDs Task Delay Time  Task Completion Mode  Actual Time Taken  \\\n",
       "0  773081417             3.0                  Late                4.0   \n",
       "1  808004288             3.0                  Late                4.0   \n",
       "2  845599619             2.0                  Late                3.0   \n",
       "3  708853094            -4.0               On Time                4.0   \n",
       "4  845596686             3.0                  Late                4.0   \n",
       "\n",
       "   Time Spent So Far  Duration_1 Duration Unit  Rate Per Hour Clarity Level  \\\n",
       "0                  4        1.00          days            NaN         Clear   \n",
       "1                  4        1.00          days            NaN         Clear   \n",
       "2                  3        4.25           hrs            NaN     Not Clear   \n",
       "3                  4        6.00          days            NaN           NaN   \n",
       "4                  4        1.00          days            NaN           NaN   \n",
       "\n",
       "               QC Owner  \n",
       "0        Mohammed Yusha  \n",
       "1  Stuti S. Kulshrestha  \n",
       "2                   NaN  \n",
       "3                   NaN  \n",
       "4                   NaN  \n",
       "\n",
       "[5 rows x 26 columns]"
      ]
     },
     "execution_count": 7,
     "metadata": {},
     "output_type": "execute_result"
    }
   ],
   "source": [
    "df = pd.read_excel(r\"C:\\Users\\HP\\Documents\\POC_X\\Tasks 1.xlsx\")\n",
    "df.head()"
   ]
  },
  {
   "cell_type": "code",
   "execution_count": null,
   "id": "1b62df35-e158-40ed-a129-6be32912245e",
   "metadata": {},
   "outputs": [],
   "source": []
  },
  {
   "cell_type": "code",
   "execution_count": 12,
   "id": "ee79715a-7e0c-4326-8e05-133ee370ec68",
   "metadata": {},
   "outputs": [],
   "source": [
    "import sqlite3"
   ]
  },
  {
   "cell_type": "code",
   "execution_count": 13,
   "id": "a63d217e-7061-45ed-9afe-161fbc6f55f5",
   "metadata": {},
   "outputs": [
    {
     "data": {
      "text/plain": [
       "3302"
      ]
     },
     "execution_count": 13,
     "metadata": {},
     "output_type": "execute_result"
    }
   ],
   "source": [
    "connection = sqlite3.connect(\"tasks.db\")\n",
    "df.to_sql(name=\"tasks\", con=connection)"
   ]
  },
  {
   "cell_type": "code",
   "execution_count": null,
   "id": "fb1b065f-d566-43d1-9580-77fafe6aa977",
   "metadata": {},
   "outputs": [],
   "source": []
  },
  {
   "cell_type": "code",
   "execution_count": 17,
   "id": "ac5f2f31-1ee8-4228-9597-e8d1f35d94d5",
   "metadata": {},
   "outputs": [],
   "source": [
    "db = SQLDatabase.from_uri(\"sqlite:///tasks.db\")"
   ]
  },
  {
   "cell_type": "code",
   "execution_count": 22,
   "id": "5bcecdaa-8199-448b-9b73-ed5d568d1191",
   "metadata": {},
   "outputs": [],
   "source": [
    "query=\"\"\"\n",
    "SELECT COUNT(*) AS Abandoned_Task_Count \n",
    "FROM tasks \n",
    "WHERE Status = 'Terminated/Cancelled';\"\"\"\n",
    "\n",
    "query1=\"\"\"SELECT COUNT(*) FROM tasks WHERE Status IN ('In Progress', 'Development', 'Development Complete', 'Ready for QC', 'Discovery Phase', 'QA level 1 Completed', 'QA level 2 in progress');\"\"\""
   ]
  },
  {
   "cell_type": "code",
   "execution_count": null,
   "id": "785fc932-7dce-44f0-a86a-8ba456e30e50",
   "metadata": {},
   "outputs": [],
   "source": [
    "query2=\"\"\"\n",
    "SELECT * FROM tasks\n",
    "WHERE \"Task Delay Time\" > 30;\n",
    "\"\"\""
   ]
  },
  {
   "cell_type": "code",
   "execution_count": 52,
   "id": "18f7145a-6f9d-4a3f-9995-64a60e903d78",
   "metadata": {},
   "outputs": [],
   "source": [
    "query2=\"\"\"\n",
    "SELECT * FROM tasks WHERE \"Task Delay Time\" > 30\n",
    "\"\"\""
   ]
  },
  {
   "cell_type": "code",
   "execution_count": 93,
   "id": "f4d7732a-0d2f-4c39-ab6b-160bf9b5f9da",
   "metadata": {},
   "outputs": [],
   "source": [
    "query3 = \"SELECT * FROM tasks WHERE Owner LIKE '%Kiran%'\""
   ]
  },
  {
   "cell_type": "code",
   "execution_count": 99,
   "id": "4204806f-a033-4a78-9722-de6c67c9ca81",
   "metadata": {},
   "outputs": [],
   "source": [
    "query4=\"\"\"\n",
    "SELECT * FROM tasks WHERE Owner IDs LIKE '%,%'\n",
    "\"\"\""
   ]
  },
  {
   "cell_type": "code",
   "execution_count": null,
   "id": "2a02afb8-a5f8-414d-9e95-333872803e3d",
   "metadata": {},
   "outputs": [],
   "source": []
  },
  {
   "cell_type": "code",
   "execution_count": 90,
   "id": "c6cb4d9c-4838-44df-ab66-009f5dc50e03",
   "metadata": {},
   "outputs": [
    {
     "data": {
      "text/plain": [
       "Index(['Task ID', 'Task Name', 'Owner', 'Priority', 'Start Date', 'Due Date',\n",
       "       'Created Time', 'Status', 'Is Overdue', 'Completion Percentage',\n",
       "       'Project Name', 'Milestone Name', 'Project ID', 'Milestone ID',\n",
       "       'Parent Task ID', 'Created By ID', 'Owner IDs', 'Task Delay Time',\n",
       "       'Task Completion Mode', 'Actual Time Taken', 'Time Spent So Far',\n",
       "       'Duration_1', 'Duration Unit', 'Rate Per Hour', 'Clarity Level',\n",
       "       'QC Owner'],\n",
       "      dtype='object')"
      ]
     },
     "execution_count": 90,
     "metadata": {},
     "output_type": "execute_result"
    }
   ],
   "source": [
    "df.columns"
   ]
  },
  {
   "cell_type": "code",
   "execution_count": null,
   "id": "7f354c6e-42ce-453a-94a6-adfe7a5824fa",
   "metadata": {},
   "outputs": [],
   "source": []
  },
  {
   "cell_type": "code",
   "execution_count": 91,
   "id": "ee455d89-917d-464f-a68f-d50128c41668",
   "metadata": {},
   "outputs": [],
   "source": [
    "# @tool(\"tables_schema\")\n",
    "# def tables_schema(tables: str) -> str:\n",
    "#     \"\"\"\n",
    "#     Input is a comma-separated list of tables, output is the schema and sample rows\n",
    "#     for those tables. Be sure that the tables actually exist by calling `list_tables` first!\n",
    "#     Example Input: table1, table2, table3\n",
    "#     \"\"\"\n",
    "#     tool = InfoSQLDatabaseTool(db=db)\n",
    "#     return tool.invoke(tables)\n",
    "\n",
    "# print(tables_schema.run(\"tasks\"))"
   ]
  },
  {
   "cell_type": "code",
   "execution_count": 110,
   "id": "273e2b4c-745a-4a9a-95e5-976d92d1562a",
   "metadata": {},
   "outputs": [
    {
     "name": "stdout",
     "output_type": "stream",
     "text": [
      "Using Tool: execute_sql\n"
     ]
    },
    {
     "data": {
      "text/plain": [
       "''"
      ]
     },
     "execution_count": 110,
     "metadata": {},
     "output_type": "execute_result"
    }
   ],
   "source": [
    "@tool(\"execute_sql\")\n",
    "def execute_sql(sql_query: str) -> str:\n",
    "    \"\"\"Execute a SQL query against the database. Returns the result\"\"\"\n",
    "    return QuerySQLDataBaseTool(db=db).invoke(sql_query)\n",
    "\n",
    "execute_sql.run(\"\"\"SELECT * FROM tasks WHERE Owner LIKE '%Darhani%'\"\"\")"
   ]
  },
  {
   "cell_type": "code",
   "execution_count": 107,
   "id": "60fd4888-27fb-41df-8ccb-4d6239553ad1",
   "metadata": {},
   "outputs": [
    {
     "data": {
      "text/plain": [
       "0        3.0\n",
       "1        3.0\n",
       "2        2.0\n",
       "3       -4.0\n",
       "4        3.0\n",
       "        ... \n",
       "3297     0.0\n",
       "3298    80.0\n",
       "3299     6.0\n",
       "3300    76.0\n",
       "3301    11.0\n",
       "Name: Task Delay Time, Length: 3302, dtype: float64"
      ]
     },
     "execution_count": 107,
     "metadata": {},
     "output_type": "execute_result"
    }
   ],
   "source": [
    "df['Task Delay Time']"
   ]
  },
  {
   "cell_type": "code",
   "execution_count": null,
   "id": "d347aa1e-01fb-4fc1-90b0-bc407cc4f6ac",
   "metadata": {},
   "outputs": [],
   "source": []
  }
 ],
 "metadata": {
  "kernelspec": {
   "display_name": "Python 3 (ipykernel)",
   "language": "python",
   "name": "python3"
  },
  "language_info": {
   "codemirror_mode": {
    "name": "ipython",
    "version": 3
   },
   "file_extension": ".py",
   "mimetype": "text/x-python",
   "name": "python",
   "nbconvert_exporter": "python",
   "pygments_lexer": "ipython3",
   "version": "3.10.14"
  }
 },
 "nbformat": 4,
 "nbformat_minor": 5
}
