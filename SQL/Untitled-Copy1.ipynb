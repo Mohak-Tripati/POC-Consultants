{
 "cells": [
  {
   "cell_type": "code",
   "execution_count": 2,
   "id": "cd51a9b2-2efd-4668-90d5-f867f992285f",
   "metadata": {},
   "outputs": [
    {
     "name": "stderr",
     "output_type": "stream",
     "text": [
      "ERROR: pip's dependency resolver does not currently take into account all the packages that are installed. This behaviour is the source of the following dependency conflicts.\n",
      "langchain 0.2.11 requires langchain-core<0.3.0,>=0.2.23, but you have langchain-core 0.2.9 which is incompatible.\n",
      "langchain-text-splitters 0.2.2 requires langchain-core<0.3.0,>=0.2.10, but you have langchain-core 0.2.9 which is incompatible.\n"
     ]
    }
   ],
   "source": [
    "!pip install -qU  langchain-core==0.2.9\n",
    "!pip install -qU langchain-community==0.2.5\n",
    "!pip install -qU  crewai[tools]==0.32.0\n",
    "!pip install -qU langchain-groq==0.1.5"
   ]
  },
  {
   "cell_type": "code",
   "execution_count": 1,
   "id": "27a0d148-7c23-431c-b332-f45ee80ffed3",
   "metadata": {},
   "outputs": [],
   "source": [
    "import pandas as pd"
   ]
  },
  {
   "cell_type": "code",
   "execution_count": 2,
   "id": "e0c2c46c-e4f7-4913-8e75-e46417293c62",
   "metadata": {},
   "outputs": [],
   "source": [
    "import json\n",
    "import os\n",
    "import sqlite3\n",
    "from dataclasses import asdict, dataclass\n",
    "from datetime import datetime, timezone\n",
    "from pathlib import Path\n",
    "from textwrap import dedent\n",
    "from typing import Any, Dict, List, Tuple, Union\n",
    "\n",
    "import pandas as pd\n",
    "from crewai import Agent, Crew, Process, Task\n",
    "from crewai_tools import tool\n",
    "# from google.colab import userdata\n",
    "from langchain.schema import AgentFinish\n",
    "from langchain.schema.output import LLMResult\n",
    "from langchain_community.tools.sql_database.tool import (\n",
    "    InfoSQLDatabaseTool,\n",
    "    ListSQLDatabaseTool,\n",
    "    QuerySQLCheckerTool,\n",
    "    QuerySQLDataBaseTool,\n",
    ")\n",
    "from langchain_community.utilities.sql_database import SQLDatabase\n",
    "from langchain_core.callbacks.base import BaseCallbackHandler\n",
    "from langchain_core.prompts import ChatPromptTemplate\n",
    "from langchain_groq import ChatGroq\n"
   ]
  },
  {
   "cell_type": "code",
   "execution_count": 3,
   "id": "9407463e-3eac-413c-9a51-a0e049bc413a",
   "metadata": {
    "scrolled": true
   },
   "outputs": [
    {
     "data": {
      "text/html": [
       "<div>\n",
       "<style scoped>\n",
       "    .dataframe tbody tr th:only-of-type {\n",
       "        vertical-align: middle;\n",
       "    }\n",
       "\n",
       "    .dataframe tbody tr th {\n",
       "        vertical-align: top;\n",
       "    }\n",
       "\n",
       "    .dataframe thead th {\n",
       "        text-align: right;\n",
       "    }\n",
       "</style>\n",
       "<table border=\"1\" class=\"dataframe\">\n",
       "  <thead>\n",
       "    <tr style=\"text-align: right;\">\n",
       "      <th></th>\n",
       "      <th>Project Name</th>\n",
       "      <th>Milestone Name</th>\n",
       "      <th>Owner Name</th>\n",
       "      <th>Start Date</th>\n",
       "      <th>End Date</th>\n",
       "      <th>Milestone Status</th>\n",
       "      <th>Milestone ID</th>\n",
       "      <th>Owner ID</th>\n",
       "      <th>Project ID</th>\n",
       "      <th>Created Time</th>\n",
       "      <th>Duration</th>\n",
       "      <th>Actual Time Taken</th>\n",
       "      <th>Milestone Completion Mode</th>\n",
       "      <th>Milestone ID String</th>\n",
       "      <th>Project ID String</th>\n",
       "    </tr>\n",
       "  </thead>\n",
       "  <tbody>\n",
       "    <tr>\n",
       "      <th>0</th>\n",
       "      <td>Airowire - Zoho Analytics</td>\n",
       "      <td>Milestone Two-Implementation of Zoho Analytics</td>\n",
       "      <td>Uday Desai</td>\n",
       "      <td>2024-01-09 09:30:00</td>\n",
       "      <td>2024-03-22 19:00:00</td>\n",
       "      <td>Upcoming</td>\n",
       "      <td>749813000020001024</td>\n",
       "      <td>43003637</td>\n",
       "      <td>749813000020003968</td>\n",
       "      <td>2024-01-09 15:40:00</td>\n",
       "      <td>74</td>\n",
       "      <td>70</td>\n",
       "      <td>On Time</td>\n",
       "      <td>749813000020001024</td>\n",
       "      <td>749813000020003968</td>\n",
       "    </tr>\n",
       "    <tr>\n",
       "      <th>1</th>\n",
       "      <td>NMDSC - Zoho Connect</td>\n",
       "      <td>Milestone Two-Implementation completion of Zoh...</td>\n",
       "      <td>Prableen Kaur</td>\n",
       "      <td>2024-03-11 00:00:00</td>\n",
       "      <td>2024-03-29 23:59:00</td>\n",
       "      <td>Upcoming</td>\n",
       "      <td>749813000020594048</td>\n",
       "      <td>792886644</td>\n",
       "      <td>749813000020593024</td>\n",
       "      <td>2024-03-06 10:20:00</td>\n",
       "      <td>19</td>\n",
       "      <td>8</td>\n",
       "      <td>On Time</td>\n",
       "      <td>749813000020594048</td>\n",
       "      <td>749813000020593024</td>\n",
       "    </tr>\n",
       "    <tr>\n",
       "      <th>2</th>\n",
       "      <td>Juspay - Zoho Desk &amp; Zoho SalesIQ - PA</td>\n",
       "      <td>Milestone Three-Annual maintenance charges - P...</td>\n",
       "      <td>Uday Desai</td>\n",
       "      <td>2024-04-01 00:00:00</td>\n",
       "      <td>2025-03-31 23:59:00</td>\n",
       "      <td>Upcoming</td>\n",
       "      <td>749813000020686976</td>\n",
       "      <td>43003637</td>\n",
       "      <td>749813000020685952</td>\n",
       "      <td>2024-03-12 19:26:00</td>\n",
       "      <td>365</td>\n",
       "      <td>-13</td>\n",
       "      <td>On Time</td>\n",
       "      <td>749813000020686976</td>\n",
       "      <td>749813000020685952</td>\n",
       "    </tr>\n",
       "    <tr>\n",
       "      <th>3</th>\n",
       "      <td>CEEW - Zoho ONE - ERP Implementation</td>\n",
       "      <td>Milestone Two-Implementation of Zoho Creator -...</td>\n",
       "      <td>Vignesh R</td>\n",
       "      <td>2024-02-01 00:00:00</td>\n",
       "      <td>2024-03-15 00:00:00</td>\n",
       "      <td>Overdue</td>\n",
       "      <td>749813000020093056</td>\n",
       "      <td>704175602</td>\n",
       "      <td>749813000020089984</td>\n",
       "      <td>2024-01-16 14:48:00</td>\n",
       "      <td>44</td>\n",
       "      <td>47</td>\n",
       "      <td>Late</td>\n",
       "      <td>749813000020093056</td>\n",
       "      <td>749813000020089984</td>\n",
       "    </tr>\n",
       "    <tr>\n",
       "      <th>4</th>\n",
       "      <td>CEEW - Zoho ONE - ERP Implementation</td>\n",
       "      <td>Milestone Four-Implementation of Zoho Books - ...</td>\n",
       "      <td>Stuti S. Kulshrestha</td>\n",
       "      <td>2024-03-13 00:00:00</td>\n",
       "      <td>2024-04-09 23:59:00</td>\n",
       "      <td>Upcoming</td>\n",
       "      <td>749813000020093952</td>\n",
       "      <td>808004288</td>\n",
       "      <td>749813000020089984</td>\n",
       "      <td>2024-01-16 14:48:00</td>\n",
       "      <td>28</td>\n",
       "      <td>6</td>\n",
       "      <td>On Time</td>\n",
       "      <td>749813000020093952</td>\n",
       "      <td>749813000020089984</td>\n",
       "    </tr>\n",
       "  </tbody>\n",
       "</table>\n",
       "</div>"
      ],
      "text/plain": [
       "                             Project Name  \\\n",
       "0               Airowire - Zoho Analytics   \n",
       "1                    NMDSC - Zoho Connect   \n",
       "2  Juspay - Zoho Desk & Zoho SalesIQ - PA   \n",
       "3    CEEW - Zoho ONE - ERP Implementation   \n",
       "4    CEEW - Zoho ONE - ERP Implementation   \n",
       "\n",
       "                                      Milestone Name            Owner Name  \\\n",
       "0     Milestone Two-Implementation of Zoho Analytics            Uday Desai   \n",
       "1  Milestone Two-Implementation completion of Zoh...         Prableen Kaur   \n",
       "2  Milestone Three-Annual maintenance charges - P...            Uday Desai   \n",
       "3  Milestone Two-Implementation of Zoho Creator -...             Vignesh R   \n",
       "4  Milestone Four-Implementation of Zoho Books - ...  Stuti S. Kulshrestha   \n",
       "\n",
       "           Start Date            End Date Milestone Status  \\\n",
       "0 2024-01-09 09:30:00 2024-03-22 19:00:00         Upcoming   \n",
       "1 2024-03-11 00:00:00 2024-03-29 23:59:00         Upcoming   \n",
       "2 2024-04-01 00:00:00 2025-03-31 23:59:00         Upcoming   \n",
       "3 2024-02-01 00:00:00 2024-03-15 00:00:00          Overdue   \n",
       "4 2024-03-13 00:00:00 2024-04-09 23:59:00         Upcoming   \n",
       "\n",
       "         Milestone ID   Owner ID          Project ID        Created Time  \\\n",
       "0  749813000020001024   43003637  749813000020003968 2024-01-09 15:40:00   \n",
       "1  749813000020594048  792886644  749813000020593024 2024-03-06 10:20:00   \n",
       "2  749813000020686976   43003637  749813000020685952 2024-03-12 19:26:00   \n",
       "3  749813000020093056  704175602  749813000020089984 2024-01-16 14:48:00   \n",
       "4  749813000020093952  808004288  749813000020089984 2024-01-16 14:48:00   \n",
       "\n",
       "   Duration  Actual Time Taken Milestone Completion Mode  Milestone ID String  \\\n",
       "0        74                 70                   On Time   749813000020001024   \n",
       "1        19                  8                   On Time   749813000020594048   \n",
       "2       365                -13                   On Time   749813000020686976   \n",
       "3        44                 47                      Late   749813000020093056   \n",
       "4        28                  6                   On Time   749813000020093952   \n",
       "\n",
       "    Project ID String  \n",
       "0  749813000020003968  \n",
       "1  749813000020593024  \n",
       "2  749813000020685952  \n",
       "3  749813000020089984  \n",
       "4  749813000020089984  "
      ]
     },
     "execution_count": 3,
     "metadata": {},
     "output_type": "execute_result"
    }
   ],
   "source": [
    "df = pd.read_excel(r\"C:\\Users\\HP\\Documents\\POC_X\\Milestones 1.xlsx\")\n",
    "df.head()"
   ]
  },
  {
   "cell_type": "code",
   "execution_count": null,
   "id": "1b62df35-e158-40ed-a129-6be32912245e",
   "metadata": {},
   "outputs": [],
   "source": []
  },
  {
   "cell_type": "code",
   "execution_count": 4,
   "id": "ee79715a-7e0c-4326-8e05-133ee370ec68",
   "metadata": {},
   "outputs": [],
   "source": [
    "import sqlite3"
   ]
  },
  {
   "cell_type": "code",
   "execution_count": 5,
   "id": "a63d217e-7061-45ed-9afe-161fbc6f55f5",
   "metadata": {},
   "outputs": [
    {
     "data": {
      "text/plain": [
       "78"
      ]
     },
     "execution_count": 5,
     "metadata": {},
     "output_type": "execute_result"
    }
   ],
   "source": [
    "connection = sqlite3.connect(\"milestones.db\")\n",
    "df.to_sql(name=\"milestones\", con=connection)"
   ]
  },
  {
   "cell_type": "code",
   "execution_count": null,
   "id": "fb1b065f-d566-43d1-9580-77fafe6aa977",
   "metadata": {},
   "outputs": [],
   "source": []
  },
  {
   "cell_type": "code",
   "execution_count": 39,
   "id": "ac5f2f31-1ee8-4228-9597-e8d1f35d94d5",
   "metadata": {},
   "outputs": [],
   "source": [
    "db = SQLDatabase.from_uri(\"sqlite:///milestones.db\")"
   ]
  },
  {
   "cell_type": "code",
   "execution_count": 49,
   "id": "3efc860b-e654-4b46-8efc-7407a099659f",
   "metadata": {},
   "outputs": [],
   "source": [
    "query=\"\"\"\n",
    "SELECT [Milestone Name], [Duration] \n",
    "FROM milestones \n",
    "WHERE [Milestone Name] LIKE '%zoho crm%'\"\"\""
   ]
  },
  {
   "cell_type": "code",
   "execution_count": 52,
   "id": "8e73e172-21b0-4451-a57a-d5472a4f6eb0",
   "metadata": {},
   "outputs": [],
   "source": [
    "query1=\"\"\"SELECT DISTINCT \"Project Name\" FROM milestones WHERE \"Owner Name\" LIKE '%Waheeba%'\"\"\""
   ]
  },
  {
   "cell_type": "code",
   "execution_count": 59,
   "id": "273e2b4c-745a-4a9a-95e5-976d92d1562a",
   "metadata": {},
   "outputs": [
    {
     "name": "stdout",
     "output_type": "stream",
     "text": [
      "Using Tool: execute_sql\n"
     ]
    },
    {
     "data": {
      "text/plain": [
       "'Error: (sqlite3.OperationalError) near \"Time\": syntax error\\n[SQL: SELECT * FROM milestones WHERE Duration > Actual Time Taken;]\\n(Background on this error at: https://sqlalche.me/e/20/e3q8)'"
      ]
     },
     "execution_count": 59,
     "metadata": {},
     "output_type": "execute_result"
    }
   ],
   "source": [
    "@tool(\"execute_sql\")\n",
    "def execute_sql(sql_query: str) -> str:\n",
    "    \"\"\"Execute a SQL query against the database. Returns the result\"\"\"\n",
    "    return QuerySQLDataBaseTool(db=db).invoke(sql_query)\n",
    "\n",
    "execute_sql.run(\"\"\"SELECT * FROM milestones WHERE Duration > Actual Time Taken;\"\"\")"
   ]
  },
  {
   "cell_type": "code",
   "execution_count": null,
   "id": "7be015df-6de9-4377-b110-5ad7892bc86a",
   "metadata": {},
   "outputs": [],
   "source": []
  }
 ],
 "metadata": {
  "kernelspec": {
   "display_name": "Python 3 (ipykernel)",
   "language": "python",
   "name": "python3"
  },
  "language_info": {
   "codemirror_mode": {
    "name": "ipython",
    "version": 3
   },
   "file_extension": ".py",
   "mimetype": "text/x-python",
   "name": "python",
   "nbconvert_exporter": "python",
   "pygments_lexer": "ipython3",
   "version": "3.10.14"
  }
 },
 "nbformat": 4,
 "nbformat_minor": 5
}
